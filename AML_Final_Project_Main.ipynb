{
  "nbformat": 4,
  "nbformat_minor": 0,
  "metadata": {
    "colab": {
      "name": "AML_Final_Project.ipynb",
      "provenance": [],
      "collapsed_sections": []
    },
    "kernelspec": {
      "name": "python3",
      "display_name": "Python 3"
    },
    "language_info": {
      "name": "python"
    }
  },
  "cells": [
    {
      "cell_type": "code",
      "metadata": {
        "id": "AMJdez8SYNKw"
      },
      "source": [
        "import numpy as np\n",
        "import string\n",
        "import nltk\n",
        "from nltk.stem import WordNetLemmatizer\n",
        "from nltk.corpus import stopwords\n",
        "from sklearn.feature_extraction.text import CountVectorizer\n",
        "from sklearn.linear_model import LogisticRegression\n",
        "from sklearn.metrics import f1_score\n",
        "from matplotlib import pylab as plt\n",
        "import matplotlib.cm as cm\n",
        "from sklearn.linear_model import LogisticRegression\n",
        "from sklearn.neighbors import NearestNeighbors\n",
        "from sklearn.cluster import KMeans\n",
        "from scipy.stats import multivariate_normal\n",
        "from scipy.special import logsumexp\n",
        "import pandas as pd\n",
        "%matplotlib inline"
      ],
      "execution_count": null,
      "outputs": []
    },
    {
      "cell_type": "code",
      "metadata": {
        "colab": {
          "base_uri": "https://localhost:8080/"
        },
        "id": "RoavzKh6lbBO",
        "outputId": "3afb6d6a-386a-4be2-d79f-77443d1db465"
      },
      "source": [
        "nltk.download('punkt')\n",
        "nltk.download('wordnet')\n",
        "nltk.download('stopwords')"
      ],
      "execution_count": null,
      "outputs": [
        {
          "output_type": "stream",
          "name": "stdout",
          "text": [
            "[nltk_data] Downloading package punkt to /root/nltk_data...\n",
            "[nltk_data]   Unzipping tokenizers/punkt.zip.\n",
            "[nltk_data] Downloading package wordnet to /root/nltk_data...\n",
            "[nltk_data]   Unzipping corpora/wordnet.zip.\n",
            "[nltk_data] Downloading package stopwords to /root/nltk_data...\n",
            "[nltk_data]   Unzipping corpora/stopwords.zip.\n"
          ]
        },
        {
          "output_type": "execute_result",
          "data": {
            "text/plain": [
              "True"
            ]
          },
          "metadata": {},
          "execution_count": 4
        }
      ]
    },
    {
      "cell_type": "code",
      "metadata": {
        "id": "dxTZ7LWcYQ3-",
        "colab": {
          "base_uri": "https://localhost:8080/"
        },
        "outputId": "6765680b-3944-464f-b040-7f0e77e50e34"
      },
      "source": [
        "raw_kaggle_songs = pd.read_csv('labeled_songs.csv')\n",
        "#spotify_songs = pd.read_csv('happy_songs(preprocess1).csv')\n",
        "raw_kaggle_songs.shape"
      ],
      "execution_count": null,
      "outputs": [
        {
          "output_type": "execute_result",
          "data": {
            "text/plain": [
              "(15405, 27)"
            ]
          },
          "metadata": {},
          "execution_count": 5
        }
      ]
    },
    {
      "cell_type": "code",
      "metadata": {
        "id": "1XUa7f9uZ9YH"
      },
      "source": [
        "# from google.colab import drive\n",
        "# drive.mount('/content/drive')"
      ],
      "execution_count": null,
      "outputs": []
    },
    {
      "cell_type": "code",
      "metadata": {
        "id": "64g7sLm_ZF5L",
        "colab": {
          "base_uri": "https://localhost:8080/",
          "height": 834
        },
        "outputId": "0ff88ee6-18ff-469e-a65d-47ce5cef6fff"
      },
      "source": [
        "# happy_songs = kaggle_songs.loc[kaggle_songs['label'] == 'Joy'].sample(n=1000, random_state=1).reset_index(drop=True)\n",
        "# split training/test set\n",
        "kaggle_songs = raw_kaggle_songs.sample(n=7000, random_state=1).reset_index(drop=True)\n",
        "test = pd.concat([raw_kaggle_songs, kaggle_songs]).drop_duplicates(keep=False).sample(n=7000, random_state=1).reset_index(drop=True)\n",
        "\n",
        "# TODO: actually need to include all songs, add column isHappy and set 1 if yes, otherwise 0\n",
        "kaggle_songs['isHappy'] = kaggle_songs.apply(lambda row: 1 if row['label'] == 'Joy' else 0, axis=1)\n",
        "kaggle_songs['isSad'] = kaggle_songs.apply(lambda row: 1 if row['label'] == 'Sadness' else 0, axis=1)\n",
        "test['isHappy'] = test.apply(lambda row: 1 if row['label'] == 'Joy' else 0, axis=1)\n",
        "test['isSad'] = test.apply(lambda row: 1 if row['label'] == 'Sadness' else 0, axis=1)\n",
        "# kaggle_songs.head(5)\n",
        "test.head(5)"
      ],
      "execution_count": null,
      "outputs": [
        {
          "output_type": "execute_result",
          "data": {
            "text/html": [
              "<div>\n",
              "<style scoped>\n",
              "    .dataframe tbody tr th:only-of-type {\n",
              "        vertical-align: middle;\n",
              "    }\n",
              "\n",
              "    .dataframe tbody tr th {\n",
              "        vertical-align: top;\n",
              "    }\n",
              "\n",
              "    .dataframe thead th {\n",
              "        text-align: right;\n",
              "    }\n",
              "</style>\n",
              "<table border=\"1\" class=\"dataframe\">\n",
              "  <thead>\n",
              "    <tr style=\"text-align: right;\">\n",
              "      <th></th>\n",
              "      <th>Unnamed: 0</th>\n",
              "      <th>track_id</th>\n",
              "      <th>track_name</th>\n",
              "      <th>track_artist</th>\n",
              "      <th>lyrics</th>\n",
              "      <th>track_popularity</th>\n",
              "      <th>track_album_id</th>\n",
              "      <th>track_album_name</th>\n",
              "      <th>track_album_release_date</th>\n",
              "      <th>playlist_name</th>\n",
              "      <th>playlist_id</th>\n",
              "      <th>playlist_genre</th>\n",
              "      <th>playlist_subgenre</th>\n",
              "      <th>danceability</th>\n",
              "      <th>energy</th>\n",
              "      <th>key</th>\n",
              "      <th>loudness</th>\n",
              "      <th>mode</th>\n",
              "      <th>speechiness</th>\n",
              "      <th>acousticness</th>\n",
              "      <th>instrumentalness</th>\n",
              "      <th>liveness</th>\n",
              "      <th>valence</th>\n",
              "      <th>tempo</th>\n",
              "      <th>duration_ms</th>\n",
              "      <th>language</th>\n",
              "      <th>label</th>\n",
              "      <th>isHappy</th>\n",
              "      <th>isSad</th>\n",
              "    </tr>\n",
              "  </thead>\n",
              "  <tbody>\n",
              "    <tr>\n",
              "      <th>0</th>\n",
              "      <td>4422</td>\n",
              "      <td>1VFObW6RUUrKjWY0SahdMa</td>\n",
              "      <td>Are We Cool?</td>\n",
              "      <td>Mike Vallas</td>\n",
              "      <td>Are we cool? Is it all ok? Are we cool? Is it ...</td>\n",
              "      <td>37</td>\n",
              "      <td>0cc7f7pA20slPrte2Goc5I</td>\n",
              "      <td>Are We Cool?</td>\n",
              "      <td>2019-10-15</td>\n",
              "      <td>Electropop</td>\n",
              "      <td>2Z5cPJ6Z4EVZAfF08amjvL</td>\n",
              "      <td>pop</td>\n",
              "      <td>electropop</td>\n",
              "      <td>0.498</td>\n",
              "      <td>0.493</td>\n",
              "      <td>6</td>\n",
              "      <td>-8.428</td>\n",
              "      <td>1</td>\n",
              "      <td>0.0385</td>\n",
              "      <td>0.1680</td>\n",
              "      <td>0.000002</td>\n",
              "      <td>0.2150</td>\n",
              "      <td>0.293</td>\n",
              "      <td>180.066</td>\n",
              "      <td>188187</td>\n",
              "      <td>en</td>\n",
              "      <td>Sadness</td>\n",
              "      <td>0</td>\n",
              "      <td>1</td>\n",
              "    </tr>\n",
              "    <tr>\n",
              "      <th>1</th>\n",
              "      <td>1591</td>\n",
              "      <td>0q9YVW7oLuDqxfjGTxb7Lx</td>\n",
              "      <td>Lick It Up</td>\n",
              "      <td>KISS</td>\n",
              "      <td>Yeah, yeah Don't want to wait until you know m...</td>\n",
              "      <td>0</td>\n",
              "      <td>3gbTIe7lJK7Xf33012sGIF</td>\n",
              "      <td>Discoveries</td>\n",
              "      <td>2008-10-20</td>\n",
              "      <td>Classic Hard Rock</td>\n",
              "      <td>1gAeQGQ7hr2q7IYmaejDW6</td>\n",
              "      <td>rock</td>\n",
              "      <td>hard rock</td>\n",
              "      <td>0.668</td>\n",
              "      <td>0.846</td>\n",
              "      <td>2</td>\n",
              "      <td>-4.149</td>\n",
              "      <td>1</td>\n",
              "      <td>0.0563</td>\n",
              "      <td>0.1090</td>\n",
              "      <td>0.000032</td>\n",
              "      <td>0.3200</td>\n",
              "      <td>0.529</td>\n",
              "      <td>120.276</td>\n",
              "      <td>236013</td>\n",
              "      <td>en</td>\n",
              "      <td>Joy</td>\n",
              "      <td>1</td>\n",
              "      <td>0</td>\n",
              "    </tr>\n",
              "    <tr>\n",
              "      <th>2</th>\n",
              "      <td>13399</td>\n",
              "      <td>5QIKZWOHDPbGh5EpSqCXMG</td>\n",
              "      <td>All the Things</td>\n",
              "      <td>Gaullin</td>\n",
              "      <td>All the things she said All the things she sai...</td>\n",
              "      <td>65</td>\n",
              "      <td>7fhzGoeqXEdVWVdxymGBHJ</td>\n",
              "      <td>All the Things</td>\n",
              "      <td>2018-02-07</td>\n",
              "      <td>🔊BASSBOOSTED🔊⚡ELECTRO HOUSE⚡🔥EDM CAR MUSIC2018...</td>\n",
              "      <td>4GSiiL8tcMgvoV7K1IADb8</td>\n",
              "      <td>edm</td>\n",
              "      <td>electro house</td>\n",
              "      <td>0.776</td>\n",
              "      <td>0.634</td>\n",
              "      <td>7</td>\n",
              "      <td>-10.345</td>\n",
              "      <td>1</td>\n",
              "      <td>0.1060</td>\n",
              "      <td>0.0102</td>\n",
              "      <td>0.168000</td>\n",
              "      <td>0.1190</td>\n",
              "      <td>0.475</td>\n",
              "      <td>125.043</td>\n",
              "      <td>174745</td>\n",
              "      <td>en</td>\n",
              "      <td>Joy</td>\n",
              "      <td>1</td>\n",
              "      <td>0</td>\n",
              "    </tr>\n",
              "    <tr>\n",
              "      <th>3</th>\n",
              "      <td>4722</td>\n",
              "      <td>1zK7i2QyuCmpYE209BMcPZ</td>\n",
              "      <td>Son And Daughter - Remastered 2011</td>\n",
              "      <td>Queen</td>\n",
              "      <td>I want you, ahh Woman Tried to be a son and da...</td>\n",
              "      <td>34</td>\n",
              "      <td>1kkb8xlG9yssEVsWKiEtAB</td>\n",
              "      <td>Queen (2011 Remaster)</td>\n",
              "      <td>1973-07-13</td>\n",
              "      <td>The Queen - La Discografia Completa</td>\n",
              "      <td>3E88dLx4fgFYY70gdGzdnB</td>\n",
              "      <td>rock</td>\n",
              "      <td>album rock</td>\n",
              "      <td>0.328</td>\n",
              "      <td>0.723</td>\n",
              "      <td>2</td>\n",
              "      <td>-7.842</td>\n",
              "      <td>1</td>\n",
              "      <td>0.0434</td>\n",
              "      <td>0.1300</td>\n",
              "      <td>0.085700</td>\n",
              "      <td>0.3690</td>\n",
              "      <td>0.749</td>\n",
              "      <td>144.832</td>\n",
              "      <td>199533</td>\n",
              "      <td>en</td>\n",
              "      <td>Joy</td>\n",
              "      <td>1</td>\n",
              "      <td>0</td>\n",
              "    </tr>\n",
              "    <tr>\n",
              "      <th>4</th>\n",
              "      <td>17104</td>\n",
              "      <td>7CMAwm7mEkZkkaBl82DicE</td>\n",
              "      <td>2 Of Amerikaz Most Wanted - (Explicit)</td>\n",
              "      <td>2Pac</td>\n",
              "      <td>Up out of there Ain't nothin' but a gangsta pa...</td>\n",
              "      <td>1</td>\n",
              "      <td>3oaGekoJ37K0waoYjDzaRr</td>\n",
              "      <td>The Best of 2Pac - Pt. 1: Thug</td>\n",
              "      <td>2007-12-04</td>\n",
              "      <td>Gangsta Rap/90's Hip-Hop</td>\n",
              "      <td>62spXXfUxBed8nbd5xvH2O</td>\n",
              "      <td>rap</td>\n",
              "      <td>gangster rap</td>\n",
              "      <td>0.710</td>\n",
              "      <td>0.905</td>\n",
              "      <td>1</td>\n",
              "      <td>-2.578</td>\n",
              "      <td>1</td>\n",
              "      <td>0.3240</td>\n",
              "      <td>0.0391</td>\n",
              "      <td>0.000930</td>\n",
              "      <td>0.0562</td>\n",
              "      <td>0.817</td>\n",
              "      <td>198.500</td>\n",
              "      <td>246147</td>\n",
              "      <td>en</td>\n",
              "      <td>Fear</td>\n",
              "      <td>0</td>\n",
              "      <td>0</td>\n",
              "    </tr>\n",
              "  </tbody>\n",
              "</table>\n",
              "</div>"
            ],
            "text/plain": [
              "   Unnamed: 0                track_id  ... isHappy isSad\n",
              "0        4422  1VFObW6RUUrKjWY0SahdMa  ...       0     1\n",
              "1        1591  0q9YVW7oLuDqxfjGTxb7Lx  ...       1     0\n",
              "2       13399  5QIKZWOHDPbGh5EpSqCXMG  ...       1     0\n",
              "3        4722  1zK7i2QyuCmpYE209BMcPZ  ...       1     0\n",
              "4       17104  7CMAwm7mEkZkkaBl82DicE  ...       0     0\n",
              "\n",
              "[5 rows x 29 columns]"
            ]
          },
          "metadata": {},
          "execution_count": 6
        }
      ]
    },
    {
      "cell_type": "markdown",
      "metadata": {
        "id": "wUL9WSZdnFVx"
      },
      "source": [
        "PREPROCESSING"
      ]
    },
    {
      "cell_type": "code",
      "metadata": {
        "id": "oKD-Hvd-ex08"
      },
      "source": [
        "# PREPROCESSING\n",
        "# happy_songs = happy_songs.drop_duplicates()\n",
        "kaggle_songs = kaggle_songs.drop_duplicates()\n",
        "\n",
        "def lemmatize(text):\n",
        "  lemmatizer = WordNetLemmatizer()\n",
        "  tokenization = nltk.word_tokenize(text)\n",
        "  return ' '.join([lemmatizer.lemmatize(words) for words in tokenization ])\n",
        "\n",
        "def strip_punct(text):\n",
        "  table = str.maketrans(dict.fromkeys(string.punctuation))\n",
        "  return text.translate(table)\n",
        "\n",
        "def strip_stop(unwanted_word_list, text):\n",
        "  return ' '.join(['' if word in unwanted_word_list else word for word in text.split()])\n",
        "\n",
        "#convert to lowercase\n",
        "kaggle_songs[\"lyrics\"] = kaggle_songs[\"lyrics\"].str.lower()\n",
        "test[\"lyrics\"] = test[\"lyrics\"].str.lower()\n",
        "\n",
        "# Strip punctuation\n",
        "kaggle_songs[\"lyrics\"] = kaggle_songs[\"lyrics\"].apply(lambda x: strip_punct(x))\n",
        "test[\"lyrics\"] = test[\"lyrics\"].apply(lambda x: strip_punct(x))\n",
        "\n",
        "# # Lemmatize all the words\n",
        "stemmer = WordNetLemmatizer()\n",
        "kaggle_songs[\"lyrics\"] = kaggle_songs[\"lyrics\"].apply(lambda x: lemmatize(x))\n",
        "test[\"lyrics\"] = test[\"lyrics\"].apply(lambda x: lemmatize(x))\n",
        "\n",
        "# # Strip stop words\n",
        "stop_words = stopwords.words('english')\n",
        "kaggle_songs[\"lyrics\"] = kaggle_songs[\"lyrics\"].apply(lambda x: strip_stop(stop_words, x))\n",
        "test[\"lyrics\"] = test[\"lyrics\"].apply(lambda x: strip_stop(stop_words, x))\n",
        "\n",
        "# import nltk \n",
        "# #nltk.download()\n",
        "# from nltk.stem import WordNetLemmatizer\n",
        "\n",
        "# lemmatizer = WordNetLemmatizer()\n",
        "\n",
        "# lemmWords = []\n",
        "# lemmWords2 = []\n",
        "\n",
        "# for i, row in trainingSet.iterrows():\n",
        "#     tokenization = nltk.word_tokenize(row[\"text\"])\n",
        "#     lemmatized_string = ' '.join([lemmatizer.lemmatize(words) for words in tokenization ])\n",
        "#     lemmWords.append(lemmatized_string)\n",
        "    \n",
        "# for i, row in developmentSet.iterrows():\n",
        "#     tokenization = nltk.word_tokenize(row[\"text\"])\n",
        "#     lemmatized_string = ' '.join([lemmatizer.lemmatize(words) for words in tokenization ])\n",
        "#     lemmWords2.append(lemmatized_string)\n",
        "\n",
        "\n",
        "# trainingSet[\"text\"] = lemmWords\n",
        "# developmentSet[\"text\"] = lemmWords2\n",
        "\n",
        "#remove stop words \n",
        "# from nltk.corpus import stopwords\n",
        "# stop = stopwords.words('english')\n",
        "\n",
        "# trainingSet[\"text\"] = trainingSet[\"text\"].apply(lambda words: ' '.join(word.lower() for word in words.split() if word not in stop))\n",
        "# developmentSet[\"text\"] = developmentSet[\"text\"].apply(lambda words: ' '.join(word.lower() for word in words.split() if word not in stop))\n"
      ],
      "execution_count": null,
      "outputs": []
    },
    {
      "cell_type": "code",
      "metadata": {
        "id": "npSD_a4lfrsg",
        "colab": {
          "base_uri": "https://localhost:8080/",
          "height": 140
        },
        "outputId": "4e77c183-1eb7-4012-bc3a-2167b155d0df"
      },
      "source": [
        "kaggle_songs['lyrics'][0]"
      ],
      "execution_count": null,
      "outputs": [
        {
          "output_type": "execute_result",
          "data": {
            "application/vnd.google.colaboratory.intrinsic+json": {
              "type": "string"
            },
            "text/plain": [
              "'time fly    night  young daylight shine   undisclosed location location bloodshot eye looking   sun paradise  lived    called   vacation vacation youre painting   dream   wan na belong  wan na belong    hill  far away  million mile  la  anywhere away    know weve got  get away someplace   one know  name well find  start  something new  take  anywhere take  anywhere anywhere away    take  anywhere anywhere take  anywhere anywhere away   fun little le fun little le      mememe  mememe     oh fun little le fun little le      mememe  mememe     truth come    blacking  looking  connection   crowd  empty face empty face  secret    thing im craving   good   bad let   cause  could take   could take  youre painting   dream   wan na belong  wan na belong  wan na belong    hill  far away  million mile  la  anywhere away    know weve got  get away someplace   one know  name well find  start  something new  take  anywhere anywhere take  anywhere anywhere away   fun little le fun little le      mememe  mememe     oh fun little le fun little le      mememe  mememe     take  anywhere oh anywhere anywhere away   take  anywhere   hill  far away  million mile  la  anywhere away   oh anywhere anywhere anywhere love  know weve got  get away someplace   one know  name well find  start  something new oh well find  start  something new  take  anywhere anywhere take  anywhere anywhere anywhere away   anywhere anywhere anywhere oh  take  anywhere take  anywhere oh take  anywhere love anywhere away   anywhere anywhere anywhere fun little le fun little le      anywhere away   mememe  mememe     oh'"
            ]
          },
          "metadata": {},
          "execution_count": 14
        }
      ]
    },
    {
      "cell_type": "markdown",
      "metadata": {
        "id": "Ud3v0ST1nNtB"
      },
      "source": [
        "Bag of Words Model"
      ]
    },
    {
      "cell_type": "code",
      "metadata": {
        "colab": {
          "base_uri": "https://localhost:8080/"
        },
        "id": "exDD8fHvnPqB",
        "outputId": "19125adc-7ea1-41d5-e209-c58c4ff37f45"
      },
      "source": [
        "vectorizer = CountVectorizer(binary=True, min_df=5)\n",
        "X_kaggle = vectorizer.fit_transform(kaggle_songs['lyrics'])\n",
        "\n",
        "print('Size of Vocabulary/Features:', X_kaggle.shape[1])\n",
        "print('vectorizer:', vectorizer.get_feature_names())"
      ],
      "execution_count": null,
      "outputs": [
        {
          "output_type": "stream",
          "name": "stdout",
          "text": [
            "Size of Vocabulary/Features: 8077\n",
            "vectorizer: ['03', '10', '100', '101', '11', '110', '12', '123', '13', '14', '15', '150', '16', '17', '18', '180', '187', '19', '1st', '20', '200', '2000', '2019', '21', '22', '23', '24', '247', '25', '27', '29', '2pac', '2x', '30', '300', '305', '36', '360', '38', '3d', '3rd', '3x', '40', '400', '42', '44', '45', '45s', '4th', '4x', '50', '500', '5th', '60', '62', '64', '69', '70', '711', '7th', '80', '800', '808', '84', '85', '88', '8ball', '90', '911', '92', '93', '94', '95', '96', '98', '99', 'aa', 'aah', 'aaliyah', 'aap', 'aaron', 'abandon', 'abandoned', 'abc', 'abide', 'ability', 'ablaze', 'able', 'aboard', 'absence', 'absolute', 'abuse', 'abused', 'abusing', 'abyss', 'ac', 'accent', 'accept', 'accepted', 'accident', 'account', 'accountant', 'accused', 'ace', 'ache', 'achieve', 'aching', 'acid', 'acknowledge', 'acre', 'acrobat', 'across', 'act', 'actin', 'acting', 'action', 'active', 'activity', 'actor', 'actress', 'actually', 'ad', 'adam', 'add', 'added', 'adderall', 'addict', 'addicted', 'addiction', 'addin', 'adding', 'address', 'addy', 'adidas', 'adjust', 'admire', 'admit', 'adolescent', 'adoration', 'adore', 'adrenaline', 'advance', 'advantage', 'adventure', 'advice', 'afar', 'affair', 'affection', 'affliction', 'afford', 'afloat', 'afraid', 'africa', 'african', 'afro', 'afterlife', 'aftermath', 'afternoon', 'afterparty', 'age', 'agent', 'aggressive', 'ago', 'agony', 'agree', 'ah', 'aha', 'ahah', 'ahahah', 'ahead', 'ahh', 'ahha', 'ahhh', 'ahhhh', 'ahora', 'ahí', 'aid', 'aight', 'aim', 'aimed', 'aimin', 'aiming', 'aint', 'air', 'aire', 'airplane', 'airport', 'aisle', 'ak', 'ak47', 'aka', 'akon', 'al', 'alabama', 'aladdin', 'alarm', 'alarmed', 'album', 'alcohol', 'alcoholic', 'alert', 'alexander', 'ali', 'alibi', 'alien', 'alight', 'align', 'aligned', 'alike', 'alive', 'all', 'allah', 'alley', 'alligator', 'allow', 'allowed', 'almighty', 'almost', 'alone', 'along', 'alphabet', 'already', 'alright', 'also', 'altar', 'although', 'always', 'amaze', 'amazed', 'amazin', 'amazing', 'amazon', 'ambition', 'ambulance', 'amen', 'amends', 'america', 'american', 'amigo', 'amiri', 'ammo', 'ammunition', 'amnesia', 'among', 'amongst', 'amor', 'amount', 'amour', 'amp', 'amped', 'amsterdam', 'amused', 'anaconda', 'analyze', 'ancient', 'andre', 'andré', 'andy', 'anew', 'angel', 'angeles', 'anger', 'angle', 'angry', 'animal', 'ankle', 'ann', 'annie', 'annoying', 'anonymous', 'another', 'answer', 'answered', 'answering', 'anthem', 'anticipating', 'antidote', 'anxiety', 'anxious', 'anybody', 'anybodys', 'anyhow', 'anymore', 'anyone', 'anything', 'anytime', 'anyway', 'anyways', 'anywhere', 'ap', 'apart', 'apartment', 'apathy', 'ape', 'apocalypse', 'apologize', 'apology', 'apparel', 'appeal', 'appear', 'appearance', 'appeared', 'appears', 'appetite', 'applause', 'apple', 'applied', 'apply', 'appreciate', 'approach', 'april', 'aqui', 'aquí', 'ar', 'arch', 'architect', 'area', 'arena', 'arent', 'argue', 'arguing', 'argument', 'arising', 'arizona', 'arm', 'armageddon', 'armani', 'armed', 'armor', 'army', 'aroma', 'around', 'arrangement', 'arrest', 'arrested', 'arriba', 'arrive', 'arrived', 'arrow', 'art', 'artist', 'ash', 'ashamed', 'ashtray', 'asian', 'aside', 'ask', 'asked', 'askin', 'asking', 'asks', 'asleep', 'ass', 'assassin', 'assault', 'asshole', 'assistance', 'assume', 'assured', 'asthma', 'aston', 'astray', 'así', 'ate', 'athlete', 'atl', 'atlanta', 'atlantic', 'atlantis', 'atmosphere', 'atom', 'atown', 'attached', 'attack', 'attempt', 'attend', 'attention', 'attic', 'attire', 'attitude', 'attract', 'attracted', 'attraction', 'attractive', 'au', 'audemar', 'audemars', 'audi', 'audience', 'aunt', 'auntie', 'aura', 'austin', 'authority', 'autograph', 'automatic', 'automatically', 'automobile', 'autumn', 'available', 'ave', 'avenue', 'average', 'avoid', 'avoiding', 'aw', 'awaits', 'awake', 'awaken', 'awakened', 'award', 'aware', 'away', 'awe', 'awesome', 'awful', 'awhile', 'awkward', 'aww', 'axe', 'ay', 'aye', 'ayo', 'ayy', 'ba', 'babe', 'baby', 'babylon', 'bacardi', 'bachelor', 'back', 'backdoor', 'backed', 'background', 'backin', 'backing', 'backpack', 'backseat', 'backside', 'backstage', 'backstreets', 'backup', 'backwards', 'backwood', 'backwoods', 'backyard', 'bacon', 'bad', 'badder', 'baddest', 'badge', 'badly', 'badman', 'bae', 'bag', 'baggage', 'baggies', 'baggin', 'baggy', 'baguette', 'bah', 'bahamas', 'bail', 'bailin', 'bait', 'bake', 'baked', 'baker', 'bakin', 'baking', 'balance', 'balcony', 'bald', 'balenciaga', 'ball', 'baller', 'ballers', 'ballin', 'balling', 'ballistic', 'balloon', 'balmain', 'bam', 'ban', 'banana', 'band', 'bandage', 'bandana', 'bandit', 'bando', 'bang', 'bangbang', 'banger', 'bangin', 'banging', 'bank', 'bankhead', 'bankroll', 'banner', 'bar', 'barbed', 'barber', 'barbie', 'bare', 'barefoot', 'barely', 'bark', 'barkin', 'barking', 'barrel', 'barren', 'barricade', 'barrio', 'bartender', 'base', 'baseball', 'based', 'basement', 'bash', 'basic', 'basically', 'basis', 'bask', 'basket', 'basketball', 'bass', 'bassline', 'bastard', 'bat', 'batch', 'bath', 'bathe', 'bathing', 'bathroom', 'bathtub', 'batman', 'baton', 'batter', 'battered', 'battery', 'battle', 'battlefield', 'batty', 'bay', 'bbd', 'beach', 'beam', 'beamer', 'beaming', 'bean', 'beanie', 'bear', 'beard', 'beast', 'beat', 'beaten', 'beatin', 'beating', 'beatles', 'beautiful', 'beauty', 'became', 'become', 'becomes', 'becomin', 'becoming', 'bed', 'bedroom', 'bee', 'beef', 'beefin', 'beefing', 'beep', 'beeper', 'beer', 'befo', 'beg', 'began', 'beggar', 'begged', 'beggin', 'begging', 'begin', 'beginner', 'beginnin', 'beginning', 'begun', 'behave', 'behavior', 'behind', 'behold', 'bein', 'belief', 'believe', 'believed', 'believer', 'believin', 'believing', 'bell', 'belly', 'belong', 'belonged', 'belongs', 'beloved', 'belt', 'ben', 'bench', 'bend', 'bending', 'beneath', 'benefit', 'benjamin', 'bent', 'bentley', 'bentleys', 'benz', 'benzo', 'beretta', 'berlin', 'berry', 'beside', 'besides', 'best', 'bestie', 'bet', 'betcha', 'betrayed', 'betta', 'better', 'betty', 'beverly', 'beware', 'beyoncé', 'beyond', 'bezel', 'bg', 'bi', 'biatch', 'bible', 'bic', 'bicycle', 'bid', 'bien', 'big', 'bigger', 'biggest', 'biggie', 'bih', 'bike', 'bikini', 'bill', 'billboard', 'billie', 'billion', 'billionaire', 'billy', 'bimmer', 'bin', 'bind', 'bird', 'birdie', 'birdman', 'birkin', 'birth', 'birthday', 'biscuit', 'bit', 'bitch', 'bitchass', 'bitchin', 'bite', 'bitin', 'biting', 'bitter', 'bitterness', 'bittersweet', 'bitty', 'biv', 'biz', 'bizarre', 'black', 'blacked', 'blackened', 'blacker', 'blacking', 'blackout', 'blackstreet', 'bladder', 'blade', 'blah', 'blake', 'blam', 'blame', 'blamed', 'blaming', 'blank', 'blanket', 'blaow', 'blasphemy', 'blast', 'blastin', 'blasting', 'blaze', 'blazin', 'blazing', 'bleach', 'bleak', 'bled', 'bleed', 'bleedin', 'bleeding', 'bleeds', 'blend', 'bless', 'blessed', 'blessin', 'blessing', 'blew', 'blimp', 'blind', 'blinded', 'blindfold', 'blinding', 'blindly', 'bling', 'blink', 'bliss', 'blister', 'blitz', 'blizzard', 'block', 'blocked', 'blocking', 'blog', 'blonde', 'blood', 'blooded', 'bloodline', 'bloodshot', 'bloodstream', 'bloody', 'bloom', 'blouse', 'blow', 'blowed', 'blowin', 'blowing', 'blown', 'blue', 'blueprint', 'bluff', 'bluffin', 'blunt', 'blunted', 'blunts', 'blur', 'blurred', 'blurring', 'blurry', 'blush', 'bm', 'bo', 'board', 'boast', 'boat', 'bob', 'bobbin', 'bobby', 'body', 'bogus', 'boi', 'boil', 'boiling', 'bold', 'bolt', 'bomb', 'bombay', 'bomber', 'bon', 'bond', 'bone', 'boney', 'bong', 'bongo', 'bonnie', 'boo', 'booby', 'boogie', 'book', 'booked', 'boom', 'boomerang', 'boomin', 'boosie', 'boost', 'boot', 'booth', 'booty', 'booze', 'bop', 'border', 'borderline', 'bore', 'bored', 'boring', 'born', 'borrow', 'borrowed', 'bos', 'boss', 'bother', 'bothered', 'bottle', 'bottled', 'bottom', 'bough', 'bought', 'bougie', 'boujee', 'boulder', 'boulevard', 'bounce', 'bounced', 'bouncin', 'bouncing', 'bound', 'boundary', 'bounty', 'bouquet', 'bourbon', 'bout', 'bow', 'bowl', 'box', 'boxer', 'boxing', 'boy', 'boyfriend', 'boyz', 'bozo', 'bra', 'brace', 'bracelet', 'brad', 'brady', 'brag', 'braggin', 'bragging', 'braid', 'brain', 'brake', 'branch', 'brand', 'brandy', 'brave', 'brawl', 'braxton', 'brazil', 'brazy', 'bread', 'break', 'breakdown', 'breaker', 'breakfast', 'breakin', 'breaking', 'breakthrough', 'breakup', 'breast', 'breath', 'breathe', 'breathed', 'breathes', 'breathin', 'breathing', 'breathless', 'bred', 'breed', 'breeze', 'breezy', 'brew', 'brick', 'bride', 'bridge', 'brief', 'bright', 'brighter', 'brightest', 'brim', 'bring', 'bringin', 'bringing', 'brings', 'brink', 'britney', 'bro', 'broad', 'broadway', 'broke', 'broken', 'brokenhearted', 'bronx', 'brooklyn', 'broom', 'bros', 'brother', 'brougham', 'brought', 'brow', 'brown', 'brr', 'brrr', 'brrt', 'bruce', 'bruh', 'bruise', 'bruised', 'brush', 'brutal', 'bubba', 'bubble', 'bubbling', 'bubbly', 'buck', 'bucked', 'bucket', 'buckin', 'bucking', 'buckle', 'buckshot', 'bud', 'buddah', 'buddha', 'buddy', 'budge', 'budget', 'buffet', 'bug', 'bugatti', 'bugged', 'buggin', 'bugging', 'buick', 'build', 'buildin', 'building', 'built', 'bulb', 'bull', 'bullet', 'bulletproof', 'bullshit', 'bum', 'bummer', 'bummy', 'bump', 'bumped', 'bumper', 'bumpin', 'bumping', 'bumpy', 'bun', 'bunch', 'bundle', 'bunk', 'bunny', 'burberry', 'burden', 'burger', 'buried', 'burn', 'burned', 'burner', 'burnin', 'burning', 'burnt', 'burst', 'bursting', 'bury', 'bus', 'bush', 'business', 'businessmen', 'bust', 'busta', 'bustas', 'bustdown', 'busted', 'buster', 'bustin', 'busting', 'busy', 'but', 'butt', 'butter', 'butterfly', 'button', 'buy', 'buyin', 'buying', 'buzz', 'buzzin', 'buzzing', 'bwoy', 'bye', 'byebye', 'bystander', 'ca', 'cab', 'cabbage', 'cabinet', 'cable', 'cactus', 'caddy', 'cadillac', 'cadillacs', 'caesar', 'cage', 'caged', 'cah', 'caine', 'cake', 'cakin', 'cal', 'calamity', 'calculated', 'cali', 'calico', 'california', 'call', 'called', 'caller', 'callin', 'calling', 'calliope', 'calm', 'cam', 'came', 'camel', 'camera', 'camino', 'camo', 'camp', 'campaign', 'campus', 'canada', 'cancel', 'cancer', 'candela', 'candidate', 'candle', 'candlelight', 'candy', 'cane', 'cannabis', 'cannibal', 'cannon', 'cannonball', 'cant', 'canvas', 'cap', 'capable', 'cape', 'caper', 'capital', 'capone', 'capped', 'cappin', 'captain', 'captivating', 'captive', 'captivity', 'capture', 'captured', 'car', 'caramel', 'carat', 'caravan', 'carbon', 'card', 'cardi', 'care', 'cared', 'career', 'careful', 'carefully', 'careless', 'caress', 'cargo', 'caribbean', 'caring', 'carlo', 'carol', 'carolina', 'caroline', 'carpet', 'carriage', 'carried', 'carrot', 'carry', 'carrying', 'carter', 'cartier', 'cartoon', 'carve', 'carved', 'casa', 'casanova', 'case', 'cash', 'cashed', 'cashing', 'cashville', 'casino', 'casket', 'casper', 'cassette', 'cast', 'castle', 'casual', 'casually', 'casualty', 'cat', 'catch', 'catchin', 'catching', 'catfish', 'catholic', 'cattle', 'caught', 'cause', 'caused', 'causin', 'causing', 'caution', 'cautious', 'cavalier', 'cavalry', 'cave', 'caved', 'caving', 'cc', 'cd', 'ce', 'cease', 'cedar', 'ceilin', 'ceiling', 'celebrate', 'celebratin', 'celebrating', 'celebration', 'celebrity', 'celine', 'cell', 'cellophane', 'cellular', 'cement', 'cemetery', 'cent', 'center', 'centerfold', 'central', 'century', 'ceo', 'cept', 'cereal', 'ceremony', 'certain', 'certainly', 'certified', 'cest', 'cha', 'chain', 'chained', 'chainsaw', 'chainz', 'chair', 'chalk', 'challenge', 'chamber', 'champ', 'champagne', 'champion', 'chan', 'chance', 'chandelier', 'chandon', 'chanel', 'change', 'changed', 'changin', 'changing', 'channel', 'chaos', 'chaperone', 'chapter', 'character', 'charade', 'charge', 'charged', 'charity', 'charles', 'charlie', 'charm', 'charming', 'chart', 'chase', 'chased', 'chaser', 'chasin', 'chasing', 'chat', 'chatter', 'chauffeur', 'chea', 'cheap', 'cheaper', 'cheat', 'cheated', 'cheatin', 'cheating', 'check', 'checked', 'checker', 'checkin', 'checking', 'cheddar', 'cheeba', 'cheek', 'cheer', 'cheerleader', 'cheese', 'cheetah', 'chef', 'chemical', 'chemistry', 'cheque', 'cherish', 'cherry', 'chess', 'chest', 'chevrolet', 'chevy', 'chew', 'chewed', 'chewing', 'chi', 'chicago', 'chick', 'chicken', 'chico', 'chief', 'chiefin', 'chiefing', 'child', 'childhood', 'childish', 'childrens', 'chill', 'chilled', 'chillin', 'chilling', 'chilly', 'chimney', 'chimpanzee', 'chin', 'china', 'chinchilla', 'chinese', 'ching', 'chino', 'chip', 'chipped', 'chit', 'chitown', 'chocolate', 'choice', 'choir', 'choke', 'choked', 'choker', 'chokin', 'choking', 'chong', 'choose', 'choosin', 'choosing', 'chop', 'choppa', 'chopped', 'chopper', 'choppin', 'chord', 'chore', 'chorus', 'chose', 'chosen', 'chow', 'chris', 'christ', 'christian', 'christmas', 'chrome', 'chromed', 'chronic', 'chuck', 'chump', 'chunk', 'church', 'chyeah', 'cigar', 'cigarette', 'cinderella', 'cinnamon', 'circle', 'circling', 'circuit', 'circumstance', 'circus', 'citizen', 'city', 'clack', 'claim', 'claimed', 'claimin', 'claiming', 'clan', 'clap', 'clapped', 'clappin', 'clapping', 'clarity', 'clark', 'clash', 'class', 'classic', 'classroom', 'classy', 'claus', 'claw', 'clay', 'clean', 'cleaned', 'cleaner', 'cleanin', 'cleaning', 'clear', 'cleared', 'clearer', 'clearly', 'cleveland', 'clever', 'click', 'clickclack', 'clickin', 'clientele', 'cliff', 'climate', 'climb', 'climbed', 'climbin', 'climbing', 'cling', 'clinton', 'clip', 'clique', 'clit', 'clock', 'clockin', 'clone', 'close', 'closed', 'closely', 'closer', 'closest', 'closet', 'closin', 'closing', 'cloth', 'clothed', 'clothes', 'clothing', 'cloud', 'clouded', 'cloudy', 'clout', 'clover', 'clown', 'club', 'clue', 'clueless', 'clutch', 'clyde', 'cmb', 'cmon', 'cnn', 'co', 'coach', 'coal', 'coast', 'coaster', 'coastin', 'coasting', 'coasttocoast', 'coat', 'coated', 'cobain', 'cobra', 'coca', 'cocacola', 'cocaine', 'cock', 'cocked', 'cockin', 'cockpit', 'cocktail', 'cocky', 'coco', 'cocoa', 'coconut', 'cocoon', 'code', 'codeine', 'coffee', 'coffin', 'coin', 'coke', 'cold', 'colder', 'coldest', 'cole', 'collapse', 'collar', 'collard', 'collect', 'collecting', 'collection', 'college', 'collide', 'collision', 'cologne', 'color', 'colorado', 'colored', 'colour', 'colt', 'coma', 'comb', 'combat', 'combination', 'combo', 'come', 'comeback', 'comet', 'comfort', 'comfortable', 'comin', 'coming', 'comma', 'command', 'comment', 'commercial', 'commit', 'commitment', 'committed', 'committing', 'common', 'communicate', 'communication', 'community', 'como', 'company', 'compare', 'compared', 'comparing', 'comparison', 'compass', 'compete', 'competition', 'complain', 'complaining', 'complaint', 'complete', 'completely', 'complex', 'complexion', 'complicate', 'complicated', 'complication', 'compliment', 'composure', 'comprehend', 'compromise', 'compton', 'computer', 'con', 'conceal', 'concentrate', 'concentration', 'concept', 'concern', 'concerned', 'concert', 'conclusion', 'concrete', 'condition', 'condo', 'condom', 'cone', 'confess', 'confession', 'confide', 'confidence', 'confident', 'confined', 'confirm', 'conflict', 'confrontation', 'confuse', 'confused', 'confusing', 'confusion', 'congratulation', 'connect', 'connected', 'connection', 'connects', 'conquer', 'conscience', 'conscious', 'consequence', 'consider', 'console', 'constant', 'constantly', 'constellation', 'constitution', 'consume', 'consumed', 'consuming', 'contact', 'contagious', 'contain', 'contemplate', 'contemplatin', 'contemplating', 'content', 'contest', 'continue', 'continues', 'contract', 'contradiction', 'control', 'controlled', 'controlling', 'controversy', 'convenient', 'conversation', 'converse', 'convertible', 'convict', 'conviction', 'convince', 'convinced', 'convo', 'coo', 'coochie', 'cook', 'cooked', 'cookie', 'cookin', 'cooking', 'cooky', 'cool', 'cooler', 'coolest', 'coolin', 'cooling', 'coop', 'cop', 'cope', 'copped', 'copper', 'coppin', 'copy', 'corazón', 'cord', 'core', 'coretta', 'cork', 'corn', 'cornbread', 'corner', 'corny', 'corona', 'correct', 'corrupt', 'cosa', 'cosign', 'cosmic', 'cost', 'cot', 'cotton', 'couch', 'cough', 'coughing', 'could', 'coulda', 'couldnt', 'couldve', 'count', 'counted', 'counter', 'counterfeit', 'countin', 'counting', 'countless', 'country', 'county', 'coupe', 'couple', 'courage', 'course', 'court', 'courtesy', 'courtroom', 'courtside', 'cousin', 'cover', 'covered', 'cow', 'coward', 'cowboy', 'coy', 'coz', 'cozy', 'cp', 'cpt', 'crab', 'crack', 'cracked', 'cracker', 'crackin', 'cracking', 'cradle', 'craft', 'craig', 'crank', 'crap', 'crash', 'crashed', 'crashin', 'crashing', 'crave', 'craving', 'crawl', 'crawled', 'crawlin', 'crawling', 'crazy', 'cream', 'create', 'created', 'creation', 'creator', 'creature', 'credit', 'creed', 'creek', 'creep', 'creepin', 'creeping', 'creole', 'crept', 'crescendo', 'crew', 'crib', 'cried', 'crime', 'criminal', 'crimson', 'crip', 'crippin', 'cripple', 'crippled', 'crips', 'cris', 'crisis', 'crisp', 'cristal', 'critic', 'critical', 'crocodile', 'crook', 'crooked', 'crop', 'cross', 'crossed', 'crossing', 'crossroad', 'crow', 'crowd', 'crowded', 'crown', 'crucial', 'crucified', 'crucify', 'cruel', 'cruise', 'cruisin', 'cruising', 'crumb', 'crumble', 'crumbles', 'crumbling', 'crunk', 'crush', 'crushed', 'crushing', 'cry', 'cryin', 'crystal', 'cu', 'cuando', 'cuba', 'cuban', 'cube', 'cuddle', 'cue', 'cuervo', 'cuff', 'cuffed', 'cuffin', 'culo', 'cult', 'culture', 'cum', 'cunt', 'cup', 'cupboard', 'cupid', 'curb', 'cure', 'curfew', 'curiosity', 'curious', 'curl', 'curly', 'currency', 'current', 'curry', 'curse', 'cursed', 'curtain', 'curve', 'cuss', 'cussed', 'custom', 'customer', 'cut', 'cute', 'cutie', 'cutlas', 'cuttin', 'cutting', 'cuz', 'cycle', 'cyclone', 'cynical', 'cypher', 'cypress', 'cómo', 'd12', 'da', 'dab', 'dad', 'dada', 'dadadada', 'daddy', 'daffodil', 'dagger', 'dah', 'daily', 'daisy', 'dale', 'dallas', 'damage', 'damaged', 'dame', 'damn', 'damned', 'damnit', 'dan', 'dance', 'danced', 'dancefloor', 'dancehall', 'dancer', 'dancin', 'dancing', 'dang', 'danger', 'dangerous', 'dangerously', 'daniel', 'dank', 'dante', 'dap', 'dare', 'dark', 'darkened', 'darker', 'darkest', 'darkness', 'darlin', 'darling', 'dart', 'dash', 'dat', 'date', 'dated', 'dating', 'daughter', 'dave', 'david', 'davis', 'dawg', 'dawgs', 'dawn', 'dawning', 'day', 'daydream', 'daylight', 'daytime', 'dayton', 'daz', 'daze', 'dazzle', 'dc', 'ddown', 'de', 'dead', 'deadliest', 'deadly', 'deaf', 'deal', 'dealer', 'dealership', 'dealin', 'dealing', 'dealt', 'dean', 'dear', 'dearly', 'death', 'debate', 'debatin', 'debt', 'debut', 'decade', 'decaf', 'decatur', 'decay', 'deceased', 'deceive', 'deceived', 'deceiving', 'december', 'decent', 'deception', 'decide', 'decided', 'decides', 'decision', 'deck', 'decline', 'decoration', 'decoy', 'dedicate', 'dedicated', 'dedication', 'dee', 'deed', 'deep', 'deeper', 'deepest', 'deeply', 'deer', 'def', 'defeat', 'defeated', 'defence', 'defend', 'defense', 'define', 'defined', 'definitely', 'definition', 'defy', 'degree', 'deh', 'deja', 'del', 'delay', 'delete', 'deleted', 'delicate', 'delicious', 'delight', 'delirious', 'deliver', 'delivered', 'delivery', 'dem', 'demand', 'demanding', 'demeanor', 'demise', 'demo', 'demon', 'den', 'denial', 'denied', 'denim', 'dennis', 'deny', 'denying', 'denzel', 'deo', 'departed', 'depend', 'depending', 'depends', 'depressed', 'depression', 'depth', 'deranged', 'derek', 'derulo', 'describe', 'description', 'desde', 'desert', 'deserve', 'deserves', 'design', 'designed', 'designer', 'desire', 'desk', 'despair', 'desperate', 'desperately', 'desperation', 'despise', 'despite', 'destination', 'destined', 'destiny', 'destroy', 'destroyed', 'destruction', 'detail', 'detective', 'determined', 'detox', 'detroit', 'deuce', 'device', 'devil', 'devilish', 'devotion', 'devour', 'dew', 'dey', 'di', 'diabolical', 'dial', 'diamond', 'diaper', 'diary', 'dice', 'dick', 'dicky', 'diddy', 'didnt', 'die', 'died', 'diego', 'diesel', 'diet', 'difference', 'different', 'differently', 'difficult', 'dig', 'digest', 'digger', 'diggin', 'digging', 'diggy', 'digit', 'digital', 'dim', 'dime', 'dine', 'diner', 'dinero', 'ding', 'dinner', 'dior', 'dip', 'dipped', 'dippin', 'dipping', 'direct', 'direction', 'dirt', 'dirty', 'dis', 'disagree', 'disappear', 'disappeared', 'disappointed', 'disaster', 'disciple', 'discipline', 'disco', 'disconnect', 'discover', 'discovered', 'discovery', 'discus', 'discussion', 'disease', 'disgrace', 'disguise', 'dish', 'dishonor', 'dismantle', 'dismiss', 'dismissed', 'display', 'disregard', 'disrespect', 'dissed', 'dissin', 'dissing', 'dissolve', 'distance', 'distant', 'distortion', 'distract', 'distracted', 'distraction', 'distress', 'district', 'disturb', 'ditch', 'diva', 'dive', 'divide', 'divided', 'dividend', 'divin', 'divine', 'diving', 'division', 'divorce', 'dixie', 'dizzy', 'dj', 'dlow', 'dm', 'dmx', 'dna', 'doc', 'dock', 'doctor', 'dodge', 'dodgin', 'dodging', 'dodo', 'doe', 'doesnt', 'dog', 'dogg', 'doggin', 'doggy', 'doin', 'doja', 'doll', 'dolla', 'dollar', 'dolo', 'dolphin', 'dom', 'dome', 'domino', 'donald', 'done', 'donkey', 'donna', 'dont', 'donut', 'doo', 'doodoo', 'doodoodoo', 'doom', 'doomed', 'door', 'doorbell', 'doorway', 'dope', 'dopest', 'dose', 'dot', 'double', 'doubled', 'doubt', 'doubted', 'doubting', 'dough', 'dougie', 'dove', 'downfall', 'downhill', 'downtown', 'dozen', 'dpg', 'dr', 'draco', 'draft', 'drag', 'dragged', 'draggin', 'dragging', 'dragon', 'drain', 'drained', 'draining', 'drake', 'drama', 'dramatic', 'drank', 'draped', 'drastic', 'draw', 'drawer', 'drawing', 'drawl', 'drawn', 'dre', 'dread', 'dream', 'dreamed', 'dreamer', 'dreamin', 'dreaming', 'dreamt', 'drenched', 'dress', 'dressed', 'dresser', 'dressin', 'dressing', 'drew', 'dribble', 'dried', 'drift', 'drifting', 'drill', 'drillin', 'drilling', 'drink', 'drinkin', 'drinking', 'drip', 'dripped', 'drippin', 'dripping', 'drive', 'driveby', 'driven', 'driver', 'driveway', 'drivin', 'driving', 'drizzy', 'dro', 'drone', 'drool', 'drop', 'dropout', 'dropped', 'droppin', 'dropping', 'droptop', 'drought', 'drove', 'drown', 'drowned', 'drownin', 'drowning', 'dru', 'drug', 'drum', 'drummer', 'drunk', 'drunken', 'dry', 'du', 'dub', 'dubai', 'duck', 'ducked', 'duckin', 'ducking', 'duct', 'dude', 'due', 'duffle', 'dug', 'duh', 'duke', 'dull', 'dum', 'dumb', 'dummy', 'dump', 'dumped', 'dumpin', 'dumping', 'dun', 'dungeon', 'dunk', 'dunno', 'duo', 'durag', 'dusk', 'dust', 'dusty', 'dutch', 'duty', 'dwell', 'dy', 'dyin', 'dying', 'dyke', 'dynamite', 'dyou', 'dysfunctional', 'déjà', 'dónde', 'eager', 'eagle', 'ear', 'earl', 'early', 'earn', 'earned', 'earring', 'earth', 'earthly', 'earthquake', 'ease', 'easier', 'easily', 'east', 'eastside', 'easy', 'eat', 'eatin', 'eating', 'eazy', 'eazye', 'ebony', 'echo', 'eclipse', 'ecstasy', 'ed', 'eddie', 'edge', 'edition', 'education', 'effect', 'effort', 'egg', 'ego', 'eh', 'eheh', 'eight', 'eightball', 'eighteen', 'eighth', 'eighty', 'either', 'el', 'elastic', 'elbow', 'elder', 'electric', 'electricity', 'element', 'elementary', 'elephant', 'elevate', 'elevation', 'elevator', 'eleven', 'elite', 'ella', 'else', 'elvis', 'em', 'email', 'embarrassed', 'embarrassing', 'ember', 'embrace', 'emcee', 'emerald', 'emergency', 'eminem', 'emotion', 'emotional', 'empathy', 'empire', 'emptiness', 'empty', 'en', 'encore', 'end', 'ended', 'ending', 'endless', 'endlessly', 'endo', 'enemy', 'energy', 'engine', 'england', 'english', 'enjoy', 'enjoying', 'enormous', 'enough', 'enter', 'entered', 'entering', 'entertain', 'entertainer', 'entertainment', 'entire', 'entity', 'entrance', 'envelope', 'envy', 'episode', 'equal', 'equally', 'equipped', 'er', 'era', 'erase', 'erased', 'eres', 'eric', 'erotic', 'error', 'erupt', 'erybody', 'escalade', 'escape', 'escaped', 'escaping', 'ese', 'eso', 'especially', 'essence', 'esta', 'estate', 'estoy', 'está', 'estás', 'et', 'eternal', 'eternally', 'eternity', 'etiquette', 'europe', 'european', 'eve', 'even', 'evenin', 'evening', 'event', 'eventually', 'ever', 'everlasting', 'every', 'everybody', 'everybodys', 'everyday', 'everynight', 'everyone', 'everyones', 'everythang', 'everythin', 'everything', 'everythings', 'everytime', 'everyting', 'everywhere', 'evicted', 'evidence', 'evil', 'evolution', 'ew', 'ex', 'exact', 'exactly', 'example', 'except', 'exception', 'excess', 'exchange', 'excite', 'excited', 'exciting', 'excuse', 'executive', 'exercise', 'exhale', 'exhausted', 'exist', 'existence', 'existing', 'exists', 'exit', 'exodus', 'exorcist', 'exotic', 'expand', 'expect', 'expectation', 'expected', 'expecting', 'expedition', 'expensive', 'experience', 'explain', 'explained', 'explanation', 'explode', 'explore', 'explosion', 'explosive', 'expose', 'exposed', 'express', 'expression', 'extend', 'extended', 'extension', 'extra', 'extreme', 'ey', 'eye', 'eyeball', 'eyed', 'eyelid', 'fa', 'fable', 'fabric', 'fabulous', 'face', 'faced', 'facetoface', 'facin', 'facing', 'fact', 'factor', 'fade', 'faded', 'fadin', 'fading', 'fag', 'faggot', 'fail', 'failed', 'failing', 'failure', 'faint', 'fair', 'fairy', 'fairytale', 'faith', 'faithful', 'faithfully', 'fake', 'fakeass', 'faker', 'fakin', 'faking', 'fall', 'fallen', 'fallin', 'falling', 'false', 'falter', 'fam', 'fame', 'familiar', 'family', 'famous', 'fan', 'fanatic', 'fancy', 'fang', 'fanny', 'fantasize', 'fantasy', 'far', 'fare', 'farewell', 'farm', 'farmer', 'farther', 'fashion', 'fashioned', 'fast', 'faster', 'fat', 'fatal', 'fatass', 'fate', 'father', 'fatter', 'fatty', 'faucet', 'fault', 'favor', 'favorite', 'favour', 'favourite', 'fbi', 'fear', 'feared', 'fearing', 'fearless', 'feast', 'feat', 'feather', 'feature', 'featuring', 'february', 'fed', 'federal', 'fee', 'feeble', 'feed', 'feedin', 'feeding', 'feel', 'feelin', 'feeling', 'fell', 'fella', 'fellow', 'felon', 'felony', 'felt', 'female', 'feminine', 'fence', 'fendi', 'ferg', 'ferocious', 'ferrari', 'ferraris', 'fetish', 'fetty', 'fever', 'fi', 'fickle', 'fiction', 'fiddle', 'field', 'fiend', 'fiendin', 'fiending', 'fierce', 'fiery', 'fifteen', 'fifth', 'fifty', 'fight', 'fighter', 'fightin', 'fighting', 'figure', 'figured', 'file', 'fill', 'filled', 'fillin', 'filling', 'film', 'filter', 'filthy', 'fin', 'final', 'finally', 'find', 'findin', 'finding', 'fine', 'finer', 'finesse', 'finest', 'finger', 'fingernail', 'fingerprint', 'fingertip', 'finish', 'finished', 'finna', 'fire', 'fired', 'firefly', 'firework', 'firm', 'first', 'fish', 'fishin', 'fishing', 'fist', 'fit', 'fitted', 'fittin', 'fitting', 'five', 'fiveo', 'fix', 'fixed', 'fixing', 'flag', 'flagrant', 'flair', 'flake', 'flam', 'flame', 'flaming', 'flare', 'flash', 'flashback', 'flashed', 'flashin', 'flashing', 'flashlight', 'flashy', 'flat', 'flaunt', 'flavor', 'flaw', 'flawless', 'fled', 'flee', 'fleek', 'fleet', 'fleeting', 'flesh', 'flew', 'flex', 'flexin', 'flexing', 'flick', 'flicker', 'flight', 'fling', 'flip', 'flipped', 'flippin', 'flipping', 'flirt', 'flirtin', 'flirting', 'flo', 'float', 'floatin', 'floating', 'flock', 'flood', 'flooded', 'flooding', 'floor', 'flop', 'florida', 'floss', 'flossin', 'flossing', 'flow', 'flower', 'flowin', 'flowing', 'flown', 'flu', 'fluid', 'flurry', 'flush', 'flushed', 'flute', 'fly', 'flyer', 'flyest', 'flyin', 'flying', 'fo', 'focus', 'focused', 'foe', 'fofifth', 'fog', 'fold', 'foldin', 'folk', 'follow', 'followed', 'follower', 'followin', 'following', 'follows', 'folly', 'fond', 'food', 'fool', 'fooled', 'foolin', 'fooling', 'foolish', 'foot', 'football', 'footprint', 'footstep', 'forbes', 'forbidden', 'force', 'forced', 'forcing', 'ford', 'fore', 'forehead', 'foreign', 'foreigns', 'foreman', 'forest', 'forever', 'forevermore', 'forevers', 'forget', 'forgetting', 'forgis', 'forgive', 'forgiven', 'forgiveness', 'forgiving', 'forgot', 'forgotten', 'form', 'forming', 'forsake', 'forth', 'fortress', 'fortunate', 'fortune', 'forty', 'forward', 'foster', 'fought', 'foul', 'found', 'foundation', 'fountain', 'four', 'fourteen', 'fourth', 'fox', 'foxy', 'fraction', 'fragile', 'frail', 'frame', 'france', 'francisco', 'frank', 'frankie', 'franklin', 'frankly', 'fraud', 'freak', 'freakin', 'freaking', 'freaky', 'freckle', 'fred', 'freddy', 'free', 'freebandz', 'freedom', 'freely', 'freestyle', 'freeway', 'freeze', 'freezin', 'freezing', 'freight', 'french', 'frequency', 'frequent', 'frequently', 'fresh', 'fresher', 'friction', 'friday', 'fridge', 'fried', 'friend', 'friendly', 'friendship', 'fright', 'frightened', 'frightening', 'frigid', 'fro', 'frog', 'front', 'fronted', 'frontin', 'fronting', 'frost', 'frown', 'froze', 'frozen', 'fruit', 'frustrated', 'frustration', 'fry', 'frying', 'fuck', 'fuckboy', 'fucked', 'fucker', 'fuckin', 'fucking', 'fuego', 'fuel', 'fulfill', 'full', 'fullest', 'fully', 'fume', 'fun', 'function', 'fund', 'funeral', 'funk', 'funky', 'funny', 'fur', 'furious', 'furnace', 'furniture', 'furthermore', 'fuse', 'fuss', 'fussin', 'future', 'fuzz', 'g5', 'ga', 'gaga', 'gain', 'gained', 'gal', 'galaxy', 'galore', 'gamble', 'gambler', 'gamblin', 'gambling', 'game', 'gang', 'gangbang', 'gangsta', 'gangster', 'ganja', 'gank', 'gap', 'gaping', 'garage', 'garbage', 'garden', 'garment', 'gas', 'gasoline', 'gasping', 'gat', 'gate', 'gated', 'gather', 'gathered', 'gator', 'gauge', 'gave', 'gay', 'gaye', 'gaze', 'gazing', 'gd', 'geah', 'gear', 'gee', 'geek', 'geeked', 'gem', 'gemini', 'gene', 'general', 'generation', 'geneva', 'genie', 'genius', 'gente', 'gentle', 'gentleman', 'gently', 'george', 'georgia', 'gerald', 'german', 'get', 'getaway', 'getcha', 'getgo', 'gettin', 'getting', 'ghetto', 'ghost', 'gi', 'giant', 'gift', 'gifted', 'giggle', 'gim', 'gimmick', 'gin', 'gina', 'ginger', 'ginseng', 'gipp', 'girl', 'girlfriend', 'girlies', 'give', 'given', 'givenchy', 'givin', 'giving', 'glad', 'gladly', 'glance', 'glanced', 'glare', 'glass', 'gleam', 'gleaming', 'glee', 'glide', 'glimmer', 'glimpse', 'glisten', 'glitter', 'glizzy', 'global', 'globe', 'glock', 'glocks', 'gloom', 'gloomy', 'glorious', 'glory', 'gloss', 'glove', 'glow', 'glowing', 'glue', 'gnac', 'gnarly', 'go', 'goal', 'goat', 'goblin', 'god', 'goddamn', 'goddess', 'godfather', 'godly', 'goggles', 'gogo', 'goin', 'going', 'gold', 'golden', 'golf', 'goliath', 'gon', 'gone', 'goner', 'good', 'goodbye', 'goodie', 'goodness', 'goodnight', 'goody', 'goodyear', 'goofy', 'google', 'goon', 'goose', 'goosebump', 'gorgeous', 'gorilla', 'gosh', 'gossip', 'got', 'gotcha', 'goto', 'gots', 'gotsta', 'gotten', 'gotti', 'government', 'governor', 'gown', 'grab', 'grabbed', 'grabbin', 'grabbing', 'grace', 'graceful', 'gracious', 'grade', 'graduate', 'graduated', 'graduation', 'graffiti', 'grain', 'gram', 'grammar', 'grammy', 'grammys', 'grand', 'grandma', 'grandmama', 'grandpa', 'grandson', 'granny', 'grant', 'granted', 'grape', 'grapevine', 'graphic', 'grasp', 'grass', 'grateful', 'gratitude', 'grave', 'gravel', 'graveyard', 'gravity', 'gravy', 'gray', 'grease', 'great', 'greater', 'greatest', 'greatness', 'greece', 'greed', 'greedy', 'green', 'greener', 'greet', 'greg', 'grenade', 'grew', 'grey', 'greyhound', 'grief', 'grill', 'grim', 'grimy', 'grin', 'grind', 'grindin', 'grinding', 'grinnin', 'grip', 'grippin', 'gripping', 'grit', 'gritty', 'grocery', 'groove', 'groovin', 'grooving', 'groovy', 'ground', 'group', 'groupie', 'grow', 'growin', 'growing', 'grown', 'grows', 'grr', 'grub', 'grudge', 'gt', 'guap', 'guarantee', 'guaranteed', 'guard', 'gucci', 'guess', 'guessed', 'guessing', 'guest', 'guh', 'guidance', 'guide', 'guiding', 'guillotine', 'guilt', 'guilty', 'guitar', 'gully', 'gum', 'gun', 'gunit', 'gunna', 'gunner', 'gunnin', 'gunning', 'gunshot', 'guppy', 'gusta', 'gut', 'gutta', 'gutter', 'guy', 'gwagon', 'gwan', 'gyal', 'gym', 'gypsy', 'ha', 'habit', 'hacer', 'hadnt', 'haffi', 'hah', 'haha', 'hahaha', 'hahahaha', 'hahahahaha', 'hahahahahaha', 'hail', 'hair', 'haircut', 'haiti', 'half', 'halfway', 'hall', 'hallelujah', 'halloween', 'hallway', 'halo', 'halt', 'ham', 'hammer', 'hand', 'handcuff', 'handed', 'handful', 'handgun', 'handing', 'handle', 'handshake', 'handsome', 'handy', 'hang', 'hanger', 'hangin', 'hanging', 'hangul', 'hank', 'happen', 'happened', 'happenin', 'happening', 'happens', 'happier', 'happily', 'happiness', 'happy', 'harbor', 'hard', 'hardcore', 'harder', 'hardest', 'hardly', 'harlem', 'harm', 'harmony', 'harry', 'harvest', 'hash', 'hashtag', 'hasnt', 'hasta', 'haste', 'hasty', 'hat', 'hate', 'hated', 'hater', 'hatin', 'hating', 'hatred', 'haunt', 'haunted', 'haunting', 'havent', 'havin', 'hawk', 'hay', 'hazard', 'haze', 'hazy', 'hd', 'head', 'headache', 'headed', 'headin', 'heading', 'headlight', 'headline', 'headphone', 'headstrong', 'heal', 'healed', 'healing', 'heals', 'health', 'healthy', 'hear', 'heard', 'hearin', 'hearing', 'hears', 'hearse', 'heart', 'heartache', 'heartbeat', 'heartbreak', 'heartbreaker', 'hearted', 'heartless', 'heat', 'heated', 'heater', 'heathen', 'heating', 'heaven', 'heavenly', 'heavily', 'heavy', 'heavyweight', 'heck', 'hectic', 'hed', 'hee', 'heed', 'heehee', 'heel', 'heh', 'hehe', 'height', 'heir', 'held', 'helicopter', 'hell', 'hella', 'hello', 'hellraiser', 'helluva', 'helmet', 'help', 'helped', 'helping', 'helpless', 'hen', 'hendrix', 'henn', 'hennessy', 'henny', 'herb', 'hercules', 'herd', 'hermes', 'hero', 'heroin', 'hesitate', 'hesitating', 'hesitation', 'hey', 'hi', 'hickey', 'hid', 'hidden', 'hide', 'hideaway', 'hidin', 'hiding', 'high', 'higher', 'highest', 'highlight', 'highly', 'highness', 'highway', 'hike', 'hill', 'hillary', 'hillside', 'hinge', 'hint', 'hip', 'hiphop', 'hippie', 'hippy', 'hire', 'hired', 'history', 'hit', 'hitler', 'hitta', 'hitter', 'hittin', 'hitting', 'hm', 'hmm', 'hmmm', 'ho', 'hobby', 'hobo', 'hock', 'hoe', 'hog', 'hol', 'hola', 'hold', 'holdin', 'holding', 'hole', 'holiday', 'holla', 'holler', 'hollerin', 'hollering', 'hollow', 'holly', 'hollywood', 'holmes', 'holster', 'holy', 'holyfield', 'homage', 'home', 'homeboy', 'homegirl', 'homegrown', 'homeless', 'homemade', 'hometown', 'homework', 'homey', 'homicidal', 'homicide', 'homie', 'homies', 'homo', 'honda', 'honest', 'honestly', 'honesty', 'honey', 'honeycomb', 'honky', 'honor', 'honour', 'hoo', 'hoochie', 'hoochies', 'hood', 'hoodie', 'hooh', 'hook', 'hooked', 'hooker', 'hookin', 'hookup', 'hoop', 'hooptie', 'hoover', 'hop', 'hope', 'hoped', 'hopefully', 'hopeless', 'hopin', 'hoping', 'hopped', 'hoppin', 'hopping', 'horizon', 'horn', 'horny', 'horoscope', 'horror', 'horse', 'hospital', 'host', 'hostage', 'hot', 'hotbox', 'hotel', 'hotter', 'hottest', 'hottie', 'houdini', 'hound', 'hour', 'hourglass', 'house', 'housewife', 'houston', 'hov', 'hova', 'howard', 'howd', 'however', 'howl', 'howling', 'hows', 'htown', 'huddle', 'hug', 'hugging', 'huh', 'hulk', 'hum', 'human', 'humble', 'hummer', 'hummin', 'humming', 'humor', 'hump', 'humpin', 'hun', 'huncho', 'hundred', 'hung', 'hunger', 'hungry', 'hunnid', 'hunnids', 'hunt', 'hunter', 'huntin', 'hunting', 'hurricane', 'hurry', 'hurt', 'hurtin', 'hurting', 'husband', 'hush', 'hustlas', 'hustle', 'hustler', 'hustlin', 'hustling', 'hype', 'hyped', 'hyper', 'hypnotic', 'hypnotize', 'hypnotized', 'hypocrite', 'hysteria', 'i8', 'ibiza', 'ice', 'iced', 'icicle', 'icky', 'icy', 'id', 'idea', 'ideal', 'identity', 'idiot', 'idle', 'idol', 'ig', 'iggy', 'ignite', 'ignition', 'ignorance', 'ignorant', 'ignore', 'ignored', 'ignorin', 'ignoring', 'ii', 'iii', 'iim', 'ill', 'illegal', 'illest', 'illuminate', 'illuminati', 'illusion', 'im', 'ima', 'image', 'imaginary', 'imagination', 'imagine', 'imagined', 'imitation', 'imma', 'immediately', 'immigrant', 'immortal', 'impact', 'impala', 'impatient', 'important', 'imported', 'impose', 'impossible', 'impress', 'impressed', 'impression', 'imprisoned', 'improve', 'inbetween', 'inc', 'incense', 'inch', 'income', 'incomplete', 'increase', 'incredible', 'indecision', 'indecisive', 'indeed', 'independence', 'independent', 'india', 'indian', 'individual', 'indo', 'industry', 'infamous', 'infected', 'inferno', 'infinite', 'infinity', 'influence', 'influenced', 'info', 'information', 'inglewood', 'ingredient', 'inhale', 'inherit', 'inhibition', 'initial', 'ink', 'inn', 'inna', 'inner', 'innocence', 'innocent', 'insane', 'insanity', 'insecure', 'insecurity', 'inseparable', 'inside', 'insight', 'insist', 'inspiration', 'inspire', 'inspired', 'insta', 'instagram', 'instant', 'instead', 'instinct', 'instrumental', 'insult', 'intact', 'integrity', 'intellect', 'intelligence', 'intelligent', 'intend', 'intense', 'intention', 'interest', 'interested', 'interior', 'intermission', 'international', 'internet', 'interrupt', 'intersection', 'interstate', 'intervene', 'intervention', 'interview', 'intimate', 'intoxicated', 'intro', 'introduce', 'introduced', 'intuition', 'invented', 'invest', 'invincible', 'invisible', 'invitation', 'invite', 'invited', 'inviting', 'involved', 'iphone', 'irie', 'iron', 'ironic', 'irony', 'irrelevant', 'irresistible', 'island', 'isle', 'isnt', 'issue', 'it', 'italian', 'italy', 'itch', 'itching', 'itd', 'itll', 'iv', 'ive', 'ivory', 'ivy', 'ja', 'jab', 'jack', 'jacked', 'jacker', 'jacket', 'jackie', 'jackin', 'jacking', 'jackpot', 'jackson', 'jacob', 'jacuzzi', 'jada', 'jaded', 'jag', 'jah', 'jail', 'jake', 'jakes', 'jam', 'jamaica', 'jamaican', 'james', 'jammed', 'jammin', 'jamming', 'jane', 'janet', 'japan', 'japanese', 'jar', 'jason', 'jaw', 'jay', 'jayz', 'jazz', 'jd', 'je', 'jealous', 'jealousy', 'jean', 'jects', 'jeep', 'jeezy', 'jeff', 'jelly', 'jenny', 'jerk', 'jerry', 'jersey', 'jesus', 'jet', 'jew', 'jewel', 'jeweler', 'jewelry', 'jig', 'jigga', 'jiggle', 'jiggy', 'jim', 'jimmy', 'jive', 'jj', 'job', 'jock', 'jockin', 'jocking', 'jodeci', 'joe', 'john', 'johnny', 'johnson', 'join', 'joint', 'jojo', 'joke', 'joker', 'jokin', 'joking', 'jolly', 'jon', 'jones', 'jordan', 'josh', 'jot', 'journey', 'joy', 'joyful', 'jr', 'jt', 'juda', 'judge', 'judgement', 'judgment', 'jug', 'jugg', 'juice', 'juicy', 'jukebox', 'juliet', 'july', 'jump', 'jumped', 'jumpin', 'jumping', 'june', 'jungle', 'junior', 'junk', 'junkie', 'junky', 'jury', 'jus', 'justice', 'justify', 'juvenile', 'kane', 'kangaroo', 'kansa', 'kanye', 'karat', 'karate', 'karma', 'kast', 'katy', 'keef', 'keen', 'keep', 'keeper', 'keepin', 'keeping', 'keith', 'kells', 'kelly', 'ken', 'kendrick', 'kenny', 'kentucky', 'kept', 'kettle', 'kevin', 'key', 'khaki', 'khaled', 'khalifa', 'ki', 'kick', 'kickback', 'kicked', 'kickin', 'kicking', 'kid', 'kiddin', 'kidding', 'kidnap', 'kidney', 'kill', 'killa', 'killas', 'killed', 'killer', 'killin', 'killing', 'kilo', 'kim', 'kin', 'kind', 'kinda', 'kindness', 'kinfolk', 'king', 'kingdom', 'kingston', 'kiss', 'kissed', 'kissin', 'kissing', 'kit', 'kitchen', 'kite', 'kitten', 'kitty', 'knee', 'kneel', 'knew', 'knife', 'knight', 'knock', 'knocked', 'knockin', 'knocking', 'knot', 'know', 'knowin', 'knowing', 'knowledge', 'known', 'knuckle', 'kobe', 'kodak', 'kong', 'konvict', 'kool', 'koolaid', 'kryptonite', 'kurt', 'kush', 'la', 'lab', 'label', 'labeled', 'labor', 'lac', 'lace', 'laced', 'lack', 'lackin', 'lacking', 'lad', 'ladder', 'lady', 'laid', 'lake', 'lala', 'lalala', 'lalalala', 'lalalalala', 'lalalalalala', 'lam', 'lamb', 'lambo', 'lamborghini', 'lamborghinis', 'lame', 'lamp', 'land', 'landed', 'landing', 'landslide', 'lane', 'language', 'lap', 'large', 'larry', 'laser', 'lash', 'last', 'lasted', 'lasting', 'late', 'lately', 'later', 'laters', 'latest', 'latin', 'latino', 'laugh', 'laughed', 'laughin', 'laughing', 'laughter', 'laundry', 'laurent', 'lavish', 'law', 'lawless', 'lawn', 'lawyer', 'lax', 'lay', 'layer', 'layin', 'laying', 'lazer', 'lazy', 'lbc', 'le', 'lead', 'leader', 'leading', 'leaf', 'league', 'leak', 'leakin', 'leaking', 'lean', 'leanin', 'leaning', 'leap', 'lear', 'learn', 'learned', 'learnin', 'learning', 'learnt', 'lease', 'leash', 'least', 'leather', 'leave', 'leavin', 'leaving', 'lebron', 'lecture', 'led', 'ledge', 'lee', 'left', 'leg', 'legacy', 'legal', 'legend', 'legendary', 'leggo', 'legion', 'legit', 'lem', 'lemon', 'lemonade', 'lend', 'lens', 'lesser', 'lesson', 'let', 'lethal', 'letter', 'lettin', 'letting', 'levee', 'level', 'levitate', 'lex', 'lexus', 'liable', 'liar', 'libido', 'license', 'lick', 'licked', 'lickin', 'licking', 'lie', 'lied', 'lieutenant', 'life', 'lifeless', 'lifeline', 'lifestyle', 'lifetime', 'lift', 'lifted', 'lifting', 'light', 'lighter', 'lightin', 'lighting', 'lightly', 'lightnin', 'lightning', 'like', 'liked', 'likely', 'liking', 'likkle', 'lil', 'limb', 'limbo', 'lime', 'limit', 'limitless', 'limo', 'limousine', 'limp', 'lincoln', 'line', 'lined', 'linen', 'linger', 'lingerie', 'lingering', 'lingers', 'lining', 'link', 'lion', 'lip', 'lipstick', 'liquid', 'liquor', 'lisa', 'list', 'listen', 'listened', 'listener', 'listenin', 'listening', 'listens', 'lit', 'liter', 'little', 'live', 'lived', 'liver', 'livin', 'living', 'llac', 'llama', 'lo', 'load', 'loaded', 'loadin', 'loaf', 'loafer', 'loan', 'lobby', 'lobster', 'loc', 'loca', 'local', 'location', 'lock', 'lockdown', 'locked', 'locker', 'locket', 'lockin', 'locking', 'loco', 'locs', 'log', 'logic', 'logo', 'lollipop', 'lolo', 'london', 'lone', 'loneliness', 'lonely', 'lonesome', 'long', 'longer', 'longest', 'longing', 'look', 'looked', 'lookin', 'looking', 'lookout', 'loop', 'loose', 'loosen', 'loosing', 'loot', 'lord', 'los', 'lose', 'loser', 'losin', 'losing', 'loss', 'lost', 'lot', 'lotion', 'lotta', 'lottery', 'lotto', 'lou', 'loud', 'louder', 'loudest', 'louie', 'louis', 'louisiana', 'lounge', 'lounging', 'love', 'loved', 'lovell', 'lovely', 'lover', 'lovesick', 'lovin', 'loving', 'low', 'lower', 'lowest', 'lowkey', 'lowlow', 'loyal', 'loyalty', 'lp', 'lucid', 'lucifer', 'luck', 'lucky', 'lucy', 'luda', 'ludacris', 'luego', 'luger', 'luke', 'lullaby', 'lump', 'lunatic', 'lunch', 'lung', 'lurk', 'lurkin', 'lurking', 'lurks', 'lust', 'luxury', 'lye', 'lyin', 'lying', 'lyric', 'lyrical', 'lyrically', 'lyricist', 'maam', 'mac', 'mac10', 'mac11', 'mace', 'machete', 'machine', 'macho', 'mack', 'mackin', 'macking', 'mad', 'made', 'madeit', 'madman', 'madness', 'madonna', 'mafia', 'mag', 'magazine', 'maggie', 'magic', 'magical', 'magician', 'magnet', 'magnetic', 'magnificent', 'magnum', 'maid', 'mail', 'mailbox', 'main', 'mainly', 'maintain', 'major', 'makaveli', 'make', 'makebelieve', 'maker', 'makeup', 'makin', 'making', 'malcolm', 'male', 'malibu', 'malice', 'mall', 'mama', 'mamacita', 'mami', 'mamma', 'mamy', 'man', 'manage', 'manager', 'mane', 'maneuver', 'mango', 'maniac', 'manic', 'manifest', 'manipulate', 'mankind', 'manner', 'mannie', 'manny', 'manos', 'mansion', 'mantle', 'many', 'map', 'mar', 'marathon', 'marble', 'marc', 'march', 'marching', 'marcia', 'marcus', 'margarita', 'mariah', 'marijuana', 'mario', 'mark', 'marked', 'market', 'marley', 'marriage', 'married', 'marrow', 'marry', 'marshall', 'martian', 'martin', 'martini', 'marty', 'martyr', 'marvelous', 'marvin', 'mary', 'maryland', 'mase', 'maserati', 'mash', 'mashin', 'mask', 'masked', 'masquerade', 'mass', 'massage', 'massive', 'master', 'mastered', 'masterpiece', 'mat', 'match', 'matchin', 'matching', 'mate', 'material', 'math', 'matic', 'matrix', 'matte', 'matter', 'mattered', 'mattress', 'max', 'maximum', 'maxin', 'may', 'maybach', 'maybe', 'maybes', 'mayhem', 'mayne', 'mayor', 'maze', 'mc', 'mclaren', 'me', 'meal', 'mean', 'meaning', 'meant', 'meantime', 'meanwhile', 'measure', 'meat', 'mecause', 'med', 'medal', 'medical', 'medication', 'medicine', 'meditate', 'meditation', 'medium', 'meek', 'meet', 'meetin', 'meeting', 'mega', 'megan', 'mei', 'mejor', 'mek', 'mellow', 'melody', 'melt', 'melting', 'member', 'memo', 'memorize', 'memory', 'memphis', 'men', 'menace', 'menage', 'mend', 'mental', 'mentality', 'mentally', 'mention', 'menu', 'mercedes', 'mercy', 'mere', 'merely', 'mermaid', 'merry', 'mess', 'message', 'messed', 'messenger', 'messin', 'messing', 'messy', 'met', 'metal', 'metaphor', 'meth', 'method', 'metro', 'mexican', 'mexico', 'mh', 'mhm', 'mi', 'mia', 'miami', 'mic', 'michael', 'michigan', 'mick', 'mickey', 'microphone', 'microwave', 'mics', 'mid', 'midas', 'middle', 'midget', 'midnight', 'midst', 'midwest', 'might', 'mighta', 'mightve', 'mighty', 'migo', 'mike', 'mil', 'mild', 'mile', 'mileage', 'military', 'milk', 'milky', 'mill', 'mille', 'milli', 'millimeter', 'million', 'millionaire', 'millis', 'mimosa', 'mind', 'minded', 'mine', 'mingle', 'mini', 'minimum', 'mink', 'minor', 'mint', 'minus', 'minute', 'mira', 'miracle', 'mirage', 'mirror', 'miserable', 'misery', 'misfit', 'miss', 'missed', 'missile', 'missin', 'missing', 'mission', 'mississippi', 'missy', 'mist', 'mistake', 'mistaken', 'mistaking', 'mister', 'mistletoe', 'mistreated', 'mistress', 'misty', 'misunderstand', 'misunderstood', 'mix', 'mixed', 'mixin', 'mixing', 'mixtape', 'mj', 'mjg', 'mm', 'mmh', 'mmhmm', 'mmm', 'mmmm', 'mmmmm', 'mmmmmm', 'mo', 'moan', 'mob', 'mobb', 'mobbin', 'mobile', 'mock', 'mode', 'model', 'modern', 'moe', 'moet', 'moi', 'mojo', 'mold', 'molly', 'mom', 'moment', 'momma', 'mommy', 'mon', 'monday', 'money', 'monica', 'monique', 'monkey', 'monotony', 'monsoon', 'monster', 'montana', 'monte', 'month', 'monument', 'mood', 'moon', 'moonlight', 'moonlit', 'moonshine', 'mop', 'moral', 'morgue', 'morn', 'mornin', 'morning', 'morphine', 'mortal', 'mosh', 'mostly', 'motel', 'moth', 'mothafucka', 'mothafuckas', 'mothafuckin', 'mother', 'motherfuck', 'motherfucka', 'motherfucker', 'motherfuckin', 'motherfucking', 'motif', 'motion', 'motionless', 'motivate', 'motivation', 'motive', 'motor', 'motorbike', 'motorcycle', 'motto', 'mount', 'mountain', 'mourn', 'mouse', 'mouth', 'mouthpiece', 'move', 'moved', 'movement', 'mover', 'movie', 'movin', 'moving', 'mozart', 'moët', 'mp', 'mr', 'mtv', 'much', 'mucho', 'mud', 'muddy', 'mueve', 'mug', 'muhfuckin', 'mula', 'mulsanne', 'multiply', 'mum', 'mumble', 'mummy', 'munchies', 'murda', 'murder', 'murdered', 'murderer', 'muscle', 'muse', 'mushroom', 'music', 'muslim', 'must', 'musta', 'mustang', 'mustard', 'mustve', 'mute', 'muthafucka', 'muthafuckas', 'muthafuckin', 'muthafucking', 'mutual', 'muy', 'my', 'mysterious', 'mystery', 'mystic', 'mystique', 'myth', 'más', 'ménage', 'mí', 'na', 'nada', 'nah', 'nahnahnah', 'nail', 'naive', 'naked', 'name', 'named', 'nameless', 'nan', 'nana', 'nanana', 'nananana', 'nap', 'napalm', 'nappy', 'narc', 'nasty', 'nate', 'nation', 'national', 'native', 'natural', 'naturally', 'nature', 'naughty', 'nauseous', 'navigator', 'navy', 'naw', 'nawf', 'nba', 'ne', 'near', 'nearly', 'neat', 'neath', 'necessary', 'neck', 'necklace', 'need', 'needed', 'needin', 'needing', 'needle', 'negative', 'negativity', 'neglect', 'negro', 'neighbor', 'neighborhood', 'neighbour', 'neighbourhood', 'neither', 'neon', 'neptune', 'nerve', 'nervous', 'ness', 'nest', 'net', 'netflix', 'never', 'neverending', 'nevermind', 'new', 'newborn', 'newer', 'newport', 'news', 'next', 'ni', 'nibble', 'nice', 'nicely', 'nicest', 'nick', 'nickel', 'nicki', 'nickname', 'nicotine', 'nigga', 'niggasll', 'night', 'nightfall', 'nightly', 'nightmare', 'nighttime', 'nike', 'nimble', 'nina', 'nine', 'nineteen', 'ninetofive', 'ninety', 'ninja', 'nino', 'nipple', 'nirvana', 'nite', 'nitty', 'no', 'noble', 'nobody', 'nobu', 'noche', 'nod', 'noise', 'nonbeliever', 'none', 'nono', 'nonsense', 'nonstop', 'noo', 'noodle', 'nooh', 'noon', 'noone', 'noones', 'nooo', 'noose', 'nope', 'normal', 'normally', 'north', 'northern', 'northside', 'nose', 'notch', 'note', 'nother', 'nothin', 'nothing', 'notice', 'noticed', 'notion', 'notorious', 'noun', 'nova', 'novel', 'november', 'nowadays', 'nowhere', 'nuclear', 'nuff', 'nugget', 'nuh', 'nuisance', 'numb', 'number', 'nun', 'nurse', 'nursery', 'nut', 'nuthin', 'nuttin', 'nutty', 'ny', 'nympho', 'oak', 'oakland', 'oasis', 'oath', 'obama', 'obey', 'oblivion', 'obscene', 'observe', 'obsessed', 'obsession', 'obstacle', 'obvious', 'obviously', 'occasion', 'occupation', 'ocean', 'oclock', 'october', 'od', 'odd', 'odds', 'offended', 'offense', 'offer', 'offering', 'office', 'officer', 'official', 'offset', 'often', 'og', 'ogs', 'oh', 'ohh', 'ohhh', 'ohhhh', 'ohhhhh', 'ohio', 'oho', 'ohoh', 'ohohh', 'ohohoh', 'ohohohoh', 'ohohohohoh', 'ohooh', 'ohwoah', 'oil', 'oj', 'ok', 'okay', 'ol', 'old', 'older', 'oldfashioned', 'oldie', 'ole', 'om', 'omen', 'one', 'onetime', 'onetwo', 'oneway', 'onion', 'online', 'onto', 'onyx', 'oo', 'ooh', 'oohcause', 'oohoh', 'oohooh', 'oohoohooh', 'oohoohoohooh', 'oohoohoohoohoohooh', 'oohwee', 'oold', 'ooo', 'oooh', 'oooo', 'ooooh', 'oooooh', 'ooooooh', 'oooooooooh', 'oops', 'op', 'ope', 'open', 'opened', 'opening', 'opera', 'operation', 'operator', 'opinion', 'opp', 'opponent', 'opportunity', 'opposite', 'opposition', 'opps', 'oprah', 'optimist', 'option', 'orange', 'orbit', 'order', 'ordered', 'ordinary', 'original', 'orleans', 'ornament', 'ot', 'others', 'otherwise', 'otra', 'ought', 'oughta', 'ounce', 'ourself', 'outcome', 'outdated', 'outer', 'outfit', 'outlaw', 'outline', 'outrageous', 'outro', 'outrun', 'outside', 'outta', 'oven', 'overall', 'overboard', 'overcome', 'overdose', 'overdosed', 'overdrive', 'overdue', 'overflowing', 'overload', 'overnight', 'overrated', 'overseas', 'overthinkin', 'overthinking', 'overtime', 'overwhelmed', 'overwhelming', 'ovo', 'ow', 'owe', 'owl', 'owned', 'owner', 'owns', 'oww', 'oxygen', 'oz', 'pa', 'pablo', 'pac', 'pace', 'pacific', 'pacin', 'pack', 'package', 'packed', 'packet', 'packin', 'packing', 'pad', 'paddle', 'page', 'pager', 'paid', 'pain', 'painful', 'painkiller', 'paint', 'painted', 'painting', 'pair', 'pajama', 'palace', 'pale', 'palette', 'palm', 'pam', 'pan', 'panama', 'panamera', 'pancake', 'pane', 'panic', 'panoramic', 'pant', 'panty', 'pantyhose', 'pap', 'papa', 'paparazzo', 'paper', 'papi', 'pappy', 'par', 'para', 'parachute', 'parade', 'paradise', 'paragraph', 'parallel', 'paralyzed', 'paramedic', 'paranoia', 'paranoid', 'pardon', 'parent', 'paris', 'park', 'parked', 'parkin', 'parking', 'parlay', 'parole', 'part', 'parted', 'particular', 'parting', 'partna', 'partner', 'party', 'partying', 'pas', 'pass', 'passed', 'passenger', 'passin', 'passing', 'passion', 'passionate', 'past', 'pasta', 'pastor', 'pat', 'patch', 'patek', 'path', 'pathetic', 'patience', 'patient', 'patiently', 'patio', 'patron', 'patrón', 'pattern', 'patty', 'paul', 'pause', 'paused', 'paved', 'pavement', 'paw', 'pawn', 'pay', 'payback', 'paycheck', 'payday', 'payin', 'paying', 'payment', 'payphone', 'payroll', 'pea', 'peace', 'peaceful', 'peach', 'peak', 'peanut', 'pearl', 'pearly', 'peasant', 'pedal', 'pedestal', 'pee', 'peek', 'peel', 'peeled', 'peelin', 'peeling', 'peep', 'peeped', 'peepin', 'peeping', 'peer', 'pelle', 'pen', 'pencil', 'pendulum', 'penetrate', 'penis', 'penitentiary', 'penny', 'penthouse', 'people', 'pep', 'pepper', 'pepsi', 'per', 'perc', 'percent', 'perception', 'percocets', 'percs', 'perfect', 'perfected', 'perfection', 'perfectly', 'perform', 'performing', 'perfume', 'period', 'perish', 'perm', 'permanent', 'permission', 'pero', 'perry', 'persistence', 'person', 'persona', 'personal', 'personality', 'personally', 'perspective', 'peruvian', 'peso', 'pet', 'petal', 'pete', 'peter', 'petey', 'petrol', 'petty', 'pew', 'phantom', 'phase', 'phat', 'phatness', 'philly', 'philosophy', 'phoenix', 'phone', 'phony', 'photo', 'photograph', 'phrase', 'physical', 'physically', 'physique', 'piano', 'pic', 'pick', 'picked', 'picket', 'pickin', 'picking', 'pickle', 'pickup', 'picky', 'picnic', 'picture', 'pictured', 'pie', 'piece', 'pierce', 'pig', 'pigeon', 'pile', 'pill', 'pillow', 'pilot', 'pimp', 'pimped', 'pimpin', 'pimping', 'pimple', 'pin', 'pinch', 'pine', 'pink', 'pinky', 'pinnacle', 'pint', 'pipe', 'piper', 'pippen', 'piss', 'pissed', 'pissin', 'pissy', 'pistol', 'piston', 'pit', 'pitch', 'pity', 'place', 'placed', 'placement', 'plague', 'plain', 'plan', 'plane', 'planet', 'plank', 'planned', 'plannin', 'planning', 'plant', 'planted', 'plaque', 'plastic', 'plate', 'plated', 'platform', 'platinum', 'platter', 'play', 'playa', 'playas', 'playaz', 'playboy', 'played', 'player', 'playground', 'playin', 'playing', 'plea', 'plead', 'pleading', 'please', 'pleased', 'pleasin', 'pleasing', 'pleasure', 'pledge', 'plenty', 'plot', 'plottin', 'plug', 'plugged', 'plus', 'plush', 'pluto', 'pm', 'po', 'pocket', 'pod', 'poem', 'poet', 'poetic', 'poetry', 'point', 'pointed', 'pointer', 'pointing', 'poison', 'poisonous', 'poke', 'poker', 'polaroid', 'pole', 'police', 'polite', 'politic', 'political', 'politician', 'politics', 'polluted', 'pollution', 'polo', 'pon', 'pony', 'poof', 'pooh', 'pool', 'poor', 'pop', 'pope', 'popo', 'popos', 'poppa', 'popped', 'popper', 'poppin', 'popping', 'popsicle', 'popular', 'por', 'porch', 'pork', 'porn', 'porno', 'porsche', 'porsches', 'port', 'portion', 'pose', 'posed', 'position', 'positive', 'posse', 'possessed', 'possession', 'possibility', 'possible', 'possibly', 'post', 'postal', 'posted', 'poster', 'pot', 'potato', 'potent', 'potential', 'potion', 'pound', 'pounding', 'pour', 'poured', 'pourin', 'pouring', 'pours', 'pout', 'poverty', 'pow', 'powder', 'power', 'powerful', 'practice', 'practiced', 'practicing', 'prada', 'praise', 'prankster', 'pray', 'prayed', 'prayer', 'prayin', 'praying', 'pre', 'preach', 'preacher', 'preachin', 'preaching', 'prechorus', 'precious', 'precise', 'precision', 'predictable', 'pree', 'prefer', 'pregnant', 'prejudice', 'premonition', 'prepare', 'prepared', 'preparing', 'prescription', 'presence', 'present', 'president', 'presidential', 'press', 'pressed', 'pressin', 'pressing', 'pressure', 'pretend', 'pretended', 'pretender', 'pretending', 'prettiest', 'pretty', 'prevail', 'prey', 'price', 'prick', 'pride', 'priest', 'prima', 'prime', 'prince', 'princess', 'print', 'prison', 'prisoner', 'privacy', 'private', 'privilege', 'prize', 'pro', 'probably', 'probation', 'problem', 'proceed', 'process', 'produce', 'produced', 'producer', 'product', 'production', 'prof', 'professional', 'professor', 'profile', 'profit', 'program', 'progress', 'project', 'prolly', 'prom', 'promethazine', 'promise', 'promised', 'promo', 'promoter', 'pronounce', 'pronounced', 'pronto', 'proof', 'prop', 'propane', 'proper', 'property', 'prophet', 'proportion', 'prostitute', 'protect', 'protected', 'protection', 'protest', 'prototype', 'proud', 'prove', 'proved', 'provide', 'provided', 'provoke', 'prowl', 'psalm', 'psychic', 'psycho', 'psychopath', 'psychotic', 'public', 'puddle', 'puedo', 'puerto', 'puff', 'puffin', 'puffing', 'puffy', 'pull', 'pulled', 'pullin', 'pulling', 'pulse', 'pum', 'pump', 'pumped', 'pumpin', 'pumping', 'pumppumppump', 'pumppumppumppump', 'punch', 'punching', 'punish', 'punishment', 'punk', 'punkass', 'pupil', 'puppet', 'purchase', 'pure', 'purp', 'purple', 'purpose', 'purpp', 'purse', 'pursue', 'pursuing', 'pus', 'push', 'pushed', 'pusher', 'pushin', 'pushing', 'pussy', 'put', 'puttin', 'putting', 'puzzle', 'quad', 'quake', 'quality', 'quarter', 'quarterback', 'quavo', 'que', 'queen', 'quest', 'question', 'quick', 'quicker', 'quickly', 'quickness', 'quicksand', 'quiere', 'quieres', 'quiero', 'quiet', 'quietly', 'quit', 'quite', 'quitter', 'quiver', 'quote', 'qué', 'ra', 'rabbit', 'race', 'racin', 'racing', 'racist', 'rack', 'racket', 'radar', 'radio', 'raf', 'rag', 'rage', 'raging', 'rah', 'raider', 'rail', 'railroad', 'rain', 'rainbow', 'raindrop', 'rained', 'rainin', 'raining', 'rainy', 'raise', 'raised', 'raisin', 'raising', 'rake', 'rakim', 'ralph', 'ran', 'ranch', 'random', 'randy', 'rang', 'range', 'ranger', 'rank', 'ransom', 'rap', 'rape', 'raped', 'rapped', 'rapper', 'rappin', 'rapping', 'rapture', 'rare', 'rarely', 'rari', 'rasta', 'rat', 'ratchet', 'rate', 'rated', 'rather', 'rating', 'rattle', 'rattpack', 'rave', 'raw', 'ray', 'razor', 'rb', 'reach', 'reached', 'reachin', 'reaching', 'react', 'reaction', 'read', 'reading', 'ready', 'real', 'reala', 'realer', 'realest', 'realise', 'reality', 'realize', 'realized', 'realizing', 'really', 'realm', 'reap', 'reaper', 'rear', 'rearrange', 'rearview', 'reason', 'rebel', 'rebirth', 'reborn', 'rebound', 'recall', 'receipt', 'receive', 'received', 'receiver', 'recently', 'recipe', 'recite', 'reckless', 'reckon', 'recline', 'recognize', 'recognized', 'recommend', 'record', 'recruit', 'red', 'redeem', 'redemption', 'redneck', 'redone', 'reeboks', 'reefer', 'reel', 'reeling', 'ref', 'reflect', 'reflecting', 'reflection', 'refrain', 'refrigerator', 'refugee', 'refuse', 'refused', 'regal', 'regard', 'regardless', 'reggie', 'regret', 'regretting', 'regular', 'rehab', 'reign', 'reindeer', 'rejection', 'relapse', 'relate', 'related', 'relation', 'relationship', 'relax', 'relaxed', 'relaxin', 'release', 'released', 'releasing', 'relentless', 'relief', 'relieve', 'religion', 'reload', 'reloaded', 'rely', 'remain', 'remains', 'remark', 'remedy', 'remember', 'remembered', 'remembering', 'remind', 'reminded', 'reminder', 'reminding', 'reminds', 'reminisce', 'reminiscin', 'reminiscing', 'remix', 'remorse', 'remote', 'remove', 'removed', 'remy', 'rendezvous', 'renegade', 'rent', 'rental', 'rented', 'rep', 'repair', 'repeat', 'repeated', 'repeating', 'repent', 'replace', 'replaced', 'replacement', 'replay', 'replied', 'reply', 'report', 'reported', 'reppin', 'repping', 'represent', 'representin', 'representing', 'reputation', 'request', 'require', 'reroute', 'rerun', 'rescue', 'rescued', 'reservation', 'reside', 'resident', 'residential', 'residual', 'residue', 'resist', 'resistance', 'resisting', 'resort', 'respect', 'respected', 'respond', 'responsibility', 'responsible', 'rest', 'restaurant', 'resting', 'restless', 'restraint', 'result', 'resurrect', 'retarded', 'retire', 'retired', 'retreat', 'return', 'returned', 'reup', 'reveal', 'revealed', 'revealing', 'revelation', 'revenge', 'reverend', 'reverse', 'review', 'revolution', 'revolver', 'revved', 'reward', 'rewind', 'rewrite', 'rhapsody', 'rhyme', 'rhymin', 'rhyming', 'rhythm', 'rib', 'ribbon', 'rice', 'rich', 'richard', 'richer', 'richest', 'richmond', 'rick', 'ricky', 'rico', 'ricochet', 'rid', 'riddle', 'ride', 'rider', 'ridiculous', 'ridin', 'riding', 'riff', 'rifle', 'right', 'righteous', 'rihanna', 'rim', 'ring', 'ringin', 'ringing', 'rinse', 'rio', 'riot', 'rip', 'ripped', 'ripper', 'rippin', 'ripping', 'ripple', 'rise', 'risen', 'risin', 'rising', 'risk', 'risky', 'ritual', 'rival', 'river', 'roach', 'road', 'roadster', 'roam', 'roar', 'roast', 'rob', 'robbed', 'robber', 'robbery', 'robbin', 'robbing', 'robe', 'robert', 'robin', 'robot', 'roc', 'rocafella', 'rock', 'rocka', 'rocked', 'rocker', 'rocket', 'rockin', 'rocking', 'rocknroll', 'rockstar', 'rocky', 'rod', 'rode', 'rodeo', 'rodman', 'role', 'rolex', 'roley', 'roll', 'rolled', 'roller', 'rollercoaster', 'rollie', 'rollies', 'rollin', 'rolling', 'rolly', 'roman', 'romance', 'romantic', 'rome', 'romeo', 'ron', 'ronnie', 'roof', 'rooftop', 'rookie', 'room', 'roommate', 'rooster', 'root', 'rooted', 'rope', 'rose', 'ross', 'roster', 'rosé', 'rot', 'rotate', 'rotation', 'rotten', 'rough', 'roulette', 'round', 'route', 'routine', 'rover', 'row', 'rowdy', 'royal', 'royalty', 'royce', 'rozay', 'rub', 'rubber', 'rubbin', 'rubbing', 'rubble', 'ruby', 'ruckus', 'rude', 'ruff', 'rug', 'ruger', 'rugers', 'rugged', 'ruin', 'ruined', 'rule', 'ruler', 'rum', 'rumble', 'rummage', 'rumor', 'rumour', 'rump', 'run', 'runaway', 'runner', 'runnin', 'running', 'runway', 'rush', 'rushed', 'rushin', 'rushing', 'russian', 'rust', 'rusty', 'ruthless', 'ryders', 'rza', 'sabes', 'sack', 'sacred', 'sacrifice', 'sacrificed', 'sacrificing', 'sad', 'saddest', 'saddle', 'sadness', 'safari', 'safe', 'safely', 'safer', 'safest', 'safety', 'sag', 'saga', 'saggin', 'said', 'sail', 'sailed', 'sailing', 'sailor', 'saint', 'sake', 'salad', 'salary', 'sale', 'sally', 'salt', 'salty', 'salute', 'salvation', 'sam', 'sammy', 'sample', 'san', 'sand', 'sandal', 'sandwich', 'sandy', 'sane', 'sang', 'sanity', 'santa', 'sassy', 'sat', 'satan', 'satellite', 'satin', 'satisfaction', 'satisfied', 'satisfy', 'saturday', 'saturn', 'sauce', 'saucy', 'sauna', 'savage', 'save', 'saved', 'savin', 'saving', 'savior', 'saviour', 'savor', 'saw', 'sawed', 'say', 'sayin', 'saying', 'scale', 'scam', 'scan', 'scandalous', 'scar', 'scare', 'scared', 'scarface', 'scarlet', 'scarred', 'scary', 'scatter', 'scattered', 'scenario', 'scene', 'scenery', 'scent', 'scheme', 'schemin', 'scheming', 'school', 'science', 'scoop', 'scope', 'score', 'scored', 'scott', 'scotty', 'scrap', 'scrape', 'scrappin', 'scratch', 'scratching', 'scream', 'screamed', 'screamin', 'screaming', 'screen', 'screw', 'screwed', 'scrilla', 'script', 'scripture', 'scrollin', 'scrub', 'se', 'sea', 'seafood', 'seal', 'sealed', 'seam', 'sean', 'search', 'searched', 'searchin', 'searching', 'season', 'seat', 'seatbelt', 'sec', 'second', 'secondhand', 'secret', 'section', 'secure', 'security', 'seduce', 'seduction', 'seductive', 'see', 'seed', 'seein', 'seeing', 'seek', 'seeking', 'seem', 'seemed', 'seems', 'seen', 'seesaw', 'seethrough', 'sega', 'seh', 'seize', 'seldom', 'selection', 'selena', 'self', 'selfcontrol', 'selfesteem', 'selfish', 'selfmade', 'sell', 'sellin', 'selling', 'semi', 'semiautomatic', 'senator', 'send', 'sender', 'sendin', 'sending', 'sends', 'sens', 'sensation', 'sense', 'sensei', 'senseless', 'sensitive', 'sensitivity', 'sent', 'sentence', 'sentenced', 'sentiment', 'sentimental', 'separate', 'separated', 'september', 'sequel', 'serena', 'serenade', 'serf', 'sergeant', 'serial', 'series', 'serious', 'seriously', 'sermon', 'serpent', 'serve', 'served', 'service', 'servin', 'serving', 'session', 'set', 'settin', 'setting', 'settle', 'settled', 'settling', 'seven', 'seventeen', 'seventy', 'several', 'seville', 'sew', 'sewed', 'sewn', 'sex', 'sexual', 'sexy', 'señorita', 'sha', 'shack', 'shackled', 'shade', 'shaded', 'shadow', 'shady', 'shaft', 'shake', 'shaken', 'shaker', 'shakin', 'shaking', 'shaky', 'shall', 'shallow', 'shame', 'shameless', 'shank', 'shaolin', 'shape', 'shaped', 'shaq', 'share', 'shared', 'sharing', 'shark', 'sharp', 'sharpen', 'shatter', 'shattered', 'shave', 'shawn', 'shawty', 'shed', 'sheep', 'sheesh', 'sheet', 'shelf', 'shell', 'shelter', 'shepherd', 'sheriff', 'shes', 'shh', 'shhh', 'shield', 'shift', 'shifting', 'shimmy', 'shine', 'shined', 'shinin', 'shining', 'shiny', 'ship', 'shipped', 'shirt', 'shit', 'shitll', 'shitted', 'shittin', 'shitting', 'shitty', 'shiver', 'sho', 'shock', 'shocked', 'shocker', 'shocking', 'shoe', 'shoo', 'shook', 'shoot', 'shooter', 'shootin', 'shooting', 'shop', 'shoppin', 'shopping', 'shore', 'shoreline', 'short', 'shorter', 'shorties', 'shorty', 'shot', 'shotgun', 'shotta', 'shottas', 'shotty', 'shoulda', 'shoulder', 'shouldnt', 'shouldve', 'shout', 'shouted', 'shouting', 'shoutout', 'shove', 'shovel', 'show', 'showdown', 'showed', 'shower', 'showin', 'showing', 'shown', 'shrimp', 'shrine', 'shrink', 'shrooms', 'shrug', 'shuffle', 'shuffling', 'shun', 'shut', 'shy', 'si', 'sick', 'sicker', 'sickness', 'side', 'sidekick', 'sideline', 'sidewalk', 'sideways', 'sigh', 'sight', 'sign', 'signal', 'signed', 'sike', 'silence', 'silent', 'silently', 'silhouette', 'silicone', 'silk', 'silkk', 'silky', 'silly', 'silver', 'similar', 'simmons', 'simon', 'simple', 'simply', 'sin', 'sinatra', 'since', 'sincere', 'sincerely', 'sing', 'singer', 'singin', 'singing', 'single', 'sings', 'sink', 'sinkin', 'sinking', 'sinned', 'sinner', 'sinnin', 'sinning', 'sip', 'sippin', 'sipping', 'sir', 'sire', 'siren', 'sissy', 'sista', 'sister', 'sit', 'site', 'sits', 'sittin', 'sitting', 'situation', 'six', 'sixteen', 'sixth', 'sixty', 'size', 'sized', 'skank', 'skate', 'skateboard', 'skating', 'skeet', 'skeleton', 'ski', 'skid', 'skill', 'skin', 'skinny', 'skip', 'skipped', 'skipping', 'skirt', 'skrr', 'skrrt', 'skrt', 'skull', 'skunk', 'sky', 'skyline', 'skyscraper', 'slab', 'slack', 'slacking', 'slam', 'slammed', 'slammin', 'slamming', 'slang', 'slangin', 'slanging', 'slap', 'slapped', 'slappin', 'slash', 'slate', 'slatt', 'slaughter', 'slave', 'slavery', 'slay', 'slayed', 'sleazy', 'sleep', 'sleeper', 'sleepin', 'sleeping', 'sleepless', 'sleepy', 'sleet', 'sleeve', 'sleigh', 'slept', 'slice', 'sliced', 'slick', 'slicker', 'slid', 'slide', 'slidin', 'sliding', 'slightest', 'slightly', 'slim', 'slime', 'sling', 'slingin', 'slingshot', 'slip', 'slipped', 'slipper', 'slippin', 'slipping', 'slit', 'slogan', 'sloppy', 'slouch', 'slow', 'slowed', 'slower', 'slowly', 'slowmo', 'slug', 'slum', 'slumber', 'slur', 'slut', 'sly', 'smack', 'smacked', 'small', 'smaller', 'smallest', 'smart', 'smarter', 'smash', 'smashed', 'smashin', 'smashing', 'smell', 'smelled', 'smellin', 'smelling', 'smile', 'smiled', 'smilin', 'smiling', 'smith', 'smoke', 'smoked', 'smoker', 'smokin', 'smoking', 'smooth', 'smoother', 'sn', 'snack', 'snake', 'snap', 'snapchat', 'snapped', 'snappin', 'snapping', 'snare', 'snatch', 'snatched', 'sneak', 'sneaker', 'sneakin', 'sneaking', 'sniff', 'sniffing', 'snipe', 'sniper', 'snitch', 'snoop', 'snooze', 'snort', 'snortin', 'snow', 'snowflake', 'snowman', 'snuck', 'so', 'soak', 'soaked', 'soaking', 'soap', 'soar', 'soaring', 'sober', 'socalled', 'social', 'society', 'sock', 'soda', 'sofa', 'soft', 'softer', 'softly', 'soil', 'sol', 'solar', 'sold', 'soldier', 'sole', 'solid', 'solitary', 'solitude', 'solo', 'solution', 'solve', 'solved', 'somebody', 'someday', 'somehow', 'someone', 'someplace', 'somethin', 'something', 'somethings', 'sometime', 'sometimes', 'somewhere', 'son', 'song', 'sonic', 'sonny', 'soon', 'sooner', 'sore', 'sorrow', 'sorry', 'sort', 'sorta', 'sosa', 'soul', 'soulja', 'sound', 'sounded', 'soundin', 'sounding', 'soundtrack', 'soup', 'sour', 'source', 'south', 'southern', 'southside', 'southwest', 'souvenir', 'sow', 'soy', 'space', 'spaceship', 'spade', 'spaghetti', 'spain', 'spanish', 'spank', 'spare', 'spark', 'sparkin', 'sparking', 'sparkle', 'speak', 'speaker', 'speakin', 'speaking', 'speaks', 'special', 'specific', 'speech', 'speechless', 'speed', 'speedin', 'speeding', 'spell', 'spend', 'spendin', 'spending', 'spent', 'spice', 'spider', 'spike', 'spill', 'spilled', 'spillin', 'spilling', 'spin', 'spine', 'spinner', 'spinnin', 'spinning', 'spiral', 'spirit', 'spiritual', 'spit', 'spite', 'spittin', 'spitting', 'splash', 'spliff', 'splinter', 'split', 'spoil', 'spoiled', 'spoke', 'spoken', 'sponsor', 'spoon', 'sport', 'sporting', 'sposed', 'spot', 'spotlight', 'spotted', 'spray', 'sprayed', 'sprayin', 'spraying', 'spread', 'spreading', 'spree', 'spring', 'sprinkle', 'sprite', 'sprung', 'spun', 'spy', 'squad', 'square', 'squeal', 'squeeze', 'squeezing', 'squirrel', 'st', 'stab', 'stabbed', 'stable', 'stack', 'stacked', 'stackin', 'stacking', 'stadium', 'staff', 'stage', 'stagger', 'stain', 'stair', 'stake', 'stale', 'stalk', 'stalking', 'stall', 'stalling', 'stallion', 'stamp', 'stan', 'stance', 'stand', 'standard', 'standin', 'standing', 'stank', 'star', 'starboy', 'stare', 'stared', 'starin', 'staring', 'starlight', 'starring', 'start', 'started', 'starter', 'startin', 'starting', 'starve', 'starvin', 'starving', 'stash', 'state', 'statement', 'static', 'station', 'statistic', 'statue', 'status', 'stay', 'stayed', 'stayin', 'staying', 'steadily', 'steady', 'steak', 'steal', 'stealin', 'stealing', 'steam', 'steamin', 'steel', 'steelo', 'steep', 'steer', 'steerin', 'steering', 'steez', 'stem', 'step', 'stephen', 'stepped', 'steppin', 'stepping', 'stereo', 'steve', 'stevie', 'stick', 'stickin', 'sticking', 'sticky', 'stiff', 'stiletto', 'still', 'sting', 'stinging', 'stink', 'stir', 'stitch', 'sto', 'stock', 'stocking', 'stole', 'stolen', 'stomach', 'stomp', 'stomped', 'stompin', 'stomping', 'stone', 'stoned', 'stood', 'stoop', 'stop', 'stopped', 'stoppin', 'stopping', 'store', 'storm', 'stormy', 'story', 'stove', 'straight', 'straighten', 'strain', 'strand', 'stranded', 'strange', 'stranger', 'strangest', 'strangle', 'strangled', 'strap', 'strapped', 'strategy', 'straw', 'strawberry', 'stray', 'streak', 'stream', 'streaming', 'street', 'streetlight', 'strength', 'stress', 'stressed', 'stressin', 'stressing', 'stretch', 'stretched', 'strictly', 'stride', 'strife', 'strike', 'string', 'strip', 'stripe', 'stripped', 'stripper', 'strippin', 'strive', 'strobe', 'stroke', 'stroked', 'stroll', 'strollin', 'strolling', 'strong', 'stronger', 'strongest', 'struck', 'struggle', 'struggling', 'strung', 'strut', 'stubborn', 'stuck', 'student', 'studio', 'study', 'stuff', 'stuffed', 'stumble', 'stumbled', 'stumblin', 'stumbling', 'stump', 'stun', 'stunna', 'stunning', 'stunt', 'stuntin', 'stunting', 'stupid', 'sturdy', 'stutter', 'style', 'stylin', 'stylish', 'stylist', 'styrofoam', 'suave', 'sub', 'subject', 'sublime', 'subliminal', 'substance', 'substitute', 'subtle', 'suburban', 'subway', 'succeed', 'success', 'succumb', 'suck', 'sucka', 'suckas', 'sucked', 'sucker', 'suckin', 'sucking', 'sudden', 'suddenly', 'sue', 'suede', 'suffer', 'suffering', 'suffocate', 'sugar', 'suge', 'suggest', 'suicidal', 'suicide', 'suit', 'suitcase', 'suite', 'sultan', 'summer', 'summertime', 'sun', 'sunday', 'sundown', 'sung', 'sunglass', 'sunk', 'sunlight', 'sunny', 'sunrise', 'sunset', 'sunshine', 'super', 'superfly', 'superhero', 'superman', 'supermodel', 'supernova', 'supersonic', 'superstar', 'supper', 'supply', 'support', 'suppose', 'supposed', 'supreme', 'sure', 'surely', 'surf', 'surface', 'surfin', 'surgeon', 'surgery', 'surprise', 'surprised', 'surreal', 'surrender', 'surround', 'surrounded', 'surrounding', 'survival', 'survive', 'survived', 'survives', 'surviving', 'survivor', 'sus', 'suspect', 'suspicious', 'swag', 'swagger', 'swallow', 'swallowed', 'swam', 'swamp', 'swan', 'swang', 'swangin', 'swap', 'swarm', 'sway', 'swaying', 'swayze', 'swear', 'swears', 'sweat', 'sweater', 'sweatin', 'sweating', 'sweatsuit', 'sweaty', 'sweep', 'sweeper', 'sweeping', 'sweet', 'sweeter', 'sweetest', 'sweetheart', 'sweetie', 'sweetness', 'swell', 'swept', 'swerve', 'swervin', 'swerving', 'swift', 'swig', 'swim', 'swimmin', 'swimming', 'swine', 'swing', 'swingin', 'swinging', 'swipe', 'swish', 'swisha', 'swisher', 'swiss', 'switch', 'switchblade', 'switched', 'switchin', 'switching', 'swizz', 'swole', 'swoll', 'swollen', 'swoop', 'sword', 'swore', 'sworn', 'swung', 'syllable', 'symbol', 'sympathy', 'symphony', 'syrup', 'system', 'sé', 'sólo', 'ta', 'tab', 'table', 'tack', 'tactic', 'tag', 'tail', 'tailor', 'tainted', 'take', 'taken', 'taker', 'takin', 'taking', 'tale', 'talent', 'talk', 'talked', 'talkin', 'talking', 'tall', 'taller', 'tame', 'tan', 'tangle', 'tangled', 'tango', 'tank', 'tanqueray', 'tap', 'tape', 'tapped', 'tapping', 'tar', 'tarantino', 'target', 'task', 'taste', 'tasted', 'tasty', 'tat', 'tatted', 'tattered', 'tattoo', 'tattooed', 'taught', 'tax', 'taxi', 'tay', 'taylor', 'te', 'tea', 'teach', 'teacher', 'teaching', 'team', 'tear', 'teardrop', 'tearin', 'tearing', 'tease', 'teasing', 'tec', 'tecca', 'tech', 'technique', 'ted', 'teddy', 'tee', 'teen', 'teenage', 'teeth', 'teflon', 'tek', 'telephone', 'television', 'tell', 'teller', 'tellin', 'telling', 'telly', 'temp', 'temper', 'temperature', 'temple', 'tempo', 'temporary', 'tempt', 'temptation', 'ten', 'tenant', 'tend', 'tendency', 'tender', 'tenderly', 'tenderness', 'tengo', 'tennessee', 'tennis', 'tense', 'tension', 'tenth', 'tequila', 'term', 'terminal', 'terrible', 'terrified', 'terror', 'terrorist', 'test', 'testament', 'testify', 'testimony', 'testin', 'testing', 'texas', 'text', 'texting', 'tha', 'thai', 'thang', 'thangs', 'thank', 'thankful', 'thanks', 'thatd', 'thatll', 'thats', 'the', 'thee', 'theme', 'therapist', 'therapy', 'thered', 'therefore', 'therell', 'theyd', 'theyll', 'theyre', 'theyve', 'thick', 'thicker', 'thief', 'thigh', 'thin', 'thing', 'think', 'thinker', 'thinkin', 'thinking', 'third', 'thirst', 'thirsty', 'thirteen', 'thirty', 'this', 'thisll', 'tho', 'thong', 'thorn', 'thot', 'thots', 'thottie', 'thou', 'though', 'thought', 'thousand', 'thread', 'threat', 'three', 'threw', 'thrill', 'thriller', 'throat', 'throne', 'throttle', 'throughout', 'throw', 'throwback', 'throwed', 'throwin', 'throwing', 'thrown', 'thru', 'thug', 'thugged', 'thugger', 'thuggin', 'thumb', 'thump', 'thumpin', 'thumping', 'thunder', 'thunderstorm', 'thursday', 'thy', 'ti', 'tic', 'tick', 'ticket', 'tickin', 'ticking', 'tickle', 'ticktock', 'tidal', 'tide', 'tie', 'tied', 'tiene', 'tienes', 'tiffany', 'tiger', 'tight', 'tighten', 'tighter', 'tightly', 'til', 'till', 'tim', 'timbs', 'time', 'timeless', 'timer', 'timin', 'timing', 'tin', 'ting', 'tingle', 'tint', 'tinted', 'tiny', 'tip', 'tippin', 'tipping', 'tipsy', 'tire', 'tired', 'tissue', 'tit', 'titan', 'title', 'titty', 'to', 'toast', 'toaster', 'tock', 'today', 'todo', 'todos', 'toe', 'together', 'toilet', 'toke', 'token', 'tokyo', 'told', 'tolerance', 'toll', 'tom', 'tomb', 'tombstone', 'tommy', 'tommys', 'tomorrow', 'ton', 'tone', 'tongue', 'tonguetied', 'toni', 'tonic', 'tonight', 'tonk', 'tony', 'took', 'tool', 'tooth', 'top', 'topanga', 'topic', 'topless', 'toppin', 'torch', 'tore', 'torn', 'tornado', 'torture', 'toss', 'tossed', 'tossin', 'tossing', 'total', 'totally', 'tote', 'totin', 'touch', 'touchdown', 'touched', 'touchin', 'touching', 'tough', 'tougher', 'toughest', 'tour', 'tourin', 'tourist', 'tournament', 'tow', 'toward', 'towards', 'towel', 'tower', 'town', 'toxic', 'toy', 'tpain', 'trace', 'track', 'tracy', 'trade', 'traded', 'trading', 'traffic', 'tragedy', 'tragic', 'trail', 'trailer', 'train', 'trained', 'training', 'tramp', 'trance', 'translation', 'trap', 'trapped', 'trapper', 'trappin', 'trapping', 'trash', 'trauma', 'travel', 'traveled', 'traveling', 'travelling', 'tray', 'tre', 'treasure', 'treat', 'treated', 'treatin', 'treating', 'tree', 'tremble', 'trembling', 'trench', 'trend', 'tres', 'trey', 'trial', 'tribe', 'trick', 'trickin', 'tried', 'trigger', 'trill', 'trina', 'trip', 'triple', 'tripped', 'trippin', 'tripping', 'trojan', 'troll', 'troop', 'trophy', 'tropic', 'trouble', 'troubled', 'troy', 'tru', 'truck', 'true', 'truly', 'trump', 'trumpet', 'trunk', 'trust', 'trusted', 'trusting', 'truth', 'try', 'tryin', 'tryina', 'trying', 'tryna', 'trynna', 'tshirt', 'tsunami', 'tu', 'tub', 'tube', 'tuck', 'tucked', 'tuesday', 'tumble', 'tumbling', 'tummy', 'tune', 'tunechi', 'tuned', 'tunnel', 'turbo', 'turf', 'turkey', 'turn', 'turned', 'turner', 'turnin', 'turning', 'turnt', 'turntable', 'turtle', 'tus', 'tv', 'tweak', 'tweakin', 'tweaking', 'tweet', 'twelve', 'twenty', 'twentyfive', 'twentyfour', 'twentytwo', 'twerk', 'twerkin', 'twice', 'twin', 'twinkle', 'twirl', 'twist', 'twisted', 'twister', 'twistin', 'twisting', 'twitter', 'two', 'twoseater', 'twostep', 'tylenol', 'tyler', 'type', 'typical', 'tyrant', 'tyson', 'tú', 'uber', 'ufo', 'ugh', 'ugly', 'uh', 'uhh', 'uhhh', 'uhhuh', 'uhoh', 'uhuh', 'uicide', 'ultimate', 'ultra', 'um', 'umbrella', 'umm', 'un', 'una', 'unaware', 'unbelievable', 'unchanged', 'uncle', 'unclear', 'unconditional', 'uncut', 'undefeated', 'undercover', 'underdog', 'underground', 'underneath', 'understand', 'understanding', 'understands', 'understood', 'underwater', 'underworld', 'undivided', 'undo', 'undone', 'undress', 'undressed', 'unfair', 'unfinished', 'unfold', 'unfolds', 'unforgettable', 'unfortunate', 'unfurl', 'unhappy', 'unheard', 'union', 'unique', 'unit', 'united', 'universal', 'universe', 'unkind', 'unknown', 'unless', 'unlike', 'unloaded', 'unlock', 'unlocked', 'uno', 'unplug', 'unpredictable', 'unreal', 'unsaid', 'unseen', 'unspoken', 'unstable', 'unstoppable', 'unsure', 'untied', 'unto', 'untouchable', 'untrue', 'unusual', 'unwind', 'up', 'upgrade', 'uphill', 'upon', 'upper', 'ups', 'upset', 'upside', 'upstairs', 'upstate', 'uptight', 'uptown', 'urban', 'urge', 'us', 'usa', 'use', 'used', 'useless', 'usher', 'usin', 'using', 'usual', 'usually', 'uuh', 'uzi', 'va', 'vacant', 'vacation', 'vacay', 'vacuum', 'vagina', 'vain', 'valentine', 'valentino', 'valet', 'valium', 'valley', 'valuable', 'value', 'vamp', 'vampire', 'van', 'vandal', 'vanilla', 'vanity', 'vapor', 'vast', 'vato', 'vatos', 'vault', 'vega', 'vegan', 'veil', 'vein', 'velvet', 'ven', 'vendetta', 'vengeance', 'venice', 'venom', 'vent', 'venture', 'venus', 'ver', 'verb', 'verbal', 'verge', 'versace', 'versatile', 'verse', 'version', 'versus', 'vertigo', 'vest', 'vet', 'veteran', 'vette', 'veux', 'vez', 'vi', 'vibe', 'vibin', 'vibration', 'vic', 'vice', 'vicious', 'vicky', 'victim', 'victory', 'vida', 'video', 'vietnam', 'view', 'villa', 'village', 'villain', 'ville', 'vine', 'vintage', 'vinyl', 'violate', 'violence', 'violent', 'violin', 'vip', 'virgin', 'virginia', 'virus', 'visa', 'vision', 'visit', 'visual', 'vital', 'vitamin', 'vivid', 'vocal', 'vodka', 'vogue', 'voice', 'void', 'volume', 'vomit', 'voodoo', 'vote', 'vouch', 'vow', 'voy', 'voyage', 'vroom', 'vu', 'vuitton', 'vulnerable', 'vulture', 'vvs', 'vvss', 'wa', 'wack', 'wage', 'wagon', 'wah', 'wail', 'waist', 'waistline', 'wait', 'waited', 'waiter', 'waitin', 'waiting', 'waitress', 'wake', 'wakin', 'waking', 'walk', 'walked', 'walkin', 'walking', 'wall', 'wallace', 'wallet', 'wan', 'wander', 'wandering', 'wang', 'wannabe', 'want', 'wanted', 'wantin', 'wanting', 'wap', 'war', 'ward', 'wardrobe', 'warm', 'warmer', 'warmth', 'warn', 'warned', 'warning', 'warrant', 'warren', 'warrior', 'wash', 'washed', 'washin', 'washing', 'washington', 'wasnt', 'wassup', 'waste', 'wasted', 'wasteland', 'wasteman', 'wastin', 'wasting', 'watch', 'watched', 'watchin', 'watching', 'water', 'watered', 'waterfall', 'watergate', 'watt', 'wave', 'waved', 'wavin', 'waving', 'wavy', 'wax', 'way', 'wayne', 'we', 'weak', 'weaker', 'weakest', 'weakness', 'wealth', 'wealthy', 'weapon', 'wear', 'wearin', 'wearing', 'weary', 'weather', 'weathered', 'weave', 'weaving', 'web', 'wed', 'wedding', 'wednesday', 'wee', 'weed', 'week', 'weekend', 'weep', 'weeping', 'weezy', 'weigh', 'weighing', 'weighs', 'weight', 'weightless', 'weird', 'welcome', 'welfare', 'well', 'went', 'werent', 'wes', 'wesson', 'west', 'western', 'westside', 'wet', 'wetter', 'weve', 'wha', 'whack', 'whacked', 'whassup', 'whatcha', 'whatchu', 'whatd', 'whatever', 'whatevers', 'whats', 'whatwhat', 'whatwhatwhat', 'wheel', 'wheezy', 'whenever', 'whens', 'whered', 'wheres', 'wherever', 'whether', 'whew', 'whine', 'whinin', 'whip', 'whipped', 'whippin', 'whipping', 'whiskey', 'whisper', 'whispered', 'whispering', 'whistle', 'white', 'whitney', 'who', 'whoa', 'whoah', 'whoaoh', 'whod', 'whoever', 'whole', 'wholl', 'whoo', 'whoop', 'whoopin', 'whore', 'whose', 'whyd', 'wick', 'wicked', 'wid', 'wide', 'wider', 'wife', 'wifey', 'wig', 'wiggle', 'wild', 'wildest', 'wildin', 'wilding', 'william', 'williams', 'willie', 'willin', 'willing', 'willow', 'willy', 'win', 'wind', 'winding', 'window', 'windshield', 'windy', 'wine', 'wing', 'wink', 'winner', 'winnin', 'winning', 'winter', 'wintertime', 'wipe', 'wire', 'wired', 'wisdom', 'wise', 'wiser', 'wish', 'wished', 'wishin', 'wishing', 'wit', 'witch', 'witcha', 'within', 'without', 'witness', 'wiz', 'wizard', 'woah', 'woahoh', 'woahohohoh', 'woe', 'woh', 'woke', 'wolf', 'woman', 'womb', 'wonder', 'wondered', 'wonderful', 'wonderin', 'wondering', 'wonderland', 'wont', 'woo', 'wood', 'wooden', 'wooh', 'woohoo', 'wooo', 'woooo', 'woop', 'woowoo', 'wop', 'word', 'wore', 'work', 'worked', 'worker', 'workin', 'working', 'world', 'worldwide', 'worm', 'worn', 'worried', 'worry', 'worrying', 'worse', 'worship', 'worst', 'worth', 'worthless', 'worthwhile', 'worthy', 'would', 'woulda', 'wouldnt', 'wouldve', 'wound', 'wounded', 'wow', 'wraith', 'wrangler', 'wrap', 'wrapped', 'wrath', 'wreck', 'wrecked', 'wrecking', 'wrestle', 'wrinkle', 'wrist', 'write', 'writer', 'writes', 'writin', 'writing', 'written', 'wrong', 'wrote', 'wu', 'wuh', 'wutang', 'x2', 'x3', 'x4', 'x5', 'x8', 'xan', 'xanax', 'xanny', 'xans', 'xl', 'xzibit', 'ya', 'yacht', 'yah', 'yak', 'yall', 'yalls', 'yam', 'yank', 'yard', 'yay', 'yayo', 'ye', 'yea', 'yeah', 'yeahcause', 'yeahhh', 'yeahyeah', 'yeahyeahyeah', 'year', 'yearning', 'yee', 'yeeaah', 'yeh', 'yell', 'yellin', 'yelling', 'yellow', 'yep', 'yes', 'yessir', 'yesterday', 'yet', 'yg', 'yi', 'yknow', 'yo', 'yoga', 'yola', 'yonder', 'york', 'you', 'youd', 'youll', 'young', 'younger', 'youngin', 'youngster', 'youre', 'yous', 'youse', 'youth', 'youve', 'yow', 'ysl', 'yuh', 'yuletide', 'yummy', 'yung', 'yup', 'zag', 'zappa', 'zero', 'zip', 'zipper', 'zombie', 'zone', 'zoning', 'zoo', 'zoom', 'zulu', 'él', '거야', '나를', '나의', '내가', '내게', '너를', '너와', '너의', '네가', '다른', '마치', '모든', '않아', '없는', '없이', '오늘', '이제', '지금']\n"
          ]
        },
        {
          "output_type": "stream",
          "name": "stderr",
          "text": [
            "/usr/local/lib/python3.7/dist-packages/sklearn/utils/deprecation.py:87: FutureWarning: Function get_feature_names is deprecated; get_feature_names is deprecated in 1.0 and will be removed in 1.2. Please use get_feature_names_out instead.\n",
            "  warnings.warn(msg, category=FutureWarning)\n"
          ]
        }
      ]
    },
    {
      "cell_type": "code",
      "source": [
        "# ngram model?\n",
        "ngram_vectorizer = CountVectorizer(binary=True, min_df=10, ngram_range=(1,3))\n",
        "X_kaggle_ngram = ngram_vectorizer.fit_transform(kaggle_songs['lyrics'])\n",
        "#happy \n",
        "X_kaggle_ngram.toarray()\n",
        "happy_model = LogisticRegression(penalty='l2').fit(X_kaggle_ngram, kaggle_songs['isHappy'])\n",
        "y_train_pred = happy_model.predict(X_kaggle_ngram)\n",
        "train_f1_score = f1_score(kaggle_songs['isHappy'], y_train_pred)\n",
        "train_f1_score\n",
        "# Test happy \n",
        "X_test_kaggle_ngram = ngram_vectorizer.transform(test['lyrics'])\n",
        "y_test_pred_ngram = happy_model.predict(X_test_kaggle_ngram)\n",
        "test_ngram_f1_score = f1_score(test['isHappy'], y_test_pred_ngram)\n",
        "test_ngram_f1_score"
      ],
      "metadata": {
        "colab": {
          "base_uri": "https://localhost:8080/"
        },
        "id": "UFkIu-oq8MuS",
        "outputId": "5d4b2378-04ff-4f96-f6cd-961c2e8e6896"
      },
      "execution_count": null,
      "outputs": [
        {
          "output_type": "execute_result",
          "data": {
            "text/plain": [
              "0.6460587326120557"
            ]
          },
          "metadata": {},
          "execution_count": 20
        }
      ]
    },
    {
      "cell_type": "code",
      "metadata": {
        "colab": {
          "base_uri": "https://localhost:8080/"
        },
        "id": "GoBMpuXF1zd2",
        "outputId": "32447925-e831-4e82-ec7c-fdc50220a162"
      },
      "source": [
        "#happy \n",
        "X_kaggle.toarray()\n",
        "happy_model = LogisticRegression(penalty='l2').fit(X_kaggle, kaggle_songs['isHappy'])\n",
        "y_train_pred = happy_model.predict(X_kaggle)\n",
        "train_f1_score = f1_score(kaggle_songs['isHappy'], y_train_pred)\n",
        "train_f1_score"
      ],
      "execution_count": null,
      "outputs": [
        {
          "output_type": "stream",
          "name": "stderr",
          "text": [
            "/usr/local/lib/python3.7/dist-packages/sklearn/linear_model/_logistic.py:818: ConvergenceWarning: lbfgs failed to converge (status=1):\n",
            "STOP: TOTAL NO. of ITERATIONS REACHED LIMIT.\n",
            "\n",
            "Increase the number of iterations (max_iter) or scale the data as shown in:\n",
            "    https://scikit-learn.org/stable/modules/preprocessing.html\n",
            "Please also refer to the documentation for alternative solver options:\n",
            "    https://scikit-learn.org/stable/modules/linear_model.html#logistic-regression\n",
            "  extra_warning_msg=_LOGISTIC_SOLVER_CONVERGENCE_MSG,\n"
          ]
        },
        {
          "output_type": "execute_result",
          "data": {
            "text/plain": [
              "0.9823168531216168"
            ]
          },
          "metadata": {},
          "execution_count": 28
        }
      ]
    },
    {
      "cell_type": "code",
      "metadata": {
        "colab": {
          "base_uri": "https://localhost:8080/"
        },
        "id": "krSVmNBjVE9M",
        "outputId": "3964355d-2b77-4ca3-e1f6-5dca0bf10a21"
      },
      "source": [
        "#sad \n",
        "X_kaggle.toarray()\n",
        "sad_model = LogisticRegression(penalty='l2').fit(X_kaggle, kaggle_songs['isSad'])\n",
        "y_train_pred = sad_model.predict(X_kaggle)\n",
        "train_f1_score = f1_score(kaggle_songs['isSad'], y_train_pred)\n",
        "train_f1_score"
      ],
      "execution_count": null,
      "outputs": [
        {
          "output_type": "stream",
          "name": "stderr",
          "text": [
            "/usr/local/lib/python3.7/dist-packages/sklearn/linear_model/_logistic.py:818: ConvergenceWarning: lbfgs failed to converge (status=1):\n",
            "STOP: TOTAL NO. of ITERATIONS REACHED LIMIT.\n",
            "\n",
            "Increase the number of iterations (max_iter) or scale the data as shown in:\n",
            "    https://scikit-learn.org/stable/modules/preprocessing.html\n",
            "Please also refer to the documentation for alternative solver options:\n",
            "    https://scikit-learn.org/stable/modules/linear_model.html#logistic-regression\n",
            "  extra_warning_msg=_LOGISTIC_SOLVER_CONVERGENCE_MSG,\n"
          ]
        },
        {
          "output_type": "execute_result",
          "data": {
            "text/plain": [
              "0.97843607057286"
            ]
          },
          "metadata": {},
          "execution_count": 29
        }
      ]
    },
    {
      "cell_type": "code",
      "metadata": {
        "colab": {
          "base_uri": "https://localhost:8080/"
        },
        "id": "AxPrMng_6UE3",
        "outputId": "31545a39-defd-4d14-ec18-70073da78b63"
      },
      "source": [
        "test['lyrics']"
      ],
      "execution_count": null,
      "outputs": [
        {
          "output_type": "execute_result",
          "data": {
            "text/plain": [
              "0         cool    ok   cool    ok  said  dont want sta...\n",
              "1       yeah yeah dont want  wait   know  better let  ...\n",
              "2         thing  said   thing  said runnin   head runn...\n",
              "3        want  ahh woman tried    son  daughter rolled...\n",
              "4           aint nothin   gangsta party eh light   sno...\n",
              "                              ...                        \n",
              "6995    falling like domino reaching   star one  one h...\n",
              "6996    got   car heading  coast left  worry  plan beh...\n",
              "6997    well  dont know   came  tonight  got  feeling ...\n",
              "6998     got ta get  together cuz  got someplace  go  ...\n",
              "6999    ooh ooh something   dont know feel  creeping  ...\n",
              "Name: lyrics, Length: 7000, dtype: object"
            ]
          },
          "metadata": {},
          "execution_count": 12
        }
      ]
    },
    {
      "cell_type": "code",
      "metadata": {
        "colab": {
          "base_uri": "https://localhost:8080/"
        },
        "id": "7Hy0ULT430GI",
        "outputId": "93040615-1282-4491-b5c6-4b5627f2e2fe"
      },
      "source": [
        "# Test happy \n",
        "X_test_kaggle = vectorizer.transform(test['lyrics'])\n",
        "y_test_pred = happy_model.predict(X_test_kaggle)\n",
        "test_f1_score = f1_score(test['isHappy'], y_test_pred)\n",
        "test_f1_score"
      ],
      "execution_count": null,
      "outputs": [
        {
          "output_type": "execute_result",
          "data": {
            "text/plain": [
              "0.6661704503163379"
            ]
          },
          "metadata": {},
          "execution_count": 13
        }
      ]
    },
    {
      "cell_type": "code",
      "metadata": {
        "id": "wN11PhXXXuu6"
      },
      "source": [
        "test['isHappy_pred'] = y_test_pred"
      ],
      "execution_count": null,
      "outputs": []
    },
    {
      "cell_type": "code",
      "metadata": {
        "colab": {
          "base_uri": "https://localhost:8080/"
        },
        "id": "9W9Ef1iuVe3T",
        "outputId": "87790240-f21a-49d4-c8c6-e1b8c0fec258"
      },
      "source": [
        "# Test sad\n",
        "X_test_kaggle = vectorizer.transform(test['lyrics'])\n",
        "y_test_pred = sad_model.predict(X_test_kaggle)\n",
        "test_f1_score = f1_score(test['isSad'], y_test_pred)\n",
        "test_f1_score"
      ],
      "execution_count": null,
      "outputs": [
        {
          "output_type": "execute_result",
          "data": {
            "text/plain": [
              "0.7006681514476615"
            ]
          },
          "metadata": {},
          "execution_count": 15
        }
      ]
    },
    {
      "cell_type": "code",
      "metadata": {
        "id": "JzZrwgw7WTX6"
      },
      "source": [
        "test['isSad_pred'] = y_test_pred"
      ],
      "execution_count": null,
      "outputs": []
    },
    {
      "cell_type": "code",
      "metadata": {
        "colab": {
          "base_uri": "https://localhost:8080/",
          "height": 1000
        },
        "id": "qXioFGAJXXco",
        "outputId": "385f35b7-e2b0-4bd7-e3d6-6cd55fcd87cb"
      },
      "source": [
        "test"
      ],
      "execution_count": null,
      "outputs": [
        {
          "output_type": "execute_result",
          "data": {
            "text/html": [
              "<div>\n",
              "<style scoped>\n",
              "    .dataframe tbody tr th:only-of-type {\n",
              "        vertical-align: middle;\n",
              "    }\n",
              "\n",
              "    .dataframe tbody tr th {\n",
              "        vertical-align: top;\n",
              "    }\n",
              "\n",
              "    .dataframe thead th {\n",
              "        text-align: right;\n",
              "    }\n",
              "</style>\n",
              "<table border=\"1\" class=\"dataframe\">\n",
              "  <thead>\n",
              "    <tr style=\"text-align: right;\">\n",
              "      <th></th>\n",
              "      <th>Unnamed: 0</th>\n",
              "      <th>track_id</th>\n",
              "      <th>track_name</th>\n",
              "      <th>track_artist</th>\n",
              "      <th>lyrics</th>\n",
              "      <th>track_popularity</th>\n",
              "      <th>track_album_id</th>\n",
              "      <th>track_album_name</th>\n",
              "      <th>track_album_release_date</th>\n",
              "      <th>playlist_name</th>\n",
              "      <th>playlist_id</th>\n",
              "      <th>playlist_genre</th>\n",
              "      <th>playlist_subgenre</th>\n",
              "      <th>danceability</th>\n",
              "      <th>energy</th>\n",
              "      <th>key</th>\n",
              "      <th>loudness</th>\n",
              "      <th>mode</th>\n",
              "      <th>speechiness</th>\n",
              "      <th>acousticness</th>\n",
              "      <th>instrumentalness</th>\n",
              "      <th>liveness</th>\n",
              "      <th>valence</th>\n",
              "      <th>tempo</th>\n",
              "      <th>duration_ms</th>\n",
              "      <th>language</th>\n",
              "      <th>label</th>\n",
              "      <th>isHappy</th>\n",
              "      <th>isSad</th>\n",
              "      <th>isHappy_pred</th>\n",
              "      <th>isSad_pred</th>\n",
              "    </tr>\n",
              "  </thead>\n",
              "  <tbody>\n",
              "    <tr>\n",
              "      <th>0</th>\n",
              "      <td>4422</td>\n",
              "      <td>1VFObW6RUUrKjWY0SahdMa</td>\n",
              "      <td>Are We Cool?</td>\n",
              "      <td>Mike Vallas</td>\n",
              "      <td>cool    ok   cool    ok  said  dont want sta...</td>\n",
              "      <td>37</td>\n",
              "      <td>0cc7f7pA20slPrte2Goc5I</td>\n",
              "      <td>Are We Cool?</td>\n",
              "      <td>2019-10-15</td>\n",
              "      <td>Electropop</td>\n",
              "      <td>2Z5cPJ6Z4EVZAfF08amjvL</td>\n",
              "      <td>pop</td>\n",
              "      <td>electropop</td>\n",
              "      <td>0.498</td>\n",
              "      <td>0.493</td>\n",
              "      <td>6</td>\n",
              "      <td>-8.428</td>\n",
              "      <td>1</td>\n",
              "      <td>0.0385</td>\n",
              "      <td>0.168000</td>\n",
              "      <td>0.000002</td>\n",
              "      <td>0.2150</td>\n",
              "      <td>0.2930</td>\n",
              "      <td>180.066</td>\n",
              "      <td>188187</td>\n",
              "      <td>en</td>\n",
              "      <td>Sadness</td>\n",
              "      <td>0</td>\n",
              "      <td>1</td>\n",
              "      <td>0</td>\n",
              "      <td>1</td>\n",
              "    </tr>\n",
              "    <tr>\n",
              "      <th>1</th>\n",
              "      <td>1591</td>\n",
              "      <td>0q9YVW7oLuDqxfjGTxb7Lx</td>\n",
              "      <td>Lick It Up</td>\n",
              "      <td>KISS</td>\n",
              "      <td>yeah yeah dont want  wait   know  better let  ...</td>\n",
              "      <td>0</td>\n",
              "      <td>3gbTIe7lJK7Xf33012sGIF</td>\n",
              "      <td>Discoveries</td>\n",
              "      <td>2008-10-20</td>\n",
              "      <td>Classic Hard Rock</td>\n",
              "      <td>1gAeQGQ7hr2q7IYmaejDW6</td>\n",
              "      <td>rock</td>\n",
              "      <td>hard rock</td>\n",
              "      <td>0.668</td>\n",
              "      <td>0.846</td>\n",
              "      <td>2</td>\n",
              "      <td>-4.149</td>\n",
              "      <td>1</td>\n",
              "      <td>0.0563</td>\n",
              "      <td>0.109000</td>\n",
              "      <td>0.000032</td>\n",
              "      <td>0.3200</td>\n",
              "      <td>0.5290</td>\n",
              "      <td>120.276</td>\n",
              "      <td>236013</td>\n",
              "      <td>en</td>\n",
              "      <td>Joy</td>\n",
              "      <td>1</td>\n",
              "      <td>0</td>\n",
              "      <td>1</td>\n",
              "      <td>0</td>\n",
              "    </tr>\n",
              "    <tr>\n",
              "      <th>2</th>\n",
              "      <td>13399</td>\n",
              "      <td>5QIKZWOHDPbGh5EpSqCXMG</td>\n",
              "      <td>All the Things</td>\n",
              "      <td>Gaullin</td>\n",
              "      <td>thing  said   thing  said runnin   head runn...</td>\n",
              "      <td>65</td>\n",
              "      <td>7fhzGoeqXEdVWVdxymGBHJ</td>\n",
              "      <td>All the Things</td>\n",
              "      <td>2018-02-07</td>\n",
              "      <td>🔊BASSBOOSTED🔊⚡ELECTRO HOUSE⚡🔥EDM CAR MUSIC2018...</td>\n",
              "      <td>4GSiiL8tcMgvoV7K1IADb8</td>\n",
              "      <td>edm</td>\n",
              "      <td>electro house</td>\n",
              "      <td>0.776</td>\n",
              "      <td>0.634</td>\n",
              "      <td>7</td>\n",
              "      <td>-10.345</td>\n",
              "      <td>1</td>\n",
              "      <td>0.1060</td>\n",
              "      <td>0.010200</td>\n",
              "      <td>0.168000</td>\n",
              "      <td>0.1190</td>\n",
              "      <td>0.4750</td>\n",
              "      <td>125.043</td>\n",
              "      <td>174745</td>\n",
              "      <td>en</td>\n",
              "      <td>Joy</td>\n",
              "      <td>1</td>\n",
              "      <td>0</td>\n",
              "      <td>1</td>\n",
              "      <td>0</td>\n",
              "    </tr>\n",
              "    <tr>\n",
              "      <th>3</th>\n",
              "      <td>4722</td>\n",
              "      <td>1zK7i2QyuCmpYE209BMcPZ</td>\n",
              "      <td>Son And Daughter - Remastered 2011</td>\n",
              "      <td>Queen</td>\n",
              "      <td>want  ahh woman tried    son  daughter rolled...</td>\n",
              "      <td>34</td>\n",
              "      <td>1kkb8xlG9yssEVsWKiEtAB</td>\n",
              "      <td>Queen (2011 Remaster)</td>\n",
              "      <td>1973-07-13</td>\n",
              "      <td>The Queen - La Discografia Completa</td>\n",
              "      <td>3E88dLx4fgFYY70gdGzdnB</td>\n",
              "      <td>rock</td>\n",
              "      <td>album rock</td>\n",
              "      <td>0.328</td>\n",
              "      <td>0.723</td>\n",
              "      <td>2</td>\n",
              "      <td>-7.842</td>\n",
              "      <td>1</td>\n",
              "      <td>0.0434</td>\n",
              "      <td>0.130000</td>\n",
              "      <td>0.085700</td>\n",
              "      <td>0.3690</td>\n",
              "      <td>0.7490</td>\n",
              "      <td>144.832</td>\n",
              "      <td>199533</td>\n",
              "      <td>en</td>\n",
              "      <td>Joy</td>\n",
              "      <td>1</td>\n",
              "      <td>0</td>\n",
              "      <td>0</td>\n",
              "      <td>0</td>\n",
              "    </tr>\n",
              "    <tr>\n",
              "      <th>4</th>\n",
              "      <td>17104</td>\n",
              "      <td>7CMAwm7mEkZkkaBl82DicE</td>\n",
              "      <td>2 Of Amerikaz Most Wanted - (Explicit)</td>\n",
              "      <td>2Pac</td>\n",
              "      <td>aint nothin   gangsta party eh light   sno...</td>\n",
              "      <td>1</td>\n",
              "      <td>3oaGekoJ37K0waoYjDzaRr</td>\n",
              "      <td>The Best of 2Pac - Pt. 1: Thug</td>\n",
              "      <td>2007-12-04</td>\n",
              "      <td>Gangsta Rap/90's Hip-Hop</td>\n",
              "      <td>62spXXfUxBed8nbd5xvH2O</td>\n",
              "      <td>rap</td>\n",
              "      <td>gangster rap</td>\n",
              "      <td>0.710</td>\n",
              "      <td>0.905</td>\n",
              "      <td>1</td>\n",
              "      <td>-2.578</td>\n",
              "      <td>1</td>\n",
              "      <td>0.3240</td>\n",
              "      <td>0.039100</td>\n",
              "      <td>0.000930</td>\n",
              "      <td>0.0562</td>\n",
              "      <td>0.8170</td>\n",
              "      <td>198.500</td>\n",
              "      <td>246147</td>\n",
              "      <td>en</td>\n",
              "      <td>Fear</td>\n",
              "      <td>0</td>\n",
              "      <td>0</td>\n",
              "      <td>0</td>\n",
              "      <td>0</td>\n",
              "    </tr>\n",
              "    <tr>\n",
              "      <th>...</th>\n",
              "      <td>...</td>\n",
              "      <td>...</td>\n",
              "      <td>...</td>\n",
              "      <td>...</td>\n",
              "      <td>...</td>\n",
              "      <td>...</td>\n",
              "      <td>...</td>\n",
              "      <td>...</td>\n",
              "      <td>...</td>\n",
              "      <td>...</td>\n",
              "      <td>...</td>\n",
              "      <td>...</td>\n",
              "      <td>...</td>\n",
              "      <td>...</td>\n",
              "      <td>...</td>\n",
              "      <td>...</td>\n",
              "      <td>...</td>\n",
              "      <td>...</td>\n",
              "      <td>...</td>\n",
              "      <td>...</td>\n",
              "      <td>...</td>\n",
              "      <td>...</td>\n",
              "      <td>...</td>\n",
              "      <td>...</td>\n",
              "      <td>...</td>\n",
              "      <td>...</td>\n",
              "      <td>...</td>\n",
              "      <td>...</td>\n",
              "      <td>...</td>\n",
              "      <td>...</td>\n",
              "      <td>...</td>\n",
              "    </tr>\n",
              "    <tr>\n",
              "      <th>6995</th>\n",
              "      <td>9570</td>\n",
              "      <td>43jJTO4MBgmaRybAaIHVA3</td>\n",
              "      <td>Arcadia - Original Mix</td>\n",
              "      <td>Hardwell</td>\n",
              "      <td>falling like domino reaching   star one  one h...</td>\n",
              "      <td>22</td>\n",
              "      <td>78NkVaYps3XM1G6jr6jlOE</td>\n",
              "      <td>Arcadia</td>\n",
              "      <td>2014-07-21</td>\n",
              "      <td>big boom room — TOMORROWLAND EDC EDM BIG ROOM ...</td>\n",
              "      <td>2oalsaFUockoPf1DU3wrL8</td>\n",
              "      <td>edm</td>\n",
              "      <td>big room</td>\n",
              "      <td>0.650</td>\n",
              "      <td>0.915</td>\n",
              "      <td>6</td>\n",
              "      <td>-2.896</td>\n",
              "      <td>0</td>\n",
              "      <td>0.0321</td>\n",
              "      <td>0.000264</td>\n",
              "      <td>0.029300</td>\n",
              "      <td>0.1080</td>\n",
              "      <td>0.1300</td>\n",
              "      <td>128.007</td>\n",
              "      <td>298125</td>\n",
              "      <td>en</td>\n",
              "      <td>Joy</td>\n",
              "      <td>1</td>\n",
              "      <td>0</td>\n",
              "      <td>1</td>\n",
              "      <td>0</td>\n",
              "    </tr>\n",
              "    <tr>\n",
              "      <th>6996</th>\n",
              "      <td>295</td>\n",
              "      <td>088eGKZm5dgDxFauCEwOqp</td>\n",
              "      <td>Real Eyes</td>\n",
              "      <td>Fili</td>\n",
              "      <td>got   car heading  coast left  worry  plan beh...</td>\n",
              "      <td>38</td>\n",
              "      <td>77g3tHy63PwOI1IRxEtNMT</td>\n",
              "      <td>Real Eyes</td>\n",
              "      <td>2019-12-20</td>\n",
              "      <td>The Edge of Indie Poptimism</td>\n",
              "      <td>5vIdb67lQcdFwoVkE4UMep</td>\n",
              "      <td>pop</td>\n",
              "      <td>indie poptimism</td>\n",
              "      <td>0.455</td>\n",
              "      <td>0.510</td>\n",
              "      <td>1</td>\n",
              "      <td>-10.020</td>\n",
              "      <td>1</td>\n",
              "      <td>0.0488</td>\n",
              "      <td>0.523000</td>\n",
              "      <td>0.076100</td>\n",
              "      <td>0.0826</td>\n",
              "      <td>0.0368</td>\n",
              "      <td>100.145</td>\n",
              "      <td>254257</td>\n",
              "      <td>en</td>\n",
              "      <td>Joy</td>\n",
              "      <td>1</td>\n",
              "      <td>0</td>\n",
              "      <td>0</td>\n",
              "      <td>0</td>\n",
              "    </tr>\n",
              "    <tr>\n",
              "      <th>6997</th>\n",
              "      <td>9436</td>\n",
              "      <td>4090PyjhaukeGh0c93jh1Y</td>\n",
              "      <td>Stuck In The Middle With You</td>\n",
              "      <td>Stealers Wheel</td>\n",
              "      <td>well  dont know   came  tonight  got  feeling ...</td>\n",
              "      <td>19</td>\n",
              "      <td>4neIU9gg7nkWZkNltoi4lq</td>\n",
              "      <td>Stuck In The Middle With You - The Hits Collec...</td>\n",
              "      <td>1998-01-01</td>\n",
              "      <td>Hard Rock Cafe Classics</td>\n",
              "      <td>3sv5ViKoPDNnZRsklzEGMN</td>\n",
              "      <td>rock</td>\n",
              "      <td>hard rock</td>\n",
              "      <td>0.749</td>\n",
              "      <td>0.740</td>\n",
              "      <td>7</td>\n",
              "      <td>-4.965</td>\n",
              "      <td>1</td>\n",
              "      <td>0.0334</td>\n",
              "      <td>0.055200</td>\n",
              "      <td>0.000569</td>\n",
              "      <td>0.1600</td>\n",
              "      <td>0.9620</td>\n",
              "      <td>124.463</td>\n",
              "      <td>206560</td>\n",
              "      <td>en</td>\n",
              "      <td>Sadness</td>\n",
              "      <td>0</td>\n",
              "      <td>1</td>\n",
              "      <td>0</td>\n",
              "      <td>1</td>\n",
              "    </tr>\n",
              "    <tr>\n",
              "      <th>6998</th>\n",
              "      <td>16514</td>\n",
              "      <td>6Zp0xvhkmV7OE1iKuvVclq</td>\n",
              "      <td>Heaven</td>\n",
              "      <td>Mary Mary</td>\n",
              "      <td>got ta get  together cuz  got someplace  go  ...</td>\n",
              "      <td>36</td>\n",
              "      <td>2gXi6y3T7xN3XW0jR4jCbl</td>\n",
              "      <td>Mary Mary</td>\n",
              "      <td>2005-11-29</td>\n",
              "      <td>Gospel</td>\n",
              "      <td>0pItJZBDZFvgAOdFnSITnJ</td>\n",
              "      <td>r&amp;b</td>\n",
              "      <td>urban contemporary</td>\n",
              "      <td>0.564</td>\n",
              "      <td>0.839</td>\n",
              "      <td>1</td>\n",
              "      <td>-6.076</td>\n",
              "      <td>1</td>\n",
              "      <td>0.0766</td>\n",
              "      <td>0.008780</td>\n",
              "      <td>0.012100</td>\n",
              "      <td>0.3100</td>\n",
              "      <td>0.5240</td>\n",
              "      <td>94.629</td>\n",
              "      <td>225333</td>\n",
              "      <td>en</td>\n",
              "      <td>Fear</td>\n",
              "      <td>0</td>\n",
              "      <td>0</td>\n",
              "      <td>0</td>\n",
              "      <td>0</td>\n",
              "    </tr>\n",
              "    <tr>\n",
              "      <th>6999</th>\n",
              "      <td>11838</td>\n",
              "      <td>510UgVCpnUaQ5ACHW2J8gu</td>\n",
              "      <td>Recognise</td>\n",
              "      <td>Lost Frequencies</td>\n",
              "      <td>ooh ooh something   dont know feel  creeping  ...</td>\n",
              "      <td>60</td>\n",
              "      <td>03qoJ4Ioczrn4dBFrKRHxU</td>\n",
              "      <td>Recognise</td>\n",
              "      <td>2019-03-08</td>\n",
              "      <td>Tropical House</td>\n",
              "      <td>37i9dQZF1DX0AMssoUKCz7</td>\n",
              "      <td>latin</td>\n",
              "      <td>tropical</td>\n",
              "      <td>0.717</td>\n",
              "      <td>0.741</td>\n",
              "      <td>10</td>\n",
              "      <td>-6.645</td>\n",
              "      <td>0</td>\n",
              "      <td>0.0530</td>\n",
              "      <td>0.155000</td>\n",
              "      <td>0.000000</td>\n",
              "      <td>0.1330</td>\n",
              "      <td>0.1880</td>\n",
              "      <td>105.997</td>\n",
              "      <td>186062</td>\n",
              "      <td>en</td>\n",
              "      <td>Sadness</td>\n",
              "      <td>0</td>\n",
              "      <td>1</td>\n",
              "      <td>0</td>\n",
              "      <td>1</td>\n",
              "    </tr>\n",
              "  </tbody>\n",
              "</table>\n",
              "<p>7000 rows × 31 columns</p>\n",
              "</div>"
            ],
            "text/plain": [
              "      Unnamed: 0                track_id  ... isHappy_pred isSad_pred\n",
              "0           4422  1VFObW6RUUrKjWY0SahdMa  ...            0          1\n",
              "1           1591  0q9YVW7oLuDqxfjGTxb7Lx  ...            1          0\n",
              "2          13399  5QIKZWOHDPbGh5EpSqCXMG  ...            1          0\n",
              "3           4722  1zK7i2QyuCmpYE209BMcPZ  ...            0          0\n",
              "4          17104  7CMAwm7mEkZkkaBl82DicE  ...            0          0\n",
              "...          ...                     ...  ...          ...        ...\n",
              "6995        9570  43jJTO4MBgmaRybAaIHVA3  ...            1          0\n",
              "6996         295  088eGKZm5dgDxFauCEwOqp  ...            0          0\n",
              "6997        9436  4090PyjhaukeGh0c93jh1Y  ...            0          1\n",
              "6998       16514  6Zp0xvhkmV7OE1iKuvVclq  ...            0          0\n",
              "6999       11838  510UgVCpnUaQ5ACHW2J8gu  ...            0          1\n",
              "\n",
              "[7000 rows x 31 columns]"
            ]
          },
          "metadata": {},
          "execution_count": 17
        }
      ]
    },
    {
      "cell_type": "code",
      "metadata": {
        "colab": {
          "base_uri": "https://localhost:8080/",
          "height": 179
        },
        "id": "2ZEcd0G1p1G_",
        "outputId": "1bdc9d2a-8e8b-48aa-ac53-c435fc8e61fd"
      },
      "source": [
        "happy_and_sad_songs = kaggle_songs[(kaggle_songs.label == 'Sadness') | (kaggle_songs.label == 'Joy')]\n",
        "happy_and_sad_songs.groupby('isHappy').mean()"
      ],
      "execution_count": null,
      "outputs": [
        {
          "output_type": "execute_result",
          "data": {
            "text/html": [
              "<div>\n",
              "<style scoped>\n",
              "    .dataframe tbody tr th:only-of-type {\n",
              "        vertical-align: middle;\n",
              "    }\n",
              "\n",
              "    .dataframe tbody tr th {\n",
              "        vertical-align: top;\n",
              "    }\n",
              "\n",
              "    .dataframe thead th {\n",
              "        text-align: right;\n",
              "    }\n",
              "</style>\n",
              "<table border=\"1\" class=\"dataframe\">\n",
              "  <thead>\n",
              "    <tr style=\"text-align: right;\">\n",
              "      <th></th>\n",
              "      <th>Unnamed: 0</th>\n",
              "      <th>track_popularity</th>\n",
              "      <th>danceability</th>\n",
              "      <th>energy</th>\n",
              "      <th>key</th>\n",
              "      <th>loudness</th>\n",
              "      <th>mode</th>\n",
              "      <th>speechiness</th>\n",
              "      <th>acousticness</th>\n",
              "      <th>instrumentalness</th>\n",
              "      <th>liveness</th>\n",
              "      <th>valence</th>\n",
              "      <th>tempo</th>\n",
              "      <th>duration_ms</th>\n",
              "      <th>isSad</th>\n",
              "    </tr>\n",
              "    <tr>\n",
              "      <th>isHappy</th>\n",
              "      <th></th>\n",
              "      <th></th>\n",
              "      <th></th>\n",
              "      <th></th>\n",
              "      <th></th>\n",
              "      <th></th>\n",
              "      <th></th>\n",
              "      <th></th>\n",
              "      <th></th>\n",
              "      <th></th>\n",
              "      <th></th>\n",
              "      <th></th>\n",
              "      <th></th>\n",
              "      <th></th>\n",
              "      <th></th>\n",
              "    </tr>\n",
              "  </thead>\n",
              "  <tbody>\n",
              "    <tr>\n",
              "      <th>0</th>\n",
              "      <td>9291.747409</td>\n",
              "      <td>41.965889</td>\n",
              "      <td>0.612758</td>\n",
              "      <td>0.687118</td>\n",
              "      <td>5.418826</td>\n",
              "      <td>-6.851424</td>\n",
              "      <td>0.579447</td>\n",
              "      <td>0.086202</td>\n",
              "      <td>0.174359</td>\n",
              "      <td>0.038904</td>\n",
              "      <td>0.187022</td>\n",
              "      <td>0.498852</td>\n",
              "      <td>121.209971</td>\n",
              "      <td>233388.321244</td>\n",
              "      <td>1.0</td>\n",
              "    </tr>\n",
              "    <tr>\n",
              "      <th>1</th>\n",
              "      <td>9212.331437</td>\n",
              "      <td>40.039118</td>\n",
              "      <td>0.627679</td>\n",
              "      <td>0.677801</td>\n",
              "      <td>5.256046</td>\n",
              "      <td>-7.316755</td>\n",
              "      <td>0.599573</td>\n",
              "      <td>0.081568</td>\n",
              "      <td>0.181132</td>\n",
              "      <td>0.060768</td>\n",
              "      <td>0.177995</td>\n",
              "      <td>0.535943</td>\n",
              "      <td>120.071706</td>\n",
              "      <td>234539.855619</td>\n",
              "      <td>0.0</td>\n",
              "    </tr>\n",
              "  </tbody>\n",
              "</table>\n",
              "</div>"
            ],
            "text/plain": [
              "          Unnamed: 0  track_popularity  ...    duration_ms  isSad\n",
              "isHappy                                 ...                      \n",
              "0        9291.747409         41.965889  ...  233388.321244    1.0\n",
              "1        9212.331437         40.039118  ...  234539.855619    0.0\n",
              "\n",
              "[2 rows x 15 columns]"
            ]
          },
          "metadata": {},
          "execution_count": 38
        }
      ]
    },
    {
      "cell_type": "code",
      "metadata": {
        "colab": {
          "base_uri": "https://localhost:8080/",
          "height": 17
        },
        "id": "gwnUMAMTYGaA",
        "outputId": "84f87a2d-4f8d-439a-e399-35d43e587973"
      },
      "source": [
        "from google.colab import files\n",
        "test.to_csv('labled_songs_predictions.csv')\n",
        "files.download('labled_songs_predictions.csv')"
      ],
      "execution_count": null,
      "outputs": [
        {
          "output_type": "display_data",
          "data": {
            "application/javascript": [
              "\n",
              "    async function download(id, filename, size) {\n",
              "      if (!google.colab.kernel.accessAllowed) {\n",
              "        return;\n",
              "      }\n",
              "      const div = document.createElement('div');\n",
              "      const label = document.createElement('label');\n",
              "      label.textContent = `Downloading \"${filename}\": `;\n",
              "      div.appendChild(label);\n",
              "      const progress = document.createElement('progress');\n",
              "      progress.max = size;\n",
              "      div.appendChild(progress);\n",
              "      document.body.appendChild(div);\n",
              "\n",
              "      const buffers = [];\n",
              "      let downloaded = 0;\n",
              "\n",
              "      const channel = await google.colab.kernel.comms.open(id);\n",
              "      // Send a message to notify the kernel that we're ready.\n",
              "      channel.send({})\n",
              "\n",
              "      for await (const message of channel.messages) {\n",
              "        // Send a message to notify the kernel that we're ready.\n",
              "        channel.send({})\n",
              "        if (message.buffers) {\n",
              "          for (const buffer of message.buffers) {\n",
              "            buffers.push(buffer);\n",
              "            downloaded += buffer.byteLength;\n",
              "            progress.value = downloaded;\n",
              "          }\n",
              "        }\n",
              "      }\n",
              "      const blob = new Blob(buffers, {type: 'application/binary'});\n",
              "      const a = document.createElement('a');\n",
              "      a.href = window.URL.createObjectURL(blob);\n",
              "      a.download = filename;\n",
              "      div.appendChild(a);\n",
              "      a.click();\n",
              "      div.remove();\n",
              "    }\n",
              "  "
            ],
            "text/plain": [
              "<IPython.core.display.Javascript object>"
            ]
          },
          "metadata": {}
        },
        {
          "output_type": "display_data",
          "data": {
            "application/javascript": [
              "download(\"download_63aeb779-8434-468f-a9e5-839ad76439e8\", \"labled_songs_predictions.csv\", 12508591)"
            ],
            "text/plain": [
              "<IPython.core.display.Javascript object>"
            ]
          },
          "metadata": {}
        }
      ]
    },
    {
      "cell_type": "code",
      "metadata": {
        "id": "MiJglEMygSBn"
      },
      "source": [
        "##################################spotify songs#########################################"
      ],
      "execution_count": null,
      "outputs": []
    },
    {
      "cell_type": "code",
      "metadata": {
        "id": "f6I_h6Qaf1f0"
      },
      "source": [
        "#reading in dataset created from spotify \n",
        "spotify_songs = pd.read_csv('all_songs_1126_noNONE_allEN.csv')\n",
        "\n",
        "#adding isSad to spotify data \n",
        "spotify_songs['isSad'] = spotify_songs.apply(lambda row: 1 if row['isHappy'] == 0 else 0, axis=1)\n",
        "\n",
        "#test data\n",
        "kaggle_data = raw_kaggle_songs.sample(n=6000, random_state=1).reset_index(drop=True)\n",
        "kaggle_data['isHappy'] = kaggle_data.apply(lambda row: 1 if row['label'] == 'Joy' else 0, axis=1)\n",
        "kaggle_data['isSad'] = kaggle_data.apply(lambda row: 1 if row['label'] == 'Sadness' else 0, axis=1)"
      ],
      "execution_count": null,
      "outputs": []
    },
    {
      "cell_type": "code",
      "metadata": {
        "colab": {
          "base_uri": "https://localhost:8080/",
          "height": 1000
        },
        "id": "rTfXiEH_y1Bf",
        "outputId": "91b2179a-0bfc-4c9b-c290-509027ddc05a"
      },
      "source": [
        "# Version 2 with audio features\n",
        "kaggle_data_v2 = kaggle_data.copy()\n",
        "x_train_audio_features = spotify_songs[['danceability', 'energy', 'loudness', 'valence']]\n",
        "y_train_audio_features = spotify_songs['isHappy']\n",
        "features_model = LogisticRegression(penalty='l2').fit(x_train_audio_features, y_train_audio_features)\n",
        "preds = features_model.predict(kaggle_data_v2[['danceability', 'energy', 'loudness', 'valence']])\n",
        "kaggle_data_v2['audio_features_preds'] = preds\n",
        "kaggle_data_v2"
      ],
      "execution_count": null,
      "outputs": [
        {
          "output_type": "execute_result",
          "data": {
            "text/html": [
              "<div>\n",
              "<style scoped>\n",
              "    .dataframe tbody tr th:only-of-type {\n",
              "        vertical-align: middle;\n",
              "    }\n",
              "\n",
              "    .dataframe tbody tr th {\n",
              "        vertical-align: top;\n",
              "    }\n",
              "\n",
              "    .dataframe thead th {\n",
              "        text-align: right;\n",
              "    }\n",
              "</style>\n",
              "<table border=\"1\" class=\"dataframe\">\n",
              "  <thead>\n",
              "    <tr style=\"text-align: right;\">\n",
              "      <th></th>\n",
              "      <th>Unnamed: 0</th>\n",
              "      <th>track_id</th>\n",
              "      <th>track_name</th>\n",
              "      <th>track_artist</th>\n",
              "      <th>lyrics</th>\n",
              "      <th>track_popularity</th>\n",
              "      <th>track_album_id</th>\n",
              "      <th>track_album_name</th>\n",
              "      <th>track_album_release_date</th>\n",
              "      <th>playlist_name</th>\n",
              "      <th>playlist_id</th>\n",
              "      <th>playlist_genre</th>\n",
              "      <th>playlist_subgenre</th>\n",
              "      <th>danceability</th>\n",
              "      <th>energy</th>\n",
              "      <th>key</th>\n",
              "      <th>loudness</th>\n",
              "      <th>mode</th>\n",
              "      <th>speechiness</th>\n",
              "      <th>acousticness</th>\n",
              "      <th>instrumentalness</th>\n",
              "      <th>liveness</th>\n",
              "      <th>valence</th>\n",
              "      <th>tempo</th>\n",
              "      <th>duration_ms</th>\n",
              "      <th>language</th>\n",
              "      <th>label</th>\n",
              "      <th>isHappy</th>\n",
              "      <th>isSad</th>\n",
              "      <th>audio_features_preds</th>\n",
              "    </tr>\n",
              "  </thead>\n",
              "  <tbody>\n",
              "    <tr>\n",
              "      <th>0</th>\n",
              "      <td>8772</td>\n",
              "      <td>3rLZh34oJ1KzLkYwPVYUgP</td>\n",
              "      <td>Anywhere - Willy William Remix</td>\n",
              "      <td>Rita Ora</td>\n",
              "      <td>Time flies by when the night is young Daylight...</td>\n",
              "      <td>27</td>\n",
              "      <td>7JdaTcp2GIiBv3XSGLAe8W</td>\n",
              "      <td>Anywhere (Willy William Remix)</td>\n",
              "      <td>2017-11-24</td>\n",
              "      <td>EDM TROPICAL</td>\n",
              "      <td>3pS63EDS40FVGYL41zAcU4</td>\n",
              "      <td>latin</td>\n",
              "      <td>tropical</td>\n",
              "      <td>0.715</td>\n",
              "      <td>0.556</td>\n",
              "      <td>11</td>\n",
              "      <td>-10.456</td>\n",
              "      <td>0</td>\n",
              "      <td>0.0323</td>\n",
              "      <td>0.00283</td>\n",
              "      <td>0.002210</td>\n",
              "      <td>0.1860</td>\n",
              "      <td>0.119</td>\n",
              "      <td>106.970</td>\n",
              "      <td>213084</td>\n",
              "      <td>en</td>\n",
              "      <td>Sadness</td>\n",
              "      <td>0</td>\n",
              "      <td>1</td>\n",
              "      <td>0</td>\n",
              "    </tr>\n",
              "    <tr>\n",
              "      <th>1</th>\n",
              "      <td>8821</td>\n",
              "      <td>3ScJy88F8KqGDfWu8XJhHx</td>\n",
              "      <td>If I Lose Myself - Alesso vs OneRepublic</td>\n",
              "      <td>OneRepublic</td>\n",
              "      <td>I stared up at the sun Thought of all of the p...</td>\n",
              "      <td>67</td>\n",
              "      <td>42UJjk8i8L0De7lQtu7sqi</td>\n",
              "      <td>Native</td>\n",
              "      <td>2014-01-01</td>\n",
              "      <td>Electropop Hits  2017-2020</td>\n",
              "      <td>7kyvBmlc1uSqsTL0EuNLrx</td>\n",
              "      <td>pop</td>\n",
              "      <td>electropop</td>\n",
              "      <td>0.519</td>\n",
              "      <td>0.754</td>\n",
              "      <td>2</td>\n",
              "      <td>-5.689</td>\n",
              "      <td>1</td>\n",
              "      <td>0.0402</td>\n",
              "      <td>0.25800</td>\n",
              "      <td>0.000004</td>\n",
              "      <td>0.1390</td>\n",
              "      <td>0.160</td>\n",
              "      <td>125.975</td>\n",
              "      <td>215187</td>\n",
              "      <td>en</td>\n",
              "      <td>Fear</td>\n",
              "      <td>0</td>\n",
              "      <td>0</td>\n",
              "      <td>0</td>\n",
              "    </tr>\n",
              "    <tr>\n",
              "      <th>2</th>\n",
              "      <td>1730</td>\n",
              "      <td>0RZXNlGPvfMo54fd6uCvAT</td>\n",
              "      <td>Knuck If You Buck (feat. Lil' Scrappy)</td>\n",
              "      <td>Crime Mob</td>\n",
              "      <td>Knuck if you buck, boy (Crime Mob, hoe) Knuck ...</td>\n",
              "      <td>60</td>\n",
              "      <td>09stXr7AeoB1PsE3RpMpyU</td>\n",
              "      <td>Crime Mob (U.S. PA Version)</td>\n",
              "      <td>2004-07-13</td>\n",
              "      <td>Hip-Hop Drive</td>\n",
              "      <td>37i9dQZF1DWUFmyho2wkQU</td>\n",
              "      <td>rap</td>\n",
              "      <td>hip hop</td>\n",
              "      <td>0.865</td>\n",
              "      <td>0.844</td>\n",
              "      <td>8</td>\n",
              "      <td>-4.946</td>\n",
              "      <td>1</td>\n",
              "      <td>0.3110</td>\n",
              "      <td>0.05820</td>\n",
              "      <td>0.000000</td>\n",
              "      <td>0.3730</td>\n",
              "      <td>0.755</td>\n",
              "      <td>150.090</td>\n",
              "      <td>205120</td>\n",
              "      <td>en</td>\n",
              "      <td>Anger</td>\n",
              "      <td>0</td>\n",
              "      <td>0</td>\n",
              "      <td>1</td>\n",
              "    </tr>\n",
              "    <tr>\n",
              "      <th>3</th>\n",
              "      <td>7881</td>\n",
              "      <td>3fCqWsYPCPdLteUpeIOeyQ</td>\n",
              "      <td>Let's Wait Awhile</td>\n",
              "      <td>Janet Jackson</td>\n",
              "      <td>There's something I want to tell you There's s...</td>\n",
              "      <td>1</td>\n",
              "      <td>3W2rEBPIwXyogofa5b4e6x</td>\n",
              "      <td>Control</td>\n",
              "      <td>1986-02-04</td>\n",
              "      <td>New Jack Swing</td>\n",
              "      <td>3ykXidKLz1eYPvuGoFlD1e</td>\n",
              "      <td>r&amp;b</td>\n",
              "      <td>new jack swing</td>\n",
              "      <td>0.592</td>\n",
              "      <td>0.188</td>\n",
              "      <td>1</td>\n",
              "      <td>-17.243</td>\n",
              "      <td>1</td>\n",
              "      <td>0.0377</td>\n",
              "      <td>0.82000</td>\n",
              "      <td>0.000000</td>\n",
              "      <td>0.1320</td>\n",
              "      <td>0.378</td>\n",
              "      <td>172.683</td>\n",
              "      <td>276689</td>\n",
              "      <td>en</td>\n",
              "      <td>Joy</td>\n",
              "      <td>1</td>\n",
              "      <td>0</td>\n",
              "      <td>0</td>\n",
              "    </tr>\n",
              "    <tr>\n",
              "      <th>4</th>\n",
              "      <td>7142</td>\n",
              "      <td>31QRCKy7JIwPBaQl9ArGBz</td>\n",
              "      <td>Who's Laughing Now</td>\n",
              "      <td>Jessie J</td>\n",
              "      <td>Mummy, they call me names, they wouldn't let m...</td>\n",
              "      <td>49</td>\n",
              "      <td>0BZbTNqpXFg6lxNv78X7Lp</td>\n",
              "      <td>Who You Are (Platinum Edition)</td>\n",
              "      <td>2011-01-01</td>\n",
              "      <td>post teen pop</td>\n",
              "      <td>6rjxP7GQKoqqgoakzxl3PY</td>\n",
              "      <td>pop</td>\n",
              "      <td>post-teen pop</td>\n",
              "      <td>0.784</td>\n",
              "      <td>0.842</td>\n",
              "      <td>1</td>\n",
              "      <td>-4.041</td>\n",
              "      <td>1</td>\n",
              "      <td>0.1870</td>\n",
              "      <td>0.00448</td>\n",
              "      <td>0.000029</td>\n",
              "      <td>0.1040</td>\n",
              "      <td>0.483</td>\n",
              "      <td>100.035</td>\n",
              "      <td>234880</td>\n",
              "      <td>en</td>\n",
              "      <td>Sadness</td>\n",
              "      <td>0</td>\n",
              "      <td>1</td>\n",
              "      <td>1</td>\n",
              "    </tr>\n",
              "    <tr>\n",
              "      <th>...</th>\n",
              "      <td>...</td>\n",
              "      <td>...</td>\n",
              "      <td>...</td>\n",
              "      <td>...</td>\n",
              "      <td>...</td>\n",
              "      <td>...</td>\n",
              "      <td>...</td>\n",
              "      <td>...</td>\n",
              "      <td>...</td>\n",
              "      <td>...</td>\n",
              "      <td>...</td>\n",
              "      <td>...</td>\n",
              "      <td>...</td>\n",
              "      <td>...</td>\n",
              "      <td>...</td>\n",
              "      <td>...</td>\n",
              "      <td>...</td>\n",
              "      <td>...</td>\n",
              "      <td>...</td>\n",
              "      <td>...</td>\n",
              "      <td>...</td>\n",
              "      <td>...</td>\n",
              "      <td>...</td>\n",
              "      <td>...</td>\n",
              "      <td>...</td>\n",
              "      <td>...</td>\n",
              "      <td>...</td>\n",
              "      <td>...</td>\n",
              "      <td>...</td>\n",
              "      <td>...</td>\n",
              "    </tr>\n",
              "    <tr>\n",
              "      <th>5995</th>\n",
              "      <td>144</td>\n",
              "      <td>04g1aQFzaegB7ovWaMMIzz</td>\n",
              "      <td>Congratulations - Don Diablo VIP Mix</td>\n",
              "      <td>Don Diablo</td>\n",
              "      <td>Dreaming Dreaming about the days that we could...</td>\n",
              "      <td>51</td>\n",
              "      <td>4PFXME1mmhj54RxWMxH5UX</td>\n",
              "      <td>Congratulations (Don Diablo VIP Mix)</td>\n",
              "      <td>2020-01-17</td>\n",
              "      <td>Electro House Top Tracks</td>\n",
              "      <td>1G0q0NK7g3C0XerNqq7GbL</td>\n",
              "      <td>edm</td>\n",
              "      <td>electro house</td>\n",
              "      <td>0.818</td>\n",
              "      <td>0.879</td>\n",
              "      <td>7</td>\n",
              "      <td>-4.677</td>\n",
              "      <td>0</td>\n",
              "      <td>0.2050</td>\n",
              "      <td>0.09120</td>\n",
              "      <td>0.005610</td>\n",
              "      <td>0.1400</td>\n",
              "      <td>0.256</td>\n",
              "      <td>123.980</td>\n",
              "      <td>195484</td>\n",
              "      <td>en</td>\n",
              "      <td>Sadness</td>\n",
              "      <td>0</td>\n",
              "      <td>1</td>\n",
              "      <td>1</td>\n",
              "    </tr>\n",
              "    <tr>\n",
              "      <th>5996</th>\n",
              "      <td>5971</td>\n",
              "      <td>2LBqCSwhJGcFQeTHMVGwy3</td>\n",
              "      <td>Die For You</td>\n",
              "      <td>The Weeknd</td>\n",
              "      <td>I'm findin' ways to articulate the feeling I'm...</td>\n",
              "      <td>67</td>\n",
              "      <td>4AdZV63ycxFLF6Hcol0QnB</td>\n",
              "      <td>Starboy</td>\n",
              "      <td>2016-11-24</td>\n",
              "      <td>Today's Hits (Clean)</td>\n",
              "      <td>7ENISpOJhocpMJVcGb0qcT</td>\n",
              "      <td>r&amp;b</td>\n",
              "      <td>hip pop</td>\n",
              "      <td>0.586</td>\n",
              "      <td>0.525</td>\n",
              "      <td>1</td>\n",
              "      <td>-7.163</td>\n",
              "      <td>0</td>\n",
              "      <td>0.0615</td>\n",
              "      <td>0.11100</td>\n",
              "      <td>0.000000</td>\n",
              "      <td>0.1340</td>\n",
              "      <td>0.508</td>\n",
              "      <td>133.629</td>\n",
              "      <td>260253</td>\n",
              "      <td>en</td>\n",
              "      <td>Sadness</td>\n",
              "      <td>0</td>\n",
              "      <td>1</td>\n",
              "      <td>0</td>\n",
              "    </tr>\n",
              "    <tr>\n",
              "      <th>5997</th>\n",
              "      <td>10551</td>\n",
              "      <td>4jJEQg6mr3fQsUCYTwhBEZ</td>\n",
              "      <td>Sun</td>\n",
              "      <td>Two Door Cinema Club</td>\n",
              "      <td>Ocean blue What have I done to you? Cut so dee...</td>\n",
              "      <td>60</td>\n",
              "      <td>6CPwf8Yo8a4cgBDVeShL5C</td>\n",
              "      <td>Beacon</td>\n",
              "      <td>2012-09-03</td>\n",
              "      <td>Indie/Jazz Poptimism</td>\n",
              "      <td>6OaTudLqBEuTyUMPxRNpZc</td>\n",
              "      <td>pop</td>\n",
              "      <td>indie poptimism</td>\n",
              "      <td>0.647</td>\n",
              "      <td>0.534</td>\n",
              "      <td>4</td>\n",
              "      <td>-5.439</td>\n",
              "      <td>0</td>\n",
              "      <td>0.0279</td>\n",
              "      <td>0.01100</td>\n",
              "      <td>0.000249</td>\n",
              "      <td>0.1040</td>\n",
              "      <td>0.673</td>\n",
              "      <td>96.980</td>\n",
              "      <td>187720</td>\n",
              "      <td>en</td>\n",
              "      <td>Sadness</td>\n",
              "      <td>0</td>\n",
              "      <td>1</td>\n",
              "      <td>1</td>\n",
              "    </tr>\n",
              "    <tr>\n",
              "      <th>5998</th>\n",
              "      <td>11187</td>\n",
              "      <td>4rFKp5rDJS3bldnga3QDLY</td>\n",
              "      <td>Everything and More (feat. Aaron Cole)</td>\n",
              "      <td>Hollyn</td>\n",
              "      <td>I was wrong (Wrong) to ever let you go You're ...</td>\n",
              "      <td>43</td>\n",
              "      <td>5RoaRB24uoKbClziJyISOo</td>\n",
              "      <td>Everything and More / Isaac</td>\n",
              "      <td>2018-10-19</td>\n",
              "      <td>Christian Dance Party</td>\n",
              "      <td>37i9dQZF1DWUUPO0Sbx2CM</td>\n",
              "      <td>pop</td>\n",
              "      <td>dance pop</td>\n",
              "      <td>0.656</td>\n",
              "      <td>0.700</td>\n",
              "      <td>4</td>\n",
              "      <td>-7.176</td>\n",
              "      <td>0</td>\n",
              "      <td>0.0431</td>\n",
              "      <td>0.24900</td>\n",
              "      <td>0.000000</td>\n",
              "      <td>0.2210</td>\n",
              "      <td>0.293</td>\n",
              "      <td>100.010</td>\n",
              "      <td>197000</td>\n",
              "      <td>en</td>\n",
              "      <td>Fear</td>\n",
              "      <td>0</td>\n",
              "      <td>0</td>\n",
              "      <td>0</td>\n",
              "    </tr>\n",
              "    <tr>\n",
              "      <th>5999</th>\n",
              "      <td>16945</td>\n",
              "      <td>7AHBjnDdrzVS1GcND9SrTq</td>\n",
              "      <td>Ibiza (Desaparecidos Vs Walter Master J) - Raf...</td>\n",
              "      <td>Desaparecidos</td>\n",
              "      <td>London, Paris, Munich, Rome, Ibiza, new York, ...</td>\n",
              "      <td>44</td>\n",
              "      <td>2CjdJUStXZh0hfKVJf1eWW</td>\n",
              "      <td>Ibiza (Raf Marchesini &amp; Simone Farina 2K19 Rem...</td>\n",
              "      <td>2019-06-21</td>\n",
              "      <td>EDM 2020 House &amp; Dance</td>\n",
              "      <td>25ButZrVb1Zj1MJioMs09D</td>\n",
              "      <td>edm</td>\n",
              "      <td>electro house</td>\n",
              "      <td>0.733</td>\n",
              "      <td>0.962</td>\n",
              "      <td>7</td>\n",
              "      <td>-2.705</td>\n",
              "      <td>1</td>\n",
              "      <td>0.1940</td>\n",
              "      <td>0.00288</td>\n",
              "      <td>0.048600</td>\n",
              "      <td>0.0397</td>\n",
              "      <td>0.484</td>\n",
              "      <td>127.998</td>\n",
              "      <td>270627</td>\n",
              "      <td>en</td>\n",
              "      <td>Joy</td>\n",
              "      <td>1</td>\n",
              "      <td>0</td>\n",
              "      <td>1</td>\n",
              "    </tr>\n",
              "  </tbody>\n",
              "</table>\n",
              "<p>6000 rows × 30 columns</p>\n",
              "</div>"
            ],
            "text/plain": [
              "      Unnamed: 0                track_id  ... isSad audio_features_preds\n",
              "0           8772  3rLZh34oJ1KzLkYwPVYUgP  ...     1                    0\n",
              "1           8821  3ScJy88F8KqGDfWu8XJhHx  ...     0                    0\n",
              "2           1730  0RZXNlGPvfMo54fd6uCvAT  ...     0                    1\n",
              "3           7881  3fCqWsYPCPdLteUpeIOeyQ  ...     0                    0\n",
              "4           7142  31QRCKy7JIwPBaQl9ArGBz  ...     1                    1\n",
              "...          ...                     ...  ...   ...                  ...\n",
              "5995         144  04g1aQFzaegB7ovWaMMIzz  ...     1                    1\n",
              "5996        5971  2LBqCSwhJGcFQeTHMVGwy3  ...     1                    0\n",
              "5997       10551  4jJEQg6mr3fQsUCYTwhBEZ  ...     1                    1\n",
              "5998       11187  4rFKp5rDJS3bldnga3QDLY  ...     0                    0\n",
              "5999       16945  7AHBjnDdrzVS1GcND9SrTq  ...     0                    1\n",
              "\n",
              "[6000 rows x 30 columns]"
            ]
          },
          "metadata": {},
          "execution_count": 9
        }
      ]
    },
    {
      "cell_type": "code",
      "metadata": {
        "colab": {
          "base_uri": "https://localhost:8080/",
          "height": 17
        },
        "id": "4zEBa46N1H9N",
        "outputId": "e3574de4-45ab-447c-9d57-c3e8dec82d84"
      },
      "source": [
        "from google.colab import files\n",
        "kaggle_data_v2.to_csv('audio_features_predictions.csv')\n",
        "files.download('audio_features_predictions.csv')"
      ],
      "execution_count": null,
      "outputs": [
        {
          "output_type": "display_data",
          "data": {
            "application/javascript": [
              "\n",
              "    async function download(id, filename, size) {\n",
              "      if (!google.colab.kernel.accessAllowed) {\n",
              "        return;\n",
              "      }\n",
              "      const div = document.createElement('div');\n",
              "      const label = document.createElement('label');\n",
              "      label.textContent = `Downloading \"${filename}\": `;\n",
              "      div.appendChild(label);\n",
              "      const progress = document.createElement('progress');\n",
              "      progress.max = size;\n",
              "      div.appendChild(progress);\n",
              "      document.body.appendChild(div);\n",
              "\n",
              "      const buffers = [];\n",
              "      let downloaded = 0;\n",
              "\n",
              "      const channel = await google.colab.kernel.comms.open(id);\n",
              "      // Send a message to notify the kernel that we're ready.\n",
              "      channel.send({})\n",
              "\n",
              "      for await (const message of channel.messages) {\n",
              "        // Send a message to notify the kernel that we're ready.\n",
              "        channel.send({})\n",
              "        if (message.buffers) {\n",
              "          for (const buffer of message.buffers) {\n",
              "            buffers.push(buffer);\n",
              "            downloaded += buffer.byteLength;\n",
              "            progress.value = downloaded;\n",
              "          }\n",
              "        }\n",
              "      }\n",
              "      const blob = new Blob(buffers, {type: 'application/binary'});\n",
              "      const a = document.createElement('a');\n",
              "      a.href = window.URL.createObjectURL(blob);\n",
              "      a.download = filename;\n",
              "      div.appendChild(a);\n",
              "      a.click();\n",
              "      div.remove();\n",
              "    }\n",
              "  "
            ],
            "text/plain": [
              "<IPython.core.display.Javascript object>"
            ]
          },
          "metadata": {}
        },
        {
          "output_type": "display_data",
          "data": {
            "application/javascript": [
              "download(\"download_1fe1743f-6a8e-48ce-ae33-84009e09dc78\", \"audio_features_predictions.csv\", 14322633)"
            ],
            "text/plain": [
              "<IPython.core.display.Javascript object>"
            ]
          },
          "metadata": {}
        }
      ]
    },
    {
      "cell_type": "code",
      "metadata": {
        "id": "MHZXspZ1f1sm"
      },
      "source": [
        "# PREPROCESSING\n",
        "kaggle_data = kaggle_data.drop_duplicates()\n",
        "\n",
        "def lemmatize(text):\n",
        "  lemmatizer = WordNetLemmatizer()\n",
        "  tokenization = nltk.word_tokenize(text)\n",
        "  return ' '.join([lemmatizer.lemmatize(words) for words in tokenization ])\n",
        "\n",
        "def strip_punct(text):\n",
        "  table = str.maketrans(dict.fromkeys(string.punctuation))\n",
        "  return text.translate(table)\n",
        "\n",
        "def strip_stop(unwanted_word_list, text):\n",
        "  return ' '.join(['' if word in unwanted_word_list else word for word in text.split()])\n",
        "\n",
        "#convert to lowercase\n",
        "spotify_songs[\"lyrics\"] = spotify_songs[\"lyrics\"].str.lower()\n",
        "kaggle_data[\"lyrics\"] = kaggle_data[\"lyrics\"].str.lower()\n",
        "\n",
        "# Strip punctuation\n",
        "spotify_songs[\"lyrics\"] = spotify_songs[\"lyrics\"].apply(lambda x: strip_punct(x))\n",
        "kaggle_data[\"lyrics\"] = kaggle_data[\"lyrics\"].apply(lambda x: strip_punct(x))\n",
        "\n",
        "# # Lemmatize all the words\n",
        "stemmer = WordNetLemmatizer()\n",
        "spotify_songs[\"lyrics\"] = spotify_songs[\"lyrics\"].apply(lambda x: lemmatize(x))\n",
        "kaggle_data[\"lyrics\"] = kaggle_data[\"lyrics\"].apply(lambda x: lemmatize(x))\n",
        "\n",
        "# # Strip stop words\n",
        "stop_words = stopwords.words('english')\n",
        "spotify_songs[\"lyrics\"] = spotify_songs[\"lyrics\"].apply(lambda x: strip_stop(stop_words, x))\n",
        "kaggle_data[\"lyrics\"] = kaggle_data[\"lyrics\"].apply(lambda x: strip_stop(stop_words, x))"
      ],
      "execution_count": null,
      "outputs": []
    },
    {
      "cell_type": "code",
      "metadata": {
        "colab": {
          "base_uri": "https://localhost:8080/"
        },
        "id": "ElZVOkyH_5zc",
        "outputId": "5eeef236-bd05-41f5-edd4-8e25c7ebf5dd"
      },
      "source": [
        "# [START] VERSION 3: COMBINED AUDIO FEATURES + BOW LYRICS\n",
        "from sklearn_pandas import DataFrameMapper\n",
        "kaggle_data_v3 = kaggle_data.copy()\n",
        "x_combo_set = spotify_songs[['danceability', 'energy', 'loudness', 'valence', 'lyrics']]\n",
        "y_combo_set = spotify_songs['isHappy']\n",
        "\n",
        "mapper = DataFrameMapper([\n",
        "    (['danceability', 'energy', 'loudness', 'valence'], None),\n",
        "    ('lyrics', CountVectorizer(binary=True, min_df=5))\n",
        "])\n",
        "combined_X = mapper.fit_transform(x_combo_set)\n",
        "print('combined_X shape:', combined_X.shape)\n",
        "combo_model = LogisticRegression(penalty='l2').fit(combined_X, y_combo_set)"
      ],
      "execution_count": null,
      "outputs": [
        {
          "output_type": "stream",
          "name": "stderr",
          "text": [
            "/usr/local/lib/python3.7/dist-packages/sklearn/utils/deprecation.py:87: FutureWarning: Function get_feature_names is deprecated; get_feature_names is deprecated in 1.0 and will be removed in 1.2. Please use get_feature_names_out instead.\n",
            "  warnings.warn(msg, category=FutureWarning)\n"
          ]
        },
        {
          "output_type": "stream",
          "name": "stdout",
          "text": [
            "combined_X shape: (5686, 33589)\n"
          ]
        },
        {
          "output_type": "stream",
          "name": "stderr",
          "text": [
            "/usr/local/lib/python3.7/dist-packages/sklearn/linear_model/_logistic.py:818: ConvergenceWarning: lbfgs failed to converge (status=1):\n",
            "STOP: TOTAL NO. of ITERATIONS REACHED LIMIT.\n",
            "\n",
            "Increase the number of iterations (max_iter) or scale the data as shown in:\n",
            "    https://scikit-learn.org/stable/modules/preprocessing.html\n",
            "Please also refer to the documentation for alternative solver options:\n",
            "    https://scikit-learn.org/stable/modules/linear_model.html#logistic-regression\n",
            "  extra_warning_msg=_LOGISTIC_SOLVER_CONVERGENCE_MSG,\n"
          ]
        }
      ]
    },
    {
      "cell_type": "code",
      "metadata": {
        "id": "nYqI2vh0BQ4S"
      },
      "source": [
        "combined_X_kaggle = mapper.transform(kaggle_data_v3[['danceability', 'energy', 'loudness', 'valence', 'lyrics']])\n",
        "print('combined_X_kaggle shape:', combined_X_kaggle.shape)\n",
        "\n",
        "combo_preds = combo_model.predict(combined_X_kaggle)\n",
        "kaggle_data_v3['combo_features_preds'] = combo_preds\n",
        "kaggle_data_v3"
      ],
      "execution_count": null,
      "outputs": []
    },
    {
      "cell_type": "code",
      "metadata": {
        "colab": {
          "base_uri": "https://localhost:8080/",
          "height": 17
        },
        "id": "4xkbW3y1I61b",
        "outputId": "43616fad-d2f1-457b-9628-5ebfedd79528"
      },
      "source": [
        "from google.colab import files\n",
        "kaggle_data_v3.to_csv('combo_lyrics_features_predictions.csv')\n",
        "files.download('combo_lyrics_features_predictions.csv')\n",
        "# [END] VERSION 3: COMBINED AUDIO FEATURES + BOW LYRICS"
      ],
      "execution_count": null,
      "outputs": [
        {
          "output_type": "display_data",
          "data": {
            "application/javascript": [
              "\n",
              "    async function download(id, filename, size) {\n",
              "      if (!google.colab.kernel.accessAllowed) {\n",
              "        return;\n",
              "      }\n",
              "      const div = document.createElement('div');\n",
              "      const label = document.createElement('label');\n",
              "      label.textContent = `Downloading \"${filename}\": `;\n",
              "      div.appendChild(label);\n",
              "      const progress = document.createElement('progress');\n",
              "      progress.max = size;\n",
              "      div.appendChild(progress);\n",
              "      document.body.appendChild(div);\n",
              "\n",
              "      const buffers = [];\n",
              "      let downloaded = 0;\n",
              "\n",
              "      const channel = await google.colab.kernel.comms.open(id);\n",
              "      // Send a message to notify the kernel that we're ready.\n",
              "      channel.send({})\n",
              "\n",
              "      for await (const message of channel.messages) {\n",
              "        // Send a message to notify the kernel that we're ready.\n",
              "        channel.send({})\n",
              "        if (message.buffers) {\n",
              "          for (const buffer of message.buffers) {\n",
              "            buffers.push(buffer);\n",
              "            downloaded += buffer.byteLength;\n",
              "            progress.value = downloaded;\n",
              "          }\n",
              "        }\n",
              "      }\n",
              "      const blob = new Blob(buffers, {type: 'application/binary'});\n",
              "      const a = document.createElement('a');\n",
              "      a.href = window.URL.createObjectURL(blob);\n",
              "      a.download = filename;\n",
              "      div.appendChild(a);\n",
              "      a.click();\n",
              "      div.remove();\n",
              "    }\n",
              "  "
            ],
            "text/plain": [
              "<IPython.core.display.Javascript object>"
            ]
          },
          "metadata": {}
        },
        {
          "output_type": "display_data",
          "data": {
            "application/javascript": [
              "download(\"download_131cfb1e-0e65-4d59-b56c-34bde0b94960\", \"combo_lyrics_features_predictions.csv\", 9450470)"
            ],
            "text/plain": [
              "<IPython.core.display.Javascript object>"
            ]
          },
          "metadata": {}
        }
      ]
    },
    {
      "cell_type": "code",
      "metadata": {
        "id": "9AgO9gGVf15f",
        "colab": {
          "base_uri": "https://localhost:8080/"
        },
        "outputId": "21a08d6d-554e-43bc-d1a3-318e42f8de09"
      },
      "source": [
        "#Bag of words model happy\n",
        "vectorizer = CountVectorizer(binary=True, min_df=5)\n",
        "happy_spot_x = vectorizer.fit_transform(spotify_songs['lyrics'])\n",
        "\n",
        "happy_spot_x.toarray()\n",
        "happy_spot_model = LogisticRegression(penalty='l2').fit(happy_spot_x, spotify_songs['isHappy'])\n",
        "y_train_pred = happy_spot_model.predict(happy_spot_x)\n",
        "train_f1_score = f1_score(spotify_songs['isHappy'], y_train_pred)\n",
        "train_f1_score\n",
        "\n",
        "\n"
      ],
      "execution_count": null,
      "outputs": [
        {
          "output_type": "stream",
          "name": "stderr",
          "text": [
            "/usr/local/lib/python3.7/dist-packages/sklearn/linear_model/_logistic.py:818: ConvergenceWarning: lbfgs failed to converge (status=1):\n",
            "STOP: TOTAL NO. of ITERATIONS REACHED LIMIT.\n",
            "\n",
            "Increase the number of iterations (max_iter) or scale the data as shown in:\n",
            "    https://scikit-learn.org/stable/modules/preprocessing.html\n",
            "Please also refer to the documentation for alternative solver options:\n",
            "    https://scikit-learn.org/stable/modules/linear_model.html#logistic-regression\n",
            "  extra_warning_msg=_LOGISTIC_SOLVER_CONVERGENCE_MSG,\n"
          ]
        },
        {
          "output_type": "execute_result",
          "data": {
            "text/plain": [
              "0.9839972761321076"
            ]
          },
          "metadata": {},
          "execution_count": 10
        }
      ]
    },
    {
      "cell_type": "code",
      "metadata": {
        "id": "aqyOv0yPf18c",
        "colab": {
          "base_uri": "https://localhost:8080/"
        },
        "outputId": "6c1ead59-0364-4713-f8e1-84d5b5c47ddc"
      },
      "source": [
        "# Test happy \n",
        "test = vectorizer.transform(kaggle_data['lyrics'])\n",
        "y_test_pred = happy_spot_model.predict(test)\n",
        "test_f1_score = f1_score(kaggle_data['isHappy'], y_test_pred)\n",
        "test_f1_score\n",
        "\n"
      ],
      "execution_count": null,
      "outputs": [
        {
          "output_type": "execute_result",
          "data": {
            "text/plain": [
              "0.3378160301237224"
            ]
          },
          "metadata": {},
          "execution_count": 11
        }
      ]
    },
    {
      "cell_type": "code",
      "metadata": {
        "id": "GPS-W7diZ1SR"
      },
      "source": [
        "kaggle_data['isHappy_pred'] = y_test_pred"
      ],
      "execution_count": null,
      "outputs": []
    },
    {
      "cell_type": "code",
      "metadata": {
        "id": "H0DZc2HIf1_o"
      },
      "source": [
        "#Bag of words model sad\n",
        "vectorizer = CountVectorizer(binary=True, min_df=5)\n",
        "sad_spot_x = vectorizer.fit_transform(spotify_songs['lyrics'])\n",
        "\n",
        "sad_spot_x.toarray()\n",
        "sad_spot_model = LogisticRegression(penalty='l2').fit(sad_spot_x, spotify_songs['isSad'])\n",
        "y_train_pred = sad_spot_model.predict(sad_spot_x)\n",
        "train_f1_score = f1_score(spotify_songs['isSad'], y_train_pred)\n",
        "train_f1_score\n",
        "\n"
      ],
      "execution_count": null,
      "outputs": []
    },
    {
      "cell_type": "code",
      "metadata": {
        "id": "ADEruIHLE9Qs"
      },
      "source": [
        "# Test sad\n",
        "test = vectorizer.transform(kaggle_data['lyrics'])\n",
        "y_test_pred = sad_spot_model.predict(test)\n",
        "test_f1_score = f1_score(kaggle_data['isSad'], y_test_pred)\n",
        "test_f1_score"
      ],
      "execution_count": null,
      "outputs": []
    },
    {
      "cell_type": "code",
      "metadata": {
        "id": "3xCFJWrKaSTu"
      },
      "source": [
        "kaggle_data['isSad_pred'] = y_test_pred"
      ],
      "execution_count": null,
      "outputs": []
    },
    {
      "cell_type": "code",
      "metadata": {
        "id": "ryvbdJu5aWDa"
      },
      "source": [
        "kaggle_data"
      ],
      "execution_count": null,
      "outputs": []
    },
    {
      "cell_type": "code",
      "metadata": {
        "id": "pyUq4VY1ako-"
      },
      "source": [
        "kaggle_data.to_csv('spotify_songs_predictions.csv')\n",
        "files.download('spotify_songs_predictions.csv')"
      ],
      "execution_count": null,
      "outputs": []
    },
    {
      "cell_type": "code",
      "metadata": {
        "id": "8y50f7kG81TE"
      },
      "source": [
        "#################################combine datasets###############################"
      ],
      "execution_count": null,
      "outputs": []
    },
    {
      "cell_type": "code",
      "metadata": {
        "id": "jyQe2eypFJcM",
        "colab": {
          "base_uri": "https://localhost:8080/",
          "height": 912
        },
        "outputId": "d6f6e1a8-4303-4e8d-d115-cc60ff562683"
      },
      "source": [
        "#combine datasets\n",
        "\n",
        "#kaggle random data \n",
        "kaggle_test = raw_kaggle_songs.sample(n=10000, random_state=1).reset_index(drop=True)\n",
        "kaggle_train = pd.concat([raw_kaggle_songs, kaggle_test]).drop_duplicates(keep=False).sample(n=5000, random_state=1).reset_index(drop=True)\n",
        "\n",
        "spotify_train = spotify_songs.sample(n=5000, random_state=1).reset_index(drop=True)\n",
        "combo_data = pd.concat([kaggle_train, spotify_train]).drop_duplicates(keep=False).reset_index(drop=True)\n",
        "\n",
        "combo_data['isHappy'] = combo_data.apply(lambda row: 1 if row['label'] == 'Joy' else 0, axis=1)\n",
        "combo_data['isSad'] = combo_data.apply(lambda row: 1 if row['label'] == 'Sadness' else 0, axis=1)\n",
        "\n",
        "kaggle_test['isHappy'] = kaggle_test.apply(lambda row: 1 if row['label'] == 'Joy' else 0, axis=1)\n",
        "kaggle_test['isSad'] = kaggle_test.apply(lambda row: 1 if row['label'] == 'Sadness' else 0, axis=1)\n",
        "\n",
        "\n",
        "combo_data"
      ],
      "execution_count": null,
      "outputs": [
        {
          "output_type": "execute_result",
          "data": {
            "text/html": [
              "<div>\n",
              "<style scoped>\n",
              "    .dataframe tbody tr th:only-of-type {\n",
              "        vertical-align: middle;\n",
              "    }\n",
              "\n",
              "    .dataframe tbody tr th {\n",
              "        vertical-align: top;\n",
              "    }\n",
              "\n",
              "    .dataframe thead th {\n",
              "        text-align: right;\n",
              "    }\n",
              "</style>\n",
              "<table border=\"1\" class=\"dataframe\">\n",
              "  <thead>\n",
              "    <tr style=\"text-align: right;\">\n",
              "      <th></th>\n",
              "      <th>Unnamed: 0</th>\n",
              "      <th>track_id</th>\n",
              "      <th>track_name</th>\n",
              "      <th>track_artist</th>\n",
              "      <th>lyrics</th>\n",
              "      <th>track_popularity</th>\n",
              "      <th>track_album_id</th>\n",
              "      <th>track_album_name</th>\n",
              "      <th>track_album_release_date</th>\n",
              "      <th>playlist_name</th>\n",
              "      <th>playlist_id</th>\n",
              "      <th>playlist_genre</th>\n",
              "      <th>playlist_subgenre</th>\n",
              "      <th>danceability</th>\n",
              "      <th>energy</th>\n",
              "      <th>key</th>\n",
              "      <th>loudness</th>\n",
              "      <th>mode</th>\n",
              "      <th>speechiness</th>\n",
              "      <th>acousticness</th>\n",
              "      <th>instrumentalness</th>\n",
              "      <th>liveness</th>\n",
              "      <th>valence</th>\n",
              "      <th>tempo</th>\n",
              "      <th>duration_ms</th>\n",
              "      <th>language</th>\n",
              "      <th>label</th>\n",
              "      <th>artist</th>\n",
              "      <th>album</th>\n",
              "      <th>time_signature</th>\n",
              "      <th>isHappy</th>\n",
              "      <th>isSad</th>\n",
              "    </tr>\n",
              "  </thead>\n",
              "  <tbody>\n",
              "    <tr>\n",
              "      <th>0</th>\n",
              "      <td>11879</td>\n",
              "      <td>524wRHQekJJvQWtAIy115v</td>\n",
              "      <td>Where Are You Tonight</td>\n",
              "      <td>Coro</td>\n",
              "      <td>Here I lay all alone in the night Beside mysel...</td>\n",
              "      <td>38.0</td>\n",
              "      <td>7E4FS3eSJtdjI00NBbtnDY</td>\n",
              "      <td>Freestyle's Best Extended Versions Volumes 1 &amp; 2</td>\n",
              "      <td>2003</td>\n",
              "      <td>80's Freestyle/Disco Dance Party (Set Crossfad...</td>\n",
              "      <td>1oReEujyWpQv2OX68BVPPA</td>\n",
              "      <td>latin</td>\n",
              "      <td>latin hip hop</td>\n",
              "      <td>0.715</td>\n",
              "      <td>0.572</td>\n",
              "      <td>6</td>\n",
              "      <td>-10.331</td>\n",
              "      <td>0</td>\n",
              "      <td>0.0586</td>\n",
              "      <td>0.00522</td>\n",
              "      <td>0.102000</td>\n",
              "      <td>0.0850</td>\n",
              "      <td>0.6700</td>\n",
              "      <td>118.343</td>\n",
              "      <td>313507</td>\n",
              "      <td>en</td>\n",
              "      <td>Sadness</td>\n",
              "      <td>NaN</td>\n",
              "      <td>NaN</td>\n",
              "      <td>NaN</td>\n",
              "      <td>0</td>\n",
              "      <td>1</td>\n",
              "    </tr>\n",
              "    <tr>\n",
              "      <th>1</th>\n",
              "      <td>11891</td>\n",
              "      <td>52dm9op3rbfAkc1LGXgipW</td>\n",
              "      <td>Wild Horses</td>\n",
              "      <td>The Rolling Stones</td>\n",
              "      <td>Childhood living is easy to do The things you ...</td>\n",
              "      <td>72.0</td>\n",
              "      <td>29m6DinzdaD0OPqWKGyMdz</td>\n",
              "      <td>Sticky Fingers (Remastered)</td>\n",
              "      <td>1971-04-23</td>\n",
              "      <td>Rock Classics</td>\n",
              "      <td>37i9dQZF1DWXRqgorJj26U</td>\n",
              "      <td>rock</td>\n",
              "      <td>classic rock</td>\n",
              "      <td>0.432</td>\n",
              "      <td>0.389</td>\n",
              "      <td>7</td>\n",
              "      <td>-6.517</td>\n",
              "      <td>1</td>\n",
              "      <td>0.0255</td>\n",
              "      <td>0.68700</td>\n",
              "      <td>0.010700</td>\n",
              "      <td>0.0788</td>\n",
              "      <td>0.1580</td>\n",
              "      <td>139.506</td>\n",
              "      <td>341773</td>\n",
              "      <td>en</td>\n",
              "      <td>Sadness</td>\n",
              "      <td>NaN</td>\n",
              "      <td>NaN</td>\n",
              "      <td>NaN</td>\n",
              "      <td>0</td>\n",
              "      <td>1</td>\n",
              "    </tr>\n",
              "    <tr>\n",
              "      <th>2</th>\n",
              "      <td>12334</td>\n",
              "      <td>5byYO8JjkxV27yQYo2pDRx</td>\n",
              "      <td>Summergirls</td>\n",
              "      <td>Dino</td>\n",
              "      <td>Summertime's in the air And summergirls are ev...</td>\n",
              "      <td>28.0</td>\n",
              "      <td>6CC4LpUaizMwq7yOzSpwNo</td>\n",
              "      <td>24/7</td>\n",
              "      <td>1989-01-01</td>\n",
              "      <td>80's Freestyle/Disco Dance Party (Set Crossfad...</td>\n",
              "      <td>1oReEujyWpQv2OX68BVPPA</td>\n",
              "      <td>latin</td>\n",
              "      <td>latin hip hop</td>\n",
              "      <td>0.764</td>\n",
              "      <td>0.580</td>\n",
              "      <td>9</td>\n",
              "      <td>-15.200</td>\n",
              "      <td>0</td>\n",
              "      <td>0.0930</td>\n",
              "      <td>0.00219</td>\n",
              "      <td>0.055100</td>\n",
              "      <td>0.1460</td>\n",
              "      <td>0.8100</td>\n",
              "      <td>121.343</td>\n",
              "      <td>376573</td>\n",
              "      <td>en</td>\n",
              "      <td>Joy</td>\n",
              "      <td>NaN</td>\n",
              "      <td>NaN</td>\n",
              "      <td>NaN</td>\n",
              "      <td>1</td>\n",
              "      <td>0</td>\n",
              "    </tr>\n",
              "    <tr>\n",
              "      <th>3</th>\n",
              "      <td>739</td>\n",
              "      <td>0eXU92qkEfIWu4SQOILFU3</td>\n",
              "      <td>Still Got Me (feat. Jocelyn Bowman)</td>\n",
              "      <td>GAWVI</td>\n",
              "      <td>Is it your touch giving me life, oh It's such ...</td>\n",
              "      <td>0.0</td>\n",
              "      <td>6ZyLjp2vCP3qUeII4Diu64</td>\n",
              "      <td>Holding Hue - EP</td>\n",
              "      <td>2016-09-09</td>\n",
              "      <td>CHRISTIAN ELECTRO / DANCE / EDM</td>\n",
              "      <td>0MhTMIo1bgH6zzPh7BdChT</td>\n",
              "      <td>edm</td>\n",
              "      <td>progressive electro house</td>\n",
              "      <td>0.658</td>\n",
              "      <td>0.634</td>\n",
              "      <td>6</td>\n",
              "      <td>-6.256</td>\n",
              "      <td>1</td>\n",
              "      <td>0.0373</td>\n",
              "      <td>0.09290</td>\n",
              "      <td>0.004030</td>\n",
              "      <td>0.1080</td>\n",
              "      <td>0.6530</td>\n",
              "      <td>112.053</td>\n",
              "      <td>230364</td>\n",
              "      <td>en</td>\n",
              "      <td>Joy</td>\n",
              "      <td>NaN</td>\n",
              "      <td>NaN</td>\n",
              "      <td>NaN</td>\n",
              "      <td>1</td>\n",
              "      <td>0</td>\n",
              "    </tr>\n",
              "    <tr>\n",
              "      <th>4</th>\n",
              "      <td>4023</td>\n",
              "      <td>1PwxKTZydKhqiMHRZoFfn4</td>\n",
              "      <td>Step Up</td>\n",
              "      <td>Pete Rock / InI</td>\n",
              "      <td>A little bit, if you can get it out I ain't go...</td>\n",
              "      <td>0.0</td>\n",
              "      <td>4VVJkmbxlv2y8xkeaSWbsE</td>\n",
              "      <td>Hip Hop Underground Soul Classics</td>\n",
              "      <td>2003-11-04</td>\n",
              "      <td>Smooth Hip Hop</td>\n",
              "      <td>7ozFIvz1bE1HPgQTUl5qfT</td>\n",
              "      <td>r&amp;b</td>\n",
              "      <td>hip pop</td>\n",
              "      <td>0.778</td>\n",
              "      <td>0.695</td>\n",
              "      <td>1</td>\n",
              "      <td>-8.662</td>\n",
              "      <td>1</td>\n",
              "      <td>0.2420</td>\n",
              "      <td>0.29000</td>\n",
              "      <td>0.000347</td>\n",
              "      <td>0.1080</td>\n",
              "      <td>0.6640</td>\n",
              "      <td>90.925</td>\n",
              "      <td>285200</td>\n",
              "      <td>en</td>\n",
              "      <td>Fear</td>\n",
              "      <td>NaN</td>\n",
              "      <td>NaN</td>\n",
              "      <td>NaN</td>\n",
              "      <td>0</td>\n",
              "      <td>0</td>\n",
              "    </tr>\n",
              "    <tr>\n",
              "      <th>...</th>\n",
              "      <td>...</td>\n",
              "      <td>...</td>\n",
              "      <td>...</td>\n",
              "      <td>...</td>\n",
              "      <td>...</td>\n",
              "      <td>...</td>\n",
              "      <td>...</td>\n",
              "      <td>...</td>\n",
              "      <td>...</td>\n",
              "      <td>...</td>\n",
              "      <td>...</td>\n",
              "      <td>...</td>\n",
              "      <td>...</td>\n",
              "      <td>...</td>\n",
              "      <td>...</td>\n",
              "      <td>...</td>\n",
              "      <td>...</td>\n",
              "      <td>...</td>\n",
              "      <td>...</td>\n",
              "      <td>...</td>\n",
              "      <td>...</td>\n",
              "      <td>...</td>\n",
              "      <td>...</td>\n",
              "      <td>...</td>\n",
              "      <td>...</td>\n",
              "      <td>...</td>\n",
              "      <td>...</td>\n",
              "      <td>...</td>\n",
              "      <td>...</td>\n",
              "      <td>...</td>\n",
              "      <td>...</td>\n",
              "      <td>...</td>\n",
              "    </tr>\n",
              "    <tr>\n",
              "      <th>9995</th>\n",
              "      <td>3641</td>\n",
              "      <td>0HuNPrWCyZpCx59pu9ON99</td>\n",
              "      <td>Immortality (feat. Bee Gees)</td>\n",
              "      <td>NaN</td>\n",
              "      <td>So this is who I am\\nAnd this is all I know\\nA...</td>\n",
              "      <td>NaN</td>\n",
              "      <td>NaN</td>\n",
              "      <td>NaN</td>\n",
              "      <td>NaN</td>\n",
              "      <td>NaN</td>\n",
              "      <td>NaN</td>\n",
              "      <td>NaN</td>\n",
              "      <td>NaN</td>\n",
              "      <td>0.546</td>\n",
              "      <td>0.315</td>\n",
              "      <td>2</td>\n",
              "      <td>-11.208</td>\n",
              "      <td>1</td>\n",
              "      <td>0.0324</td>\n",
              "      <td>NaN</td>\n",
              "      <td>0.000003</td>\n",
              "      <td>0.0795</td>\n",
              "      <td>0.0756</td>\n",
              "      <td>82.951</td>\n",
              "      <td>250893</td>\n",
              "      <td>NaN</td>\n",
              "      <td>NaN</td>\n",
              "      <td>Céline Dion</td>\n",
              "      <td>Let's Talk About Love</td>\n",
              "      <td>4.0</td>\n",
              "      <td>0</td>\n",
              "      <td>0</td>\n",
              "    </tr>\n",
              "    <tr>\n",
              "      <th>9996</th>\n",
              "      <td>701</td>\n",
              "      <td>0Ph6L4l8dYUuXFmb71Ajnd</td>\n",
              "      <td>Livin' la Vida Loca</td>\n",
              "      <td>NaN</td>\n",
              "      <td>[Verse 1]\\nShe's into superstitions\\nBlack cat...</td>\n",
              "      <td>NaN</td>\n",
              "      <td>NaN</td>\n",
              "      <td>NaN</td>\n",
              "      <td>NaN</td>\n",
              "      <td>NaN</td>\n",
              "      <td>NaN</td>\n",
              "      <td>NaN</td>\n",
              "      <td>NaN</td>\n",
              "      <td>0.425</td>\n",
              "      <td>0.954</td>\n",
              "      <td>1</td>\n",
              "      <td>-3.756</td>\n",
              "      <td>0</td>\n",
              "      <td>0.0476</td>\n",
              "      <td>NaN</td>\n",
              "      <td>0.000000</td>\n",
              "      <td>0.0555</td>\n",
              "      <td>0.9330</td>\n",
              "      <td>178.043</td>\n",
              "      <td>243160</td>\n",
              "      <td>NaN</td>\n",
              "      <td>NaN</td>\n",
              "      <td>Ricky Martin</td>\n",
              "      <td>Ricky Martin</td>\n",
              "      <td>4.0</td>\n",
              "      <td>0</td>\n",
              "      <td>0</td>\n",
              "    </tr>\n",
              "    <tr>\n",
              "      <th>9997</th>\n",
              "      <td>2928</td>\n",
              "      <td>3S4px9f4lceWdKf0gWciFu</td>\n",
              "      <td>Cheap Thrills</td>\n",
              "      <td>NaN</td>\n",
              "      <td>[Verse 1]\\nCome on, come on, turn the radio on...</td>\n",
              "      <td>NaN</td>\n",
              "      <td>NaN</td>\n",
              "      <td>NaN</td>\n",
              "      <td>NaN</td>\n",
              "      <td>NaN</td>\n",
              "      <td>NaN</td>\n",
              "      <td>NaN</td>\n",
              "      <td>NaN</td>\n",
              "      <td>0.628</td>\n",
              "      <td>0.698</td>\n",
              "      <td>6</td>\n",
              "      <td>-5.608</td>\n",
              "      <td>0</td>\n",
              "      <td>0.1050</td>\n",
              "      <td>NaN</td>\n",
              "      <td>0.001430</td>\n",
              "      <td>0.0907</td>\n",
              "      <td>0.7320</td>\n",
              "      <td>89.976</td>\n",
              "      <td>211667</td>\n",
              "      <td>NaN</td>\n",
              "      <td>NaN</td>\n",
              "      <td>Sia</td>\n",
              "      <td>This Is Acting (Deluxe Version)</td>\n",
              "      <td>4.0</td>\n",
              "      <td>0</td>\n",
              "      <td>0</td>\n",
              "    </tr>\n",
              "    <tr>\n",
              "      <th>9998</th>\n",
              "      <td>5031</td>\n",
              "      <td>60UpYVsYj2ytkFay5Rgeg1</td>\n",
              "      <td>Love You All over Again</td>\n",
              "      <td>NaN</td>\n",
              "      <td>There are a lot of things in this life that do...</td>\n",
              "      <td>NaN</td>\n",
              "      <td>NaN</td>\n",
              "      <td>NaN</td>\n",
              "      <td>NaN</td>\n",
              "      <td>NaN</td>\n",
              "      <td>NaN</td>\n",
              "      <td>NaN</td>\n",
              "      <td>NaN</td>\n",
              "      <td>0.528</td>\n",
              "      <td>0.759</td>\n",
              "      <td>2</td>\n",
              "      <td>-4.874</td>\n",
              "      <td>1</td>\n",
              "      <td>0.0264</td>\n",
              "      <td>NaN</td>\n",
              "      <td>0.000000</td>\n",
              "      <td>0.1100</td>\n",
              "      <td>0.5470</td>\n",
              "      <td>89.927</td>\n",
              "      <td>212507</td>\n",
              "      <td>NaN</td>\n",
              "      <td>NaN</td>\n",
              "      <td>Love, Lies and Fiction</td>\n",
              "      <td>Love You All over Again</td>\n",
              "      <td>4.0</td>\n",
              "      <td>0</td>\n",
              "      <td>0</td>\n",
              "    </tr>\n",
              "    <tr>\n",
              "      <th>9999</th>\n",
              "      <td>1495</td>\n",
              "      <td>2xLOMHjkOK8nzxJ4r6yOKR</td>\n",
              "      <td>Birthday</td>\n",
              "      <td>NaN</td>\n",
              "      <td>[Verse 1]\\nI heard you're feeling nothing's go...</td>\n",
              "      <td>NaN</td>\n",
              "      <td>NaN</td>\n",
              "      <td>NaN</td>\n",
              "      <td>NaN</td>\n",
              "      <td>NaN</td>\n",
              "      <td>NaN</td>\n",
              "      <td>NaN</td>\n",
              "      <td>NaN</td>\n",
              "      <td>0.719</td>\n",
              "      <td>0.674</td>\n",
              "      <td>11</td>\n",
              "      <td>-5.122</td>\n",
              "      <td>1</td>\n",
              "      <td>0.0681</td>\n",
              "      <td>NaN</td>\n",
              "      <td>0.000004</td>\n",
              "      <td>0.1120</td>\n",
              "      <td>0.8430</td>\n",
              "      <td>125.980</td>\n",
              "      <td>215042</td>\n",
              "      <td>NaN</td>\n",
              "      <td>NaN</td>\n",
              "      <td>Katy Perry</td>\n",
              "      <td>PRISM (Deluxe)</td>\n",
              "      <td>4.0</td>\n",
              "      <td>0</td>\n",
              "      <td>0</td>\n",
              "    </tr>\n",
              "  </tbody>\n",
              "</table>\n",
              "<p>10000 rows × 32 columns</p>\n",
              "</div>"
            ],
            "text/plain": [
              "      Unnamed: 0                track_id  ... isHappy isSad\n",
              "0          11879  524wRHQekJJvQWtAIy115v  ...       0     1\n",
              "1          11891  52dm9op3rbfAkc1LGXgipW  ...       0     1\n",
              "2          12334  5byYO8JjkxV27yQYo2pDRx  ...       1     0\n",
              "3            739  0eXU92qkEfIWu4SQOILFU3  ...       1     0\n",
              "4           4023  1PwxKTZydKhqiMHRZoFfn4  ...       0     0\n",
              "...          ...                     ...  ...     ...   ...\n",
              "9995        3641  0HuNPrWCyZpCx59pu9ON99  ...       0     0\n",
              "9996         701  0Ph6L4l8dYUuXFmb71Ajnd  ...       0     0\n",
              "9997        2928  3S4px9f4lceWdKf0gWciFu  ...       0     0\n",
              "9998        5031  60UpYVsYj2ytkFay5Rgeg1  ...       0     0\n",
              "9999        1495  2xLOMHjkOK8nzxJ4r6yOKR  ...       0     0\n",
              "\n",
              "[10000 rows x 32 columns]"
            ]
          },
          "metadata": {},
          "execution_count": 12
        }
      ]
    },
    {
      "cell_type": "code",
      "metadata": {
        "id": "1kr1Z3YVAfy8"
      },
      "source": [
        "# PREPROCESSING\n",
        "\n",
        "def lemmatize(text):\n",
        "  lemmatizer = WordNetLemmatizer()\n",
        "  tokenization = nltk.word_tokenize(text)\n",
        "  return ' '.join([lemmatizer.lemmatize(words) for words in tokenization ])\n",
        "\n",
        "def strip_punct(text):\n",
        "  table = str.maketrans(dict.fromkeys(string.punctuation))\n",
        "  return text.translate(table)\n",
        "\n",
        "def strip_stop(unwanted_word_list, text):\n",
        "  return ' '.join(['' if word in unwanted_word_list else word for word in text.split()])\n",
        "\n",
        "#convert to lowercase\n",
        "combo_data[\"lyrics\"] = combo_data[\"lyrics\"].str.lower()\n",
        "kaggle_test[\"lyrics\"] = kaggle_test[\"lyrics\"].str.lower()\n",
        "\n",
        "# Strip punctuation\n",
        "combo_data[\"lyrics\"] = combo_data[\"lyrics\"].apply(lambda x: strip_punct(x))\n",
        "kaggle_test[\"lyrics\"] = kaggle_test[\"lyrics\"].apply(lambda x: strip_punct(x))\n",
        "\n",
        "# # Lemmatize all the words\n",
        "stemmer = WordNetLemmatizer()\n",
        "combo_data[\"lyrics\"] = combo_data[\"lyrics\"].apply(lambda x: lemmatize(x))\n",
        "kaggle_test[\"lyrics\"] = kaggle_test[\"lyrics\"].apply(lambda x: lemmatize(x))\n",
        "\n",
        "# # Strip stop words\n",
        "stop_words = stopwords.words('english')\n",
        "combo_data[\"lyrics\"] = combo_data[\"lyrics\"].apply(lambda x: strip_stop(stop_words, x))\n",
        "kaggle_test[\"lyrics\"] = kaggle_test[\"lyrics\"].apply(lambda x: strip_stop(stop_words, x))"
      ],
      "execution_count": null,
      "outputs": []
    },
    {
      "cell_type": "code",
      "metadata": {
        "id": "dtY7DIiiMZFd",
        "colab": {
          "base_uri": "https://localhost:8080/"
        },
        "outputId": "db05b8cd-6587-4cbb-b0a3-09ce8fb68605"
      },
      "source": [
        "#Bag of words model combo -- sad \n",
        "vectorizer = CountVectorizer(binary=True, min_df=5)\n",
        "combo_x = vectorizer.fit_transform(combo_data['lyrics'])\n",
        "\n",
        "combo_x.toarray()\n",
        "combo_model = LogisticRegression(penalty='l2').fit(combo_x, combo_data['isSad'])\n",
        "y_train_pred =  combo_model.predict(combo_x)\n",
        "train_f1_score = f1_score(combo_data['isSad'], y_train_pred)\n",
        "train_f1_score\n",
        "\n",
        "\n"
      ],
      "execution_count": null,
      "outputs": [
        {
          "output_type": "stream",
          "name": "stderr",
          "text": [
            "/usr/local/lib/python3.7/dist-packages/sklearn/linear_model/_logistic.py:818: ConvergenceWarning: lbfgs failed to converge (status=1):\n",
            "STOP: TOTAL NO. of ITERATIONS REACHED LIMIT.\n",
            "\n",
            "Increase the number of iterations (max_iter) or scale the data as shown in:\n",
            "    https://scikit-learn.org/stable/modules/preprocessing.html\n",
            "Please also refer to the documentation for alternative solver options:\n",
            "    https://scikit-learn.org/stable/modules/linear_model.html#logistic-regression\n",
            "  extra_warning_msg=_LOGISTIC_SOLVER_CONVERGENCE_MSG,\n"
          ]
        },
        {
          "output_type": "execute_result",
          "data": {
            "text/plain": [
              "0.9867976665643231"
            ]
          },
          "metadata": {},
          "execution_count": 14
        }
      ]
    },
    {
      "cell_type": "code",
      "metadata": {
        "id": "z7UtAaVv-7vs",
        "colab": {
          "base_uri": "https://localhost:8080/"
        },
        "outputId": "44a3c9e6-2ae6-4f56-8d5e-ee0cdfb8a525"
      },
      "source": [
        "# Test combo -- sad\n",
        "test = vectorizer.transform(kaggle_test['lyrics'])\n",
        "y_test_pred = combo_model.predict(test)\n",
        "test_f1_score = f1_score(kaggle_test['isSad'], y_test_pred)\n",
        "test_f1_score"
      ],
      "execution_count": null,
      "outputs": [
        {
          "output_type": "execute_result",
          "data": {
            "text/plain": [
              "0.6438063986874487"
            ]
          },
          "metadata": {},
          "execution_count": 15
        }
      ]
    },
    {
      "cell_type": "code",
      "metadata": {
        "id": "dtQX53aAH8qP"
      },
      "source": [
        "combo_data['isSad_pred'] = y_test_pred\n",
        "combo_data"
      ],
      "execution_count": null,
      "outputs": []
    },
    {
      "cell_type": "code",
      "metadata": {
        "id": "QxlFu0eZ_-uF",
        "colab": {
          "base_uri": "https://localhost:8080/"
        },
        "outputId": "34adb4de-1738-40b5-a2f6-a8d917f4e6e1"
      },
      "source": [
        "#Bag of words model combo -- happy \n",
        "vectorizer = CountVectorizer(binary=True, min_df=5)\n",
        "combo_x = vectorizer.fit_transform(combo_data['lyrics'])\n",
        "\n",
        "combo_x.toarray()\n",
        "combo_model = LogisticRegression(penalty='l2').fit(combo_x, combo_data['isHappy'])\n",
        "y_train_pred =  combo_model.predict(combo_x)\n",
        "train_f1_score = f1_score(combo_data['isHappy'], y_train_pred)\n",
        "train_f1_score\n"
      ],
      "execution_count": null,
      "outputs": [
        {
          "output_type": "stream",
          "name": "stderr",
          "text": [
            "/usr/local/lib/python3.7/dist-packages/sklearn/linear_model/_logistic.py:818: ConvergenceWarning: lbfgs failed to converge (status=1):\n",
            "STOP: TOTAL NO. of ITERATIONS REACHED LIMIT.\n",
            "\n",
            "Increase the number of iterations (max_iter) or scale the data as shown in:\n",
            "    https://scikit-learn.org/stable/modules/preprocessing.html\n",
            "Please also refer to the documentation for alternative solver options:\n",
            "    https://scikit-learn.org/stable/modules/linear_model.html#logistic-regression\n",
            "  extra_warning_msg=_LOGISTIC_SOLVER_CONVERGENCE_MSG,\n"
          ]
        },
        {
          "output_type": "execute_result",
          "data": {
            "text/plain": [
              "0.9851603638104356"
            ]
          },
          "metadata": {},
          "execution_count": 16
        }
      ]
    },
    {
      "cell_type": "code",
      "metadata": {
        "id": "lww0scT8C0jS",
        "colab": {
          "base_uri": "https://localhost:8080/"
        },
        "outputId": "dd47c0e3-a233-459e-ede0-1a7f98bcad6d"
      },
      "source": [
        "# Test combo -- happy\n",
        "test = vectorizer.transform(kaggle_test['lyrics'])\n",
        "y_test_pred = combo_model.predict(test)\n",
        "test_f1_score = f1_score(kaggle_test['isHappy'], y_test_pred)\n",
        "test_f1_score"
      ],
      "execution_count": null,
      "outputs": [
        {
          "output_type": "execute_result",
          "data": {
            "text/plain": [
              "0.6340519624101713"
            ]
          },
          "metadata": {},
          "execution_count": 17
        }
      ]
    },
    {
      "cell_type": "code",
      "metadata": {
        "id": "NwacQS-uC9KW"
      },
      "source": [
        "combo_data['isHappy_pred'] = y_test_pred"
      ],
      "execution_count": null,
      "outputs": []
    },
    {
      "cell_type": "code",
      "metadata": {
        "id": "cMB25E7ZHVt7"
      },
      "source": [
        "combo_data"
      ],
      "execution_count": null,
      "outputs": []
    },
    {
      "cell_type": "code",
      "metadata": {
        "id": "QjnTz8tQHXWC"
      },
      "source": [
        "#making outputted happy song dataset \n",
        "happy_songs = pd.DataFrame()\n",
        "\n",
        "for index, row in combo_data.iterrows():\n",
        "    if combo_data['isHappy_pred'][index] == 1:\n",
        "        #print(combo_data.iloc[index])\n",
        "        happy_songs = happy_songs.append(combo_data.iloc[index], ignore_index = True)"
      ],
      "execution_count": null,
      "outputs": []
    },
    {
      "cell_type": "code",
      "metadata": {
        "id": "k4-ODSSPKTUN"
      },
      "source": [
        "happy_songs"
      ],
      "execution_count": null,
      "outputs": []
    },
    {
      "cell_type": "code",
      "metadata": {
        "id": "DMLW_u4tKdbk"
      },
      "source": [
        "#making outputted sad song dataset \n",
        "sad_songs = pd.DataFrame()\n",
        "\n",
        "for index, row in combo_data.iterrows():\n",
        "    if combo_data['isSad_pred'][index] == 1:\n",
        "        #print(combo_data.iloc[index])\n",
        "        sad_songs = sad_songs.append(combo_data.iloc[index], ignore_index = True)"
      ],
      "execution_count": null,
      "outputs": []
    },
    {
      "cell_type": "code",
      "metadata": {
        "id": "OBlEb8NvNN7r"
      },
      "source": [
        "sad_songs"
      ],
      "execution_count": null,
      "outputs": []
    },
    {
      "cell_type": "code",
      "metadata": {
        "id": "OTmm9PXnUjvx"
      },
      "source": [
        "from google.colab import files\n",
        "happy_songs.to_csv('outputted_happy_songs.csv')\n",
        "files.download('outputted_happy_songs.csv')"
      ],
      "execution_count": null,
      "outputs": []
    },
    {
      "cell_type": "code",
      "metadata": {
        "id": "BKZKsOIYUvt8"
      },
      "source": [
        "sad_songs.to_csv('outputted_sad_songs.csv')\n",
        "files.download('outputted_sad_songs.csv')"
      ],
      "execution_count": null,
      "outputs": []
    },
    {
      "cell_type": "code",
      "metadata": {
        "id": "4BEraboCYruB"
      },
      "source": [
        ""
      ],
      "execution_count": null,
      "outputs": []
    },
    {
      "cell_type": "code",
      "metadata": {
        "id": "P8Ei-WyfpoSm"
      },
      "source": [
        ""
      ],
      "execution_count": null,
      "outputs": []
    }
  ]
}